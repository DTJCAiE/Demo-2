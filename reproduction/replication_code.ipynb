{
 "cells": [
  {
   "cell_type": "markdown",
   "metadata": {},
   "source": [
    "#### Use required libraries"
   ]
  },
  {
   "cell_type": "code",
   "execution_count": null,
   "metadata": {},
   "outputs": [],
   "source": [
    "using Compat, Random, Distributions, Plots, LinearAlgebra, CSV, DataFrames, SpecialFunctions, Statistics, NLsolve, Optim, KernelDensity, LaTeXStrings\n",
    "gr(fmt=:png)\n",
    "Random.seed!(1);"
   ]
  },
  {
   "cell_type": "markdown",
   "metadata": {},
   "source": [
    "----\n",
    "#### Define new functions"
   ]
  },
  {
   "cell_type": "code",
   "execution_count": null,
   "metadata": {},
   "outputs": [],
   "source": [
    "function norm_den(x)\n",
    "    return 1/sqrt(2*π*s^2)*exp(-(x-m)^2/2/s^2)\n",
    "end\n",
    "\n",
    "function gap(x, g)\n",
    "    F = zeros(4)\n",
    "    a1 = abs(x[1])\n",
    "    a2 = abs(x[2])\n",
    "    b = abs(x[3])\n",
    "    w = min(abs(x[4]),1)\n",
    "    F[1] = g[1] - (w*a1*(a1+1) + b^2*(1-w)*(a2+1)*a2)/(w*a1 + b*(1-w)*a2)^2\n",
    "    F[2] = g[2] - (w*a1*(a1+1)*(a1+2)+b^3*(1-w)*(a2+2)*(a2+1)*a2)/(w*a1*(a1+1) + b^2*(1-w)*(a2+1)*a2)/(w*a1 + b*(1-w)*a2)\n",
    "    F[3] = g[3] - (w*a1*(a1+1)*(a1+2)*(a1+3)+b^4*(1-w)*(a2+3)*(a2+2)*(a2+1)*a2)/(w*a1*(a1+1) + b^2*(1-w)*(a2+1)*a2)^2\n",
    "    F[4] = g[4] - (w*a1*(a1+1)*(a1+2)*(a1+3)*(a1+4) + b^5*(1-w)*(a2+4)*(a2+3)*(a2+2)*(a2+1)*a2)/(w*a1*(a1+1) + b^2*(1-w)*(a2+1)*a2)/(w*a1*(a1+1)*(a1+2) + b^3*(1-w)*(a2+2)*(a2+1)*a2)\n",
    "    return sum(F.*F)\n",
    "end"
   ]
  },
  {
   "cell_type": "markdown",
   "metadata": {},
   "source": [
    "----\n",
    "#### Read the file"
   ]
  },
  {
   "cell_type": "markdown",
   "metadata": {},
   "source": [
    "<div class=\"alert alert-block alert-warning\">\n",
    "    <b>Replication Edit:</b> added sink arg for `CSV.read()` for the function to work. The issue can possibly due to different versions of the required libraries.\n",
    "</div>"
   ]
  },
  {
   "cell_type": "code",
   "execution_count": null,
   "metadata": {},
   "outputs": [],
   "source": [
    "df = CSV.read(\"/app/data/usa1.csv\", DataFrame); # Replication edit: needed to add sink arg"
   ]
  },
  {
   "cell_type": "markdown",
   "metadata": {},
   "source": [
    "----\n",
    "#### Fill the missing"
   ]
  },
  {
   "cell_type": "code",
   "execution_count": null,
   "metadata": {},
   "outputs": [],
   "source": [
    "count, L = 0, size(df,1)\n",
    "new_prices = zeros(L)\n",
    "for i in df.id\n",
    "    count = count + 1\n",
    "    if count < L\n",
    "        if isa(df.miss[count+1],Number) & !isa(df.miss[count],Number) & (df.id[count] == df.id[count+1])\n",
    "            j = count + 1\n",
    "            while (df.id[j] == df.id[count]) & isa.(df.miss[j],Number)\n",
    "                j = j + 1\n",
    "            end\n",
    "            if (df.id[j] == df.id[count])\n",
    "                for k in count:1:j\n",
    "                    if k < (count+j)/2+1\n",
    "                        new_prices[k] = df.price[count]\n",
    "                        else\n",
    "                            new_prices[k] = df.price[j]\n",
    "                        end\n",
    "                end     \n",
    "                else\n",
    "                    for k in count:1:j-1\n",
    "                        new_prices[k] = df.price[count]\n",
    "                    end\n",
    "                end        \n",
    "        end\n",
    "    end\n",
    "end\n",
    "new_prices[isa.(df.price,Number)] = df.price[isa.(df.price,Number)];"
   ]
  },
  {
   "cell_type": "markdown",
   "metadata": {},
   "source": [
    "----\n",
    "#### Initiate the spells database"
   ]
  },
  {
   "cell_type": "code",
   "execution_count": null,
   "metadata": {},
   "outputs": [],
   "source": [
    "spell_price = []\n",
    "spell_url = []\n",
    "spell_duration = []\n",
    "spell_id = []\n",
    "spell_category = []\n",
    "spell_sale = []\n",
    "spell_initial = []\n",
    "spell_final = []\n",
    "duration = 0\n",
    "init = 0\n",
    "fin = 0\n",
    "\n",
    "for i in 1:1:L-1\n",
    "    duration = duration + 1\n",
    "    if isa(df.initialspell[i],Number)\n",
    "        init = 1\n",
    "    end\n",
    "    if isa(df.lastspell[i],Number)\n",
    "        fin = 1\n",
    "    end\n",
    "    if (df.id[i+1] != df.id[i]) || (new_prices[i+1] != new_prices[i])\n",
    "        append!(spell_price,new_prices[i])\n",
    "        append!(spell_id,df.id[i])\n",
    "        append!(spell_url,df.cat_url[i])\n",
    "        append!(spell_duration,duration)\n",
    "        append!(spell_category,df.category[i])\n",
    "        append!(spell_initial,init)\n",
    "        append!(spell_final,fin)\n",
    "        if isa(df.sale[i],Number)\n",
    "            append!(spell_sale,df.sale[i])\n",
    "        else\n",
    "            append!(spell_sale,0)                \n",
    "        end\n",
    "        duration = 0\n",
    "        init = 0\n",
    "        fin = 0\n",
    "    end\n",
    "end"
   ]
  },
  {
   "cell_type": "markdown",
   "metadata": {},
   "source": [
    "----\n",
    "#### Write the new dataframe"
   ]
  },
  {
   "cell_type": "markdown",
   "metadata": {},
   "source": [
    "<div class=\"alert alert-block alert-info\">\n",
    "    <b>Replication Note:</b> upper_cutoff is denoted in log price changes and lower_cutoff is denoted in dollar price changes.\n",
    "</div>"
   ]
  },
  {
   "cell_type": "code",
   "execution_count": null,
   "metadata": {},
   "outputs": [],
   "source": [
    "dfspells = DataFrame(id = spell_id, url = spell_url, category = spell_category, price = spell_price, duration = spell_duration, initial = spell_initial, final = spell_final, sale = spell_sale)\n",
    "dfspells.change = zeros(size(dfspells,1))\n",
    "dfspells.logchange = zeros(size(dfspells,1))\n",
    "upper_cutoff = 1.5\n",
    "lower_cutoff = 0.009\n",
    "remove_sales, remove_short = false, false\n",
    "\n",
    "# replace the sales, small and large deviations, and short spells with the previous price\n",
    "\n",
    "flag = [0, 0, 0, 0, 0]\n",
    "N = length(dfspells.id)\n",
    "for i in 1:1:N-1\n",
    "    if (remove_sales) & (dfspells.sale[i+1] == 1)\n",
    "        dfspells.price[i+1] = dfspells.price[i]\n",
    "        flag[1] += 1\n",
    "    end\n",
    "    if (remove_short) & (dfspells.id[i] == dfspells.id[i+1]) & (dfspells.duration[i+1] < 3)\n",
    "        dfspells.price[i+1] = dfspells.price[i]\n",
    "        flag[2] += 1\n",
    "    end\n",
    "    if (abs(dfspells.price[i+1] - dfspells.price[i]) < lower_cutoff) & (dfspells.id[i] == dfspells.id[i+1])\n",
    "        if abs(dfspells.price[i+1] - dfspells.price[i]) > 0\n",
    "            flag[3] += 1\n",
    "        end\n",
    "        dfspells.price[i+1] = dfspells.price[i]\n",
    "    end\n",
    "    if (dfspells.id[i] == dfspells.id[i+1]) & (abs(log(dfspells.price[i+1]) - log(dfspells.price[i])) > upper_cutoff)\n",
    "        dfspells.price[i+1] = dfspells.price[i]\n",
    "        flag[4] += 1\n",
    "    end\n",
    "end\n",
    "print(\"Sales deleted: \",flag[1],\"\\nShort spells deleted: \",flag[2],\"\\nSmall changes deleted: \",flag[3],\"\\nLarge changes deleted: \",flag[4])\n",
    "\n",
    "# merge neighboring spells with the same price and id\n",
    "\n",
    "for i in 1:1:N-1\n",
    "    if (abs(dfspells.price[i] - dfspells.price[i+1]) < lower_cutoff) & (dfspells.id[i] == dfspells.id[i+1])\n",
    "        dfspells.duration[i+1] = dfspells.duration[i+1] + dfspells.duration[i]\n",
    "        dfspells.initial[i+1] = dfspells.initial[i]\n",
    "        dfspells.duration[i] = 0\n",
    "    end\n",
    "end\n",
    "\n",
    "# delete zero durations and add changes\n",
    "\n",
    "dfspells = dfspells[dfspells.duration .> 0, :]\n",
    "dfspells = dfspells[dfspells.initial.*dfspells.final .== 0, :]\n",
    "N = length(dfspells.id)\n",
    "for i in 1:1:N-1\n",
    "    if dfspells.initial[i+1] == 0\n",
    "        dfspells.change[i+1] = (dfspells.price[i+1]-dfspells.price[i])/dfspells.price[i]\n",
    "        dfspells.logchange[i+1] = log(dfspells.price[i+1])-log(dfspells.price[i])\n",
    "    end\n",
    "end\n",
    "select!(dfspells, Not(:sale))\n",
    "dfspells.length = dfspells.initial - dfspells.final\n",
    "\n",
    "# go forwards and write the spell number\n",
    "\n",
    "count = 0\n",
    "for i in 1:1:N\n",
    "    count = count + 1\n",
    "    dfspells.initial[i] = count\n",
    "    if dfspells.final[i] == 1\n",
    "        count = 0\n",
    "    end\n",
    "end\n",
    "\n",
    "# go backwards and write the spell length\n",
    "\n",
    "num = 0\n",
    "for i in 1:1:N\n",
    "    if dfspells.final[N+1-i] == 1\n",
    "        num = dfspells.initial[N+1-i]\n",
    "    end\n",
    "    dfspells.length[N+1-i] = num\n",
    "end\n",
    "\n",
    "# three products have confcting category identificators, delete them\n",
    "\n",
    "dfspells = dfspells[dfspells.id .!= 41976, :]\n",
    "dfspells = dfspells[dfspells.id .!= 46568, :]\n",
    "dfspells = dfspells[dfspells.id .!= 45549, :];\n",
    "\n",
    "# write the file with spells\n",
    "\n",
    "CSV.write(\"spells1.csv\",dfspells);"
   ]
  },
  {
   "cell_type": "markdown",
   "metadata": {},
   "source": [
    "----\n",
    "#### Take products with at least 3 spells (equivalently, at least two changes)"
   ]
  },
  {
   "cell_type": "code",
   "execution_count": null,
   "metadata": {},
   "outputs": [],
   "source": [
    "df2 = dfspells[dfspells.length .> 2, :]\n",
    "S = size(df2[df2.initial .== 3, :],1)\n",
    "pow41 = (df2[df2.initial .== 2, :].logchange).^4\n",
    "pow21 = (df2[df2.initial .== 2, :].logchange).^2\n",
    "pow22 = (df2[df2.initial .== 3, :].logchange).^2;"
   ]
  },
  {
   "cell_type": "markdown",
   "metadata": {},
   "source": [
    "----\n",
    "#### Histogram for an exemplary category"
   ]
  },
  {
   "cell_type": "code",
   "execution_count": null,
   "metadata": {},
   "outputs": [],
   "source": [
    "df561 = dfspells[dfspells.category .== 561, :]\n",
    "density = kde(df561[df561.logchange .!= 0.0, :].logchange,bandwidth=0.03,kernel=Logistic)\n",
    "histogram(df561[df561.logchange .!= 0.0, :].logchange,xlim=[-1.0,1.0],bins=200,legend=false,normed=true)\n",
    "plot!(density.x,density.density,color=:red,linewidth=4)"
   ]
  },
  {
   "cell_type": "code",
   "execution_count": null,
   "metadata": {},
   "outputs": [],
   "source": [
    "CSV.write(\"561.csv\",df561[df561.logchange .!= 0.0, :])"
   ]
  },
  {
   "cell_type": "markdown",
   "metadata": {
    "jp-MarkdownHeadingCollapsed": true,
    "tags": []
   },
   "source": [
    "----\n",
    "#### Symmetrized histogram and fitted kernel density"
   ]
  },
  {
   "cell_type": "code",
   "execution_count": null,
   "metadata": {},
   "outputs": [],
   "source": [
    "changes = [df561[df561.logchange .!= 0.0, :].logchange; -df561[df561.logchange .!= 0.0, :].logchange]\n",
    "density = kde(changes,bandwidth=0.03,kernel=Logistic)\n",
    "kernel_den = DataFrame(x = density.x, q = density.density)\n",
    "CSV.write(\"kernel_den.csv\",kernel_den)\n",
    "print(\"mean absolute price change \",mean(abs.(changes)),\";\\n standard deviation of absolute price change \",std(abs.(changes)))\n",
    "histogram(changes,xlim=[-1.0,1.0],normed=true,bins=200,legend=false)\n",
    "plot!(density.x,density.density,color=:red,linewidth=4)"
   ]
  },
  {
   "cell_type": "code",
   "execution_count": null,
   "metadata": {},
   "outputs": [],
   "source": [
    "histogram(df561[df561.logchange .!= 0.0, :].logchange,xlim=[-1.0,1.0],bins=200,legend=false,normed=true)\n",
    "plot!(density.x,density.density,color=:red,linewidth=4)"
   ]
  },
  {
   "cell_type": "markdown",
   "metadata": {},
   "source": [
    "----\n",
    "#### Plot $q(0)$ as a function of bandwidth"
   ]
  },
  {
   "cell_type": "code",
   "execution_count": null,
   "metadata": {},
   "outputs": [],
   "source": [
    "BW, q0 = collect(0.001:0.0001:0.03), []\n",
    "for bw in BW\n",
    "    dens = kde(changes,bandwidth=bw)\n",
    "    append!(q0,(dens.density[Int64(length(dens.density)/2)+1]+dens.density[Int64(length(dens.density)/2)])/2)\n",
    "end\n",
    "plot(BW,q0,label=L\"q(0)\",legend=:topleft,color=:red,xlabel=\"bandwidth\")"
   ]
  },
  {
   "cell_type": "markdown",
   "metadata": {},
   "source": [
    "----\n",
    "#### Bootstrapping procedure to see the difference between the pooled kurtosis and the underlying kusrtosis estimated with the first two price changes"
   ]
  },
  {
   "cell_type": "markdown",
   "metadata": {},
   "source": [
    "<div class=\"alert alert-block alert-info\">\n",
    "    <b>Replication Note:</b> Unused section in the original program.\n",
    "</div>"
   ]
  },
  {
   "cell_type": "code",
   "execution_count": null,
   "metadata": {},
   "outputs": [],
   "source": [
    "b, B, K, K_pooled = 10000, 5000, [], []\n",
    "p4, p21, p22 = zeros(b), zeros(b), zeros(b)\n",
    "\n",
    "for j in 1:1:B\n",
    "    ind = rand(DiscreteUniform(1,S),b)\n",
    "    count = 0\n",
    "    for i in ind\n",
    "        count += 1\n",
    "        p21[count] = pow21[i]\n",
    "        p22[count] = pow22[i]\n",
    "        p4[count] = pow41[i]\n",
    "    end\n",
    "    append!(K, mean(p4)/mean(p22.*p21))\n",
    "    append!(K_pooled, mean(p4)/mean(p21)^2)\n",
    "end\n",
    "\n",
    "m, s = mean(K), std(K)\n",
    "norm1 = norm_den.(sort!(collect(Set(K))))\n",
    "print(\"\\nUnderlying: \", m, \" (\", s, \")\\n\")\n",
    "m, s = mean(K_pooled), std(K_pooled)\n",
    "print(\"Pooled: \", m, \" (\", s, \")\\n\")\n",
    "norm2 = norm_den.(sort!(collect(Set(K_pooled))))\n",
    "\n",
    "histogram(K,label=\"Underlying\",legend=:topright,color=:blue,normalize=true)\n",
    "histogram!(K_pooled,label=\"Pooled\",color=:red,normalize=true)\n",
    "plot!(sort!(collect(Set(K))),norm1,linewidth=3,color=:black,label=\"\")\n",
    "plot!(sort!(collect(Set(K_pooled))),norm2,linewidth=3,color=:black,label=\"\")"
   ]
  },
  {
   "cell_type": "markdown",
   "metadata": {
    "tags": []
   },
   "source": [
    "----\n",
    "#### Initiate the category database"
   ]
  },
  {
   "cell_type": "code",
   "execution_count": null,
   "metadata": {},
   "outputs": [],
   "source": [
    "cat_ids, number = collect(Set(df2.category)), []\n",
    "\n",
    "for cat in cat_ids\n",
    "    append!(number, length(collect(Set(df2[df2.category .== cat, :].id))))\n",
    "end\n",
    "\n",
    "statistics = DataFrame(category_id = Int64.(cat_ids), number_of_products = Int64.(number))\n",
    "statistics = statistics[statistics.number_of_products .> 100, :]\n",
    "statistics.number_price_changes = zeros(Int64,size(statistics,1))\n",
    "statistics.mean_price_change = zeros(size(statistics,1))\n",
    "statistics.mean_abs_change = zeros(size(statistics,1))\n",
    "statistics.mean_inv_change = zeros(size(statistics,1))\n",
    "statistics.std_price_change = zeros(size(statistics,1))\n",
    "statistics.skewness = zeros(size(statistics,1))\n",
    "statistics.alpha_with22 = zeros(size(statistics,1))\n",
    "statistics.alpha_with22_ste = zeros(size(statistics,1))\n",
    "statistics.alpha_with31 = zeros(size(statistics,1))\n",
    "statistics.alpha_with31_ste = zeros(size(statistics,1))\n",
    "statistics.g11 = zeros(size(statistics,1))\n",
    "statistics.g11_ste = zeros(size(statistics,1))\n",
    "statistics.g21 = zeros(size(statistics,1))\n",
    "statistics.g21_ste = zeros(size(statistics,1))\n",
    "statistics.g22 = zeros(size(statistics,1)) # \n",
    "statistics.g22_ste = zeros(size(statistics,1))\n",
    "statistics.g31 = zeros(size(statistics,1))\n",
    "statistics.g31_ste = zeros(size(statistics,1))\n",
    "statistics.g32 = zeros(size(statistics,1))\n",
    "statistics.g32_ste = zeros(size(statistics,1))\n",
    "statistics.M1 = zeros(size(statistics,1))\n",
    "statistics.M2 = zeros(size(statistics,1))\n",
    "statistics.M3 = zeros(size(statistics,1))\n",
    "statistics.M4 = zeros(size(statistics,1))\n",
    "statistics.underlying12_kurt = zeros(size(statistics,1)) # \n",
    "statistics.underlying12_kurt_ste = zeros(size(statistics,1))\n",
    "statistics.pooled_kurt = zeros(size(statistics,1))\n",
    "statistics.pooled_kurt_ste = zeros(size(statistics,1))\n",
    "statistics.corr12 = zeros(size(statistics,1))\n",
    "statistics.coefvar1 = zeros(size(statistics,1))\n",
    "statistics.coefvar2 = zeros(size(statistics,1))\n",
    "statistics.coefvar = zeros(size(statistics,1))\n",
    "statistics.implied_corr = zeros(size(statistics,1))\n",
    "statistics.mean_duration = zeros(size(statistics,1))\n",
    "statistics.ste_duration = zeros(size(statistics,1))\n",
    "statistics.alpha1 = zeros(size(statistics,1))\n",
    "statistics.alpha2 = zeros(size(statistics,1))\n",
    "statistics.ratio_betas = zeros(size(statistics,1))\n",
    "statistics.weight_on1 = zeros(size(statistics,1))\n",
    "statistics.C_pooled = zeros(size(statistics,1))\n",
    "statistics.C = zeros(size(statistics,1));"
   ]
  },
  {
   "cell_type": "markdown",
   "metadata": {
    "tags": []
   },
   "source": [
    "----\n",
    "#### Estimate the statistics for the seven biggest categories"
   ]
  },
  {
   "cell_type": "markdown",
   "metadata": {},
   "source": [
    "<div class=\"alert alert-block alert-info\">\n",
    "    <b>Replication Note:</b> Number of repetition in the bootstrapping procedure: <br>\n",
    "    B = 5000 for variable statistics.underlying12_kurt reported as kurtosis (t = 1, 2) in Table 3 <br>\n",
    "    B = 1000 for variable g22_ste reported as the standard error for Kurtosis pooled <br>\n",
    "    and variable pooled_kurt_ste reported as the standard error for Kurtosis w/ unobs heterog. in Table 1 <br>    \n",
    "</div>"
   ]
  },
  {
   "cell_type": "markdown",
   "metadata": {},
   "source": [
    "<div class=\"alert alert-block alert-warning\">\n",
    "    <b>Replication Edit:</b> Initialize objects to store and display the empirical results for Table 1, 2, and 3. The original program only export the variables for all tables in a single csv file at the end.\n",
    "</div>"
   ]
  },
  {
   "cell_type": "code",
   "execution_count": null,
   "metadata": {},
   "outputs": [],
   "source": [
    "replicated_t1 = DataFrame(\n",
    "    cat = Int[], \n",
    "    num_prod = Int[], \n",
    "    num_p_chg = Int[], \n",
    "    Ep = Float64[], \n",
    "    sp = Float64[], \n",
    "    k_pooled = Float64[], \n",
    "    k_pooled_ste = Float64[], \n",
    "    k_u = Float64[], \n",
    "    k_u_ste = Float64[], \n",
    "    C_pooled = Float64[], \n",
    "    C_u = Float64[]);\n",
    "\n",
    "replicated_t2 = DataFrame(\n",
    "    cat = Int[], \n",
    "    g11 = Float64[], \n",
    "    g21 = Float64[], \n",
    "    g31 = Float64[], \n",
    "    g32 = Float64[], \n",
    "    a1 = Float64[], \n",
    "    a2 = Float64[], \n",
    "    bs = Float64[], \n",
    "    w = Float64[], \n",
    "    a22 = Float64[]);\n",
    "\n",
    "replicated_t3 = DataFrame(\n",
    "    cat = Int[], \n",
    "    skew = Float64[], \n",
    "    kurt = Float64[], \n",
    "    kurt_ste = Float64[], \n",
    "    kurt12 = Float64[], \n",
    "    kurt12_ste = Float64[], \n",
    "    corr = Float64[], \n",
    "    CV = Float64[]);"
   ]
  },
  {
   "cell_type": "code",
   "execution_count": null,
   "metadata": {},
   "outputs": [],
   "source": [
    "statistics = statistics[statistics.number_of_products .> 1000, :]\n",
    "sort!(statistics,:number_of_products,rev=true)\n",
    "cat, gammas = 1, zeros(size(statistics,1),5)\n",
    "\n",
    "for c in statistics.category_id\n",
    "    dfcat = df2[df2.category .== c, :]\n",
    "    \n",
    "    # use the first two price changes to estimate the underlying kurtosis and correlations\n",
    "    # bootstrap standard errors\n",
    "    S = size(dfcat[dfcat.initial .== 3, :],1)\n",
    "    pow41 = (dfcat[dfcat.initial .== 2, :].logchange).^4\n",
    "    pow42 = (dfcat[dfcat.initial .== 3, :].logchange).^4\n",
    "    pow21 = (dfcat[dfcat.initial .== 2, :].logchange).^2\n",
    "    pow22 = (dfcat[dfcat.initial .== 3, :].logchange).^2\n",
    "    \n",
    "    B, K, K_pooled, p41, p42, p21, p22  = 5000, [], [], zeros(S), zeros(S), zeros(S), zeros(S)\n",
    "    for j in 1:1:B\n",
    "        ind = rand(DiscreteUniform(1,S),S)\n",
    "        count = 0\n",
    "        p21, p22, p41, p42 = pow21[ind], pow22[ind], pow41[ind], pow42[ind]\n",
    "        append!(K, 0.5*mean(p41)/mean(p22.*p21) + 0.5*mean(p42)/mean(p22.*p21))\n",
    "        append!(K_pooled, mean(vcat(p41,p42))/mean(vcat(p21,p22))^2)\n",
    "    end\n",
    "    \n",
    "    # write the first set of statistics\n",
    "    i = findfirst(isequal(c),statistics.category_id)\n",
    "    statistics.number_price_changes[i] = length(dfcat.logchange)\n",
    "    statistics.mean_price_change[i] = mean(dfcat.logchange)\n",
    "    statistics.mean_abs_change[i] = mean(abs.(dfcat.logchange))\n",
    "    statistics.mean_inv_change[i] = mean(abs.(dfcat[dfcat.logchange.>0,:].logchange).^(-1))\n",
    "    statistics.std_price_change[i] = std(dfcat.logchange)\n",
    "    statistics.skewness[i] = mean((dfcat.logchange-mean(dfcat.logchange)*ones(length(dfcat.logchange))).^3)/(statistics.std_price_change[i])^3\n",
    "    statistics.mean_duration[i], statistics.ste_duration[i] = mean(dfcat.duration), std(dfcat.duration)\n",
    "    statistics.underlying12_kurt[i], statistics.underlying12_kurt_ste[i] = (0.5*mean(pow41)+0.5*mean(pow42))/mean(pow22.*pow21), std(K)\n",
    "    statistics.corr12[i], statistics.coefvar1[i], statistics.coefvar2[i] = cor(pow21,pow22), std(pow21)/mean(pow21), std(pow22)/mean(pow22)\n",
    "    \n",
    "    changes = [dfcat.logchange[abs.(dfcat.logchange).>0.0001]; -dfcat.logchange[abs.(dfcat.logchange).>0.0001]]\n",
    "    dens = kde(changes)\n",
    "    # Replication edit: muted printing out density estimates \n",
    "    #print(dens.density[Int64(length(dens.density)/2)],\" \",dens.x[Int64(length(dens.density)/2)],\" \",dens.x[Int64(length(dens.density)/2)+1],\"\\n\")\n",
    "    statistics.C_pooled[i] = dens.density[Int64(length(dens.density)/2)]/2*var(changes)/mean(abs.(changes))\n",
    "    \n",
    "    gamma11, gamma21, gamma22, gamma31, gamma32 = 0, 0, 0, 0, 0\n",
    "    Sigma31, Sigma22,  = zeros(3,3), zeros(3,3)\n",
    "    M1, M2, M3, M4, alpha = 0, 0, 0, 0, 0\n",
    "\n",
    "    # estimate the dimensionless statisticsistics using the algorithm\n",
    "    ids = collect(Set(dfcat.id))\n",
    "    cols = vcat(Symbol(\"product\"),[Symbol(\"e$k\") for k in [11, 21, 31, 32, 22]])\n",
    "    cols = vcat(cols,[Symbol(\"e$k\") for k in [2, 3, 4, 5]])\n",
    "\n",
    "    # Replication edit: required modification for the for-loop to work\n",
    "    # Original code returns error: ArgumentError: `DataFrame` constructor with passed eltypes is not supported.\n",
    "    #dfprod = DataFrame(vcat(Int64, [Float64 for k in 1:9]), cols, length(ids))\n",
    "    #dfprod.product = ids    \n",
    "    t = vcat(Int64, [Float64 for k in 1:9])\n",
    "    dfprod = DataFrame(cols .=> [type[] for type in t])\n",
    "    for i in ids\n",
    "        push!(dfprod, (i,0.0,0.0,0.0,0.0,0.0,0.0,0.0,0.0,0.0))\n",
    "    end\n",
    "    \n",
    "    num_correction = []\n",
    "    for prod in ids\n",
    "        changes = abs.(dfcat[dfcat.id .== prod, :].logchange[2:end])\n",
    "        changes = changes[changes.>0]\n",
    "        p = findfirst(isequal(prod),dfprod.product)\n",
    "        l = length(changes)\n",
    "        \n",
    "        # correction for C\n",
    "        numerator, Z = mean(changes), (changes.^(-1))*transpose(changes.^2)\n",
    "        append!(num_correction,(sum(Z) - numerator*l)/l/(l-1))\n",
    "        \n",
    "        # gammas\n",
    "        numerator, summa, k, j = 0, 0, 0, 0\n",
    "        row = []\n",
    "        for pair in [11, 21, 31, 32, 22]\n",
    "            j = Int64(pair%10)\n",
    "            k = Int64((pair - j)/10)\n",
    "            numerator, Z = mean(changes.^(j+k)), (changes.^j)*transpose(changes.^k)\n",
    "            append!(row,(sum(Z) - numerator*l)/l/(l-1))\n",
    "            append!(row,numerator)\n",
    "        end\n",
    "        for col in 1:1:4\n",
    "            dfprod[p,1+col], dfprod[p,6+col] = row[2*col-1], row[2*col]\n",
    "        end\n",
    "        dfprod[p,6] = row[end-1]\n",
    "    end\n",
    "    \n",
    "    # bootstrap standard errors\n",
    "    mom1, mom2, mom3, mom4 = [], [], [], []\n",
    "    G11, G21, G22, G31, G32 = [], [], [], [], []\n",
    "    B, C_pooled, C, k_pooled = 1000, [], [], []\n",
    "    for b in 1:1:B\n",
    "        indices = rand(DiscreteUniform(1,size(dfprod,1)),Int64(round(size(dfprod,1)*0.8)))\n",
    "        dfprod_boot = dfprod[indices, :]\n",
    "        gamma11 = mean(dfprod_boot.e2)/mean(dfprod_boot.e11)\n",
    "        gamma21 = mean(dfprod_boot.e3)/mean(dfprod_boot.e21)\n",
    "        gamma31 = mean(dfprod_boot.e4)/mean(dfprod_boot.e31)\n",
    "        gamma32 = mean(dfprod_boot.e5)/mean(dfprod_boot.e32)\n",
    "        gamma22 = mean(dfprod_boot.e4)/mean(dfprod_boot.e22)\n",
    "        append!(G11,gamma11)\n",
    "        append!(G21,gamma21)\n",
    "        append!(G31,gamma31)\n",
    "        append!(G32,gamma32)\n",
    "        append!(G22,gamma22)\n",
    "        append!(mom1,1/(gamma11-1))\n",
    "        append!(mom2,2/(gamma21-1))\n",
    "        append!(mom3,3/(gamma31-1))\n",
    "        append!(mom4,3*gamma21/(gamma22*gamma11-gamma21))\n",
    "        append!(k_pooled,mean(dfprod_boot.e4)/(mean(dfprod_boot.e2))^2)\n",
    "    end\n",
    "    \n",
    "    # estimate the size of Gamma distribution using three different gammas\n",
    "    # weight myopically with inverse variance, standard errors from Delta method \n",
    "    Sigma31[1,1], Sigma31[1,2], Sigma31[1,3] = var(mom1), cov(mom1,mom2), cov(mom1,mom3)\n",
    "    Sigma31[2,1], Sigma31[2,2], Sigma31[2,3] = Sigma31[1,2], var(mom2), cov(mom2,mom3)\n",
    "    Sigma31[3,1], Sigma31[3,2], Sigma31[3,3] = Sigma31[1,3], Sigma31[2,3], var(mom3)\n",
    "    Sigma22[1,1], Sigma22[1,2], Sigma22[1,3] = var(mom1), cov(mom1,mom2), cov(mom1,mom4)\n",
    "    Sigma22[2,1], Sigma22[2,2], Sigma22[2,3] = Sigma22[1,2], var(mom2), cov(mom2,mom4)\n",
    "    Sigma22[3,1], Sigma22[3,2], Sigma22[3,3] = Sigma22[1,3], Sigma22[2,3], var(mom4)\n",
    "    \n",
    "    weights31, weights22 = ones(3)./[var(mom1), var(mom2), var(mom4)], ones(3)./[var(mom1), var(mom2), var(mom4)]\n",
    "    weights31, weights22 = weights31/sum(weights31), weights22/sum(weights22)\n",
    "\n",
    "    gamma11 = mean(dfprod.e2)/mean(dfprod.e11)\n",
    "    gamma21 = mean(dfprod.e3)/mean(dfprod.e21)\n",
    "    gamma31 = mean(dfprod.e4)/mean(dfprod.e31)\n",
    "    gamma32 = mean(dfprod.e5)/mean(dfprod.e32)\n",
    "    gamma22 = mean(dfprod.e4)/mean(dfprod.e22) # this is the underlying Kurtosis\n",
    "    M1, M2, M3, M4 = 1/(gamma11-1), 2/(gamma21-1), 3/(gamma31-1), 3*gamma21/(gamma22*gamma11-gamma21)\n",
    "    alpha_with31, alpha_with22 = [M1 M2 M3]*weights31, [M1 M2 M4]*weights22\n",
    "    alpha_with31, alpha_with22 = alpha_with31[1], alpha_with22[1]\n",
    "    \n",
    "    # write the rest of the statisticsistics\n",
    "    statistics.alpha_with31[i], statistics.alpha_with31_ste[i] = alpha_with31, sqrt((weights22')*Sigma31*weights22)\n",
    "    statistics.alpha_with22[i], statistics.alpha_with22_ste[i] = alpha_with22, sqrt((weights31')*Sigma22*weights31)\n",
    "    statistics.g11[i], statistics.g11_ste[i] = gamma11, std(G11)\n",
    "    statistics.g21[i], statistics.g21_ste[i] = gamma21, std(G21)\n",
    "    statistics.g22[i], statistics.g22_ste[i] = gamma22, std(G22)\n",
    "    statistics.g31[i], statistics.g31_ste[i] = gamma31, std(G31)\n",
    "    statistics.g32[i], statistics.g32_ste[i] = gamma32, std(G32)\n",
    "    statistics.M1[i], statistics.M2[i], statistics.M3[i], statistics.M4[i] = M1, M2, M3, M4\n",
    "    statistics.pooled_kurt[i], statistics.pooled_kurt_ste[i] = mean(dfprod.e4)/((mean(dfprod.e2))^2), std(k_pooled)\n",
    "    statistics.coefvar[i] = sqrt(mean(dfprod.e4)-(mean(dfprod.e2))^2)/mean((dfprod.e2))\n",
    "    statistics.implied_corr[i] = (statistics.pooled_kurt[i]/statistics.g22[i] - 1)/(statistics.coefvar[i]^2)\n",
    "    statistics.C[i] = statistics.C_pooled[i]*mean(num_correction)/(statistics.mean_inv_change[i]*statistics.std_price_change[i]^2)\n",
    "    \n",
    "    gammas[cat,1], gammas[cat,2:end] = i, [gamma11, gamma21, gamma22, gamma32]\n",
    "    cat += 1\n",
    "    \n",
    "    # Replication edit: muted printing out category size\n",
    "    #print(\" category number \",(\" \"*string(c))[end-3:end],\" of the size \",length(ids),\"\\n\")\n",
    "\n",
    "    # Replication edit: store (some) empirical results for display\n",
    "    push!(\n",
    "        replicated_t1, \n",
    "        [c, \n",
    "            length(ids), \n",
    "            statistics.number_price_changes[i], \n",
    "            round(statistics.mean_price_change[i],digits = 3), \n",
    "            round(statistics.std_price_change[i], digits = 2), \n",
    "            round(statistics.pooled_kurt[i], digits = 1), \n",
    "            round(statistics.pooled_kurt_ste[i], digits = 2), \n",
    "            round(statistics.g22[i],digits = 1), \n",
    "            round(statistics.g22_ste[i], digits = 2), \n",
    "            round(statistics.C_pooled[i], digits = 2), \n",
    "            round(statistics.C[i], digits = 2)])\n",
    "\n",
    "    push!(\n",
    "        replicated_t2, \n",
    "        [c, \n",
    "            round(statistics.g11[i], digits = 3), \n",
    "            round(statistics.g21[i], digits = 3), \n",
    "            round(statistics.g31[i], digits = 3), \n",
    "            round(statistics.g32[i], digits = 3), \n",
    "            round(statistics.alpha1[i], digits = 3), \n",
    "            round(statistics.alpha2[i], digits = 3), \n",
    "            round(statistics.ratio_betas[i], digits = 3), \n",
    "            round(statistics.weight_on1[i], digits = 3), \n",
    "            round(statistics.alpha_with22[i], digits = 3)\n",
    "            ])\n",
    "    \n",
    "    push!(\n",
    "        replicated_t3, \n",
    "        [c, \n",
    "            round(statistics.skewness[i], digits = 3), \n",
    "            round(statistics.g22[i], digits = 3), \n",
    "            round(statistics.g22_ste[i], digits = 3), \n",
    "            round(statistics.underlying12_kurt[i], digits = 3), \n",
    "            round(statistics.underlying12_kurt_ste[i], digits = 3), \n",
    "            round(statistics.implied_corr[i], digits = 3), \n",
    "            round(statistics.coefvar[i], digits = 3)\n",
    "            ])\n",
    "end"
   ]
  },
  {
   "cell_type": "markdown",
   "metadata": {},
   "source": [
    "----\n",
    "#### Implement distance minimization for all categories, fit parameters of:\n",
    "- two Gamma distributions\n",
    "- $\\alpha_1$ and $\\alpha_2$\n",
    "- the weight on the first one\n",
    "- the ratio of $\\beta_1$ and $\\beta_2$ are identified"
   ]
  },
  {
   "cell_type": "code",
   "execution_count": null,
   "metadata": {},
   "outputs": [],
   "source": [
    "for cat in 1:1:7 \n",
    "    res = optimize(x->gap(x,gammas[cat,2:end]), [0.1, 0.1, 10.0, 0.0], autodiff=:forward)\n",
    "    i = Int64(gammas[cat,1])\n",
    "    print(\"\\n\",abs.(res.minimizer),\" \",res.minimum,\"\\n\")\n",
    "    statistics.alpha1[i] = abs(res.minimizer[1])\n",
    "    statistics.alpha2[i] = abs(res.minimizer[2])\n",
    "    statistics.ratio_betas[i] = abs(res.minimizer[3])\n",
    "    statistics.weight_on1[i] = abs(res.minimizer[4])\n",
    "end"
   ]
  },
  {
   "cell_type": "markdown",
   "metadata": {},
   "source": [
    "----\n",
    "#### Create an array of price changes for these categories\n",
    "Price changes in units of respective standard deviations"
   ]
  },
  {
   "cell_type": "code",
   "execution_count": null,
   "metadata": {},
   "outputs": [],
   "source": [
    "standardized_changes = zeros(1)\n",
    "raw_changes = zeros(1)\n",
    "mean_duration = 0\n",
    "\n",
    "for c in statistics.category_id\n",
    "    dfcat = df2[df2.category .== c, :]\n",
    "    standardized_changes = vcat(standardized_changes,dfcat[dfcat.logchange.!=0,:logchange]/std(dfcat[dfcat.logchange.!=0,:logchange]))\n",
    "    raw_changes = vcat(raw_changes,dfcat[dfcat.logchange.!=0,:logchange])\n",
    "    mean_duration += sum(dfcat.duration)\n",
    "end\n",
    "\n",
    "mean_duration = mean_duration/length(raw_changes)\n",
    "N_pooled = 365/mean_duration\n",
    "V_raw = var(raw_changes[2:end])\n",
    "V_sta = var(standardized_changes[2:end])\n",
    "print(N_pooled,\" \",V_raw,\" \",V_sta)"
   ]
  },
  {
   "cell_type": "markdown",
   "metadata": {},
   "source": [
    "----\n",
    "<div class=\"alert alert-block alert-warning\">\n",
    "    <b>Replication Edit:</b> Entered the reported values in the tables included in the published article. Compare with the values generated by the program.\n",
    "</div>"
   ]
  },
  {
   "cell_type": "markdown",
   "metadata": {},
   "source": [
    "Include the empirical estimates for Table 2"
   ]
  },
  {
   "cell_type": "code",
   "execution_count": null,
   "metadata": {
    "tags": []
   },
   "outputs": [],
   "source": [
    "replicated_t2[!,6] .= round.(statistics.alpha1, digits = 3);\n",
    "replicated_t2[!,7] .= round.(statistics.alpha2, digits = 3);\n",
    "replicated_t2[!,8] .= round.(statistics.ratio_betas, digits = 3);\n",
    "replicated_t2[!,9] .= round.(statistics.weight_on1, digits = 3);"
   ]
  },
  {
   "cell_type": "markdown",
   "metadata": {},
   "source": [
    "Print Tables"
   ]
  },
  {
   "cell_type": "code",
   "execution_count": null,
   "metadata": {},
   "outputs": [],
   "source": [
    "println(replicated_t1) # Table 1\n",
    "println(replicated_t2) # Table 2\n",
    "println(replicated_t3) # Table 3"
   ]
  },
  {
   "cell_type": "markdown",
   "metadata": {},
   "source": [
    "Calculate the differene in the replicated estimates and the reported value in the paper"
   ]
  },
  {
   "cell_type": "code",
   "execution_count": null,
   "metadata": {
    "tags": []
   },
   "outputs": [],
   "source": [
    "reported_t1 = DataFrame(\n",
    "    cat = [111,119,1212,122,118,117,561], \n",
    "    num_prod = [3439, 3228, 2551, 1405, 1390, 1154, 1032], \n",
    "    num_p_chg = [75144, 56898, 30361, 27563, 30492, 21123, 17782], \n",
    "    Ep = [0.002, 0.002, -0.001, 0.002, 0.003, 0.007, 0.002], \n",
    "    sp = [0.34, 0.33, 0.25, 0.34, 0.31, 0.31, 0.26], \n",
    "    k_pooled = [3.4, 3.8, 3.5, 3.0, 3.6, 3.5, 3.3], \n",
    "    k_pooled_ste = [0.16, 0.09, 0.27, 0.09, 0.24, 0.14, 0.22], \n",
    "    k_u = [1.7, 2.0, 2.1, 1.7, 2.0, 2.0, 1.8], \n",
    "    k_u_ste = [0.07, 0.05, 0.16, 0.05, 0.12, 0.05, 0.13], \n",
    "    C_pooled = [0.07, 0.10, 0.07, 0.10, 0.06, 0.08, 0.05], \n",
    "    C_u = [0.06, 0.07, 0.06, 0.07, 0.06, 0.06, 0.04])\n",
    "\n",
    "reported_t2 = DataFrame(\n",
    "    cat = [111,119,1212,122,118,117,561], \n",
    "    g11 = [1.248, 1.282, 1.242, 1.243, 1.289, 1.281, 1.216],\n",
    "    g21 = [1.406, 1.507, 1.476, 1.397, 1.539, 1.511, 1.394],\n",
    "    g31 = [1.507, 1.702, 1.786, 1.508, 1.777, 1.721, 1.586],\n",
    "    g32 = [1.787, 2.381, 2.923, 1.903, 2.552, 2.484, 2.271],\n",
    "    a1 = [2.099, 1.058, 0.599, 1.848, 3.123, 0.967, 0.998],\n",
    "    a2 = [12.19, 6.012, 3.873, 9.779, 9.836, 5.442, 5.783],\n",
    "    bs = [228.677, 91.439, 73.414, 173.048, 0.628, 84.154, 103.470],\n",
    "    w = [0.161,0.109,0.000,0.131,0.580,0.089,0.031],\n",
    "    a22 = [4.248, 3.747, 4.151, 4.460, 3.610, 3.801, 4.782])\n",
    "\n",
    "reported_t3 = DataFrame(\n",
    "    cat = [111,119,1212,122,118,117,561], \n",
    "    skew = [-0.121,0.011,-0.020,-0.025,-0.012,-0.004,-0.006],\n",
    "    kurt = [1.656, 1.955, 2.051, 1.677, 2.044, 1.989, 1.778],\n",
    "    kurt_ste = [0.065, 0.050, 0.162, 0.051, 0.118, 0.047, 0.133],\n",
    "    kurt12 = [1.426, 1.288, 1.710, 1.189, 1.663, 1.422, 1.403],\n",
    "    kurt12_ste = [0.071, 0.042, 0.186, 0.019, 0.150, 0.089, 0.066],\n",
    "    corr = [0.440, 0.339, 0.284, 0.390, 0.295, 0.303, 0.374],\n",
    "    CV = [1.555, 1.683, 1.589, 1.398, 1.620, 1.577, 1.524])\n",
    "\n",
    "diff_t1 = reported_t1 .- replicated_t1\n",
    "diff_t1[:, :cat] = reported_t1[:,1]\n",
    "\n",
    "diff_t2 = reported_t2 .- replicated_t2\n",
    "diff_t2[:, :cat] = reported_t2[:,1]\n",
    "\n",
    "diff_t3 = reported_t3 .- replicated_t3\n",
    "diff_t3[:, :cat] = reported_t3[:,1]\n",
    "\n",
    "println(diff_t1)\n",
    "println(diff_t2)\n",
    "println(diff_t3)"
   ]
  },
  {
   "cell_type": "markdown",
   "metadata": {
    "jp-MarkdownHeadingCollapsed": true,
    "tags": []
   },
   "source": [
    "----\n",
    "#### Plot the histogram and fitted density of non-standardized changes"
   ]
  },
  {
   "cell_type": "code",
   "execution_count": null,
   "metadata": {},
   "outputs": [],
   "source": [
    "density = kde(raw_changes,bandwidth=0.035,kernel=Logistic)\n",
    "histogram(raw_changes,xlim=[-1.5,1.5],normed=true,bins=200,legend=false)\n",
    "plot!(density.x,density.density,color=:red,linewidth=4)"
   ]
  },
  {
   "cell_type": "markdown",
   "metadata": {
    "jp-MarkdownHeadingCollapsed": true,
    "tags": []
   },
   "source": [
    "----\n",
    "#### Plot the histogram and fitted symmetrized density of non-standardized changes"
   ]
  },
  {
   "cell_type": "code",
   "execution_count": null,
   "metadata": {},
   "outputs": [],
   "source": [
    "raw_changes_sym = vcat(-raw_changes[2:end],raw_changes[2:end])\n",
    "density = kde(raw_changes_sym,bandwidth=0.035,kernel=Logistic)\n",
    "histogram(raw_changes,xlim=[-1.5,1.5],normed=true,bins=200,legend=false)\n",
    "plot!(density.x,density.density,color=:red,linewidth=4)"
   ]
  },
  {
   "cell_type": "markdown",
   "metadata": {
    "jp-MarkdownHeadingCollapsed": true,
    "tags": []
   },
   "source": [
    "----\n",
    "#### Plot the symmetrized histogram and fitted symmetrized density of non-standardized changes"
   ]
  },
  {
   "cell_type": "code",
   "execution_count": null,
   "metadata": {},
   "outputs": [],
   "source": [
    "kernel_den_raw = DataFrame(x = density.x, q = density.density)\n",
    "CSV.write(\"kernel_den_raw.csv\",kernel_den_raw)\n",
    "histogram(raw_changes_sym,xlim=[-1.5,1.5],normed=true,bins=200,legend=false)\n",
    "plot!(density.x,density.density,color=:red,linewidth=4)"
   ]
  },
  {
   "cell_type": "markdown",
   "metadata": {
    "jp-MarkdownHeadingCollapsed": true,
    "tags": []
   },
   "source": [
    "----\n",
    "#### Plot the histogram and fitted density of standardized changes"
   ]
  },
  {
   "cell_type": "code",
   "execution_count": null,
   "metadata": {},
   "outputs": [],
   "source": [
    "density = kde(standardized_changes,bandwidth=0.08,kernel=Logistic)\n",
    "kernel_den_raw = DataFrame(x = density.x, q = density.density)\n",
    "histogram(standardized_changes,xlim=[-4,4],normed=true,legend=false)\n",
    "plot!(density.x,density.density,color=:red,linewidth=4)"
   ]
  },
  {
   "cell_type": "markdown",
   "metadata": {
    "jp-MarkdownHeadingCollapsed": true,
    "tags": []
   },
   "source": [
    "----\n",
    "#### Plot the histogram and fitted symmetrized density of standardized changes"
   ]
  },
  {
   "cell_type": "code",
   "execution_count": null,
   "metadata": {},
   "outputs": [],
   "source": [
    "standardized_changes_sym = vcat(-standardized_changes[2:end],standardized_changes[2:end])\n",
    "density = kde(standardized_changes_sym,bandwidth=0.08,kernel=Logistic)\n",
    "histogram(standardized_changes,xlim=[-4,4],normed=true,legend=false)\n",
    "plot!(density.x,density.density,color=:red,linewidth=4)"
   ]
  },
  {
   "cell_type": "markdown",
   "metadata": {
    "jp-MarkdownHeadingCollapsed": true,
    "tags": []
   },
   "source": [
    "----\n",
    "#### Plot the symmetrized histogram and fitted symmetrized density of standardized changes"
   ]
  },
  {
   "cell_type": "code",
   "execution_count": null,
   "metadata": {},
   "outputs": [],
   "source": [
    "kernel_den_sta = DataFrame(x = density.x, q = density.density)\n",
    "CSV.write(\"kernel_den_sta.csv\",kernel_den_sta)\n",
    "histogram(standardized_changes_sym,xlim=[-4,4],normed=true,legend=false)\n",
    "plot!(density.x,density.density,color=:red,linewidth=4)"
   ]
  },
  {
   "cell_type": "markdown",
   "metadata": {},
   "source": [
    "----\n",
    "#### Produce the table with the statistics\n",
    "Part of this table is table 1 in the paper\n",
    "Another part goes to the apendix"
   ]
  },
  {
   "cell_type": "code",
   "execution_count": null,
   "metadata": {},
   "outputs": [],
   "source": [
    "stat_string = DataFrame(category_id = Int64.(statistics.category_id))\n",
    "for name in names(statistics)\n",
    "    stat_string[!,name] = map(x->string(round(x;digits=3)),statistics[:,name])\n",
    "end\n",
    "stat_string[!, :number_price_changes] = Int64.(round.(statistics[!, :number_price_changes]))\n",
    "stat_string[!, :number_of_products] = Int64.(round.(statistics[!, :number_of_products]))\n",
    "stat_string[!, :category_id] = Int64.(round.(statistics[!, :category_id]))\n",
    "CSV.write(\"categories_big_table.csv\",stat_string);"
   ]
  }
 ],
 "metadata": {
  "kernelspec": {
   "display_name": "Julia 1.6.7",
   "language": "julia",
   "name": "julia-1.6"
  },
  "language_info": {
   "file_extension": ".jl",
   "mimetype": "application/julia",
   "name": "julia",
   "version": "1.6.7"
  }
 },
 "nbformat": 4,
 "nbformat_minor": 4
}
