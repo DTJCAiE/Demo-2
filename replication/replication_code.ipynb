{
 "cells": [
  {
   "attachments": {},
   "cell_type": "markdown",
   "metadata": {},
   "source": [
    "#### Use required libraries"
   ]
  },
  {
   "cell_type": "code",
   "execution_count": 1,
   "metadata": {},
   "outputs": [],
   "source": [
    "using Compat, Random, Distributions, Plots, LinearAlgebra, CSV, DataFrames, SpecialFunctions, Statistics, NLsolve, Optim, KernelDensity, LaTeXStrings\n",
    "gr(fmt=:png)\n",
    "Random.seed!(1);"
   ]
  },
  {
   "attachments": {},
   "cell_type": "markdown",
   "metadata": {},
   "source": [
    "----\n",
    "#### Define new functions"
   ]
  },
  {
   "cell_type": "code",
   "execution_count": 2,
   "metadata": {},
   "outputs": [
    {
     "data": {
      "text/plain": [
       "gap (generic function with 1 method)"
      ]
     },
     "metadata": {},
     "output_type": "display_data"
    }
   ],
   "source": [
    "function norm_den(x)\n",
    "    return 1/sqrt(2*π*s^2)*exp(-(x-m)^2/2/s^2)\n",
    "end\n",
    "\n",
    "function gap(x, g)\n",
    "    F = zeros(4)\n",
    "    a1 = abs(x[1])\n",
    "    a2 = abs(x[2])\n",
    "    b = abs(x[3])\n",
    "    w = min(abs(x[4]),1)\n",
    "    F[1] = g[1] - (w*a1*(a1+1) + b^2*(1-w)*(a2+1)*a2)/(w*a1 + b*(1-w)*a2)^2\n",
    "    F[2] = g[2] - (w*a1*(a1+1)*(a1+2)+b^3*(1-w)*(a2+2)*(a2+1)*a2)/(w*a1*(a1+1) + b^2*(1-w)*(a2+1)*a2)/(w*a1 + b*(1-w)*a2)\n",
    "    F[3] = g[3] - (w*a1*(a1+1)*(a1+2)*(a1+3)+b^4*(1-w)*(a2+3)*(a2+2)*(a2+1)*a2)/(w*a1*(a1+1) + b^2*(1-w)*(a2+1)*a2)^2\n",
    "    F[4] = g[4] - (w*a1*(a1+1)*(a1+2)*(a1+3)*(a1+4) + b^5*(1-w)*(a2+4)*(a2+3)*(a2+2)*(a2+1)*a2)/(w*a1*(a1+1) + b^2*(1-w)*(a2+1)*a2)/(w*a1*(a1+1)*(a1+2) + b^3*(1-w)*(a2+2)*(a2+1)*a2)\n",
    "    return sum(F.*F)\n",
    "end"
   ]
  },
  {
   "cell_type": "markdown",
   "metadata": {},
   "source": [
    "----\n",
    "#### Read the file"
   ]
  },
  {
   "attachments": {},
   "cell_type": "markdown",
   "metadata": {},
   "source": [
    "<div class=\"alert alert-block alert-warning\">\n",
    "    <b>Replication Edit:</b> added sink arg for `CSV.read()` for the function to work. The issue can possibly due to different versions of the required libraries.\n",
    "</div>"
   ]
  },
  {
   "cell_type": "code",
   "execution_count": 3,
   "metadata": {},
   "outputs": [
    {
     "ename": "ArgumentError",
     "evalue": "ArgumentError: \"usa1.csv\" is not a valid file or doesn't exist",
     "output_type": "error",
     "traceback": [
      "ArgumentError: \"usa1.csv\" is not a valid file or doesn't exist\n",
      "\n",
      "Stacktrace:\n",
      " [1] CSV.Context(source::CSV.Arg, header::CSV.Arg, normalizenames::CSV.Arg, datarow::CSV.Arg, skipto::CSV.Arg, footerskip::CSV.Arg, transpose::CSV.Arg, comment::CSV.Arg, ignoreemptyrows::CSV.Arg, ignoreemptylines::CSV.Arg, select::CSV.Arg, drop::CSV.Arg, limit::CSV.Arg, buffer_in_memory::CSV.Arg, threaded::CSV.Arg, ntasks::CSV.Arg, tasks::CSV.Arg, rows_to_check::CSV.Arg, lines_to_check::CSV.Arg, missingstrings::CSV.Arg, missingstring::CSV.Arg, delim::CSV.Arg, ignorerepeated::CSV.Arg, quoted::CSV.Arg, quotechar::CSV.Arg, openquotechar::CSV.Arg, closequotechar::CSV.Arg, escapechar::CSV.Arg, dateformat::CSV.Arg, dateformats::CSV.Arg, decimal::CSV.Arg, groupmark::CSV.Arg, truestrings::CSV.Arg, falsestrings::CSV.Arg, stripwhitespace::CSV.Arg, type::CSV.Arg, types::CSV.Arg, typemap::CSV.Arg, pool::CSV.Arg, downcast::CSV.Arg, lazystrings::CSV.Arg, stringtype::CSV.Arg, strict::CSV.Arg, silencewarnings::CSV.Arg, maxwarnings::CSV.Arg, debug::CSV.Arg, parsingdebug::CSV.Arg, validate::CSV.Arg, streaming::CSV.Arg)\n",
      "   @ CSV ~/.julia/packages/CSV/OnldF/src/context.jl:314\n",
      " [2] #File#32\n",
      "   @ ~/.julia/packages/CSV/OnldF/src/file.jl:222 [inlined]\n",
      " [3] File\n",
      "   @ ~/.julia/packages/CSV/OnldF/src/file.jl:222 [inlined]\n",
      " [4] read(source::String, sink::Type; copycols::Bool, kwargs::Base.Iterators.Pairs{Union{}, Union{}, Tuple{}, NamedTuple{(), Tuple{}}})\n",
      "   @ CSV ~/.julia/packages/CSV/OnldF/src/CSV.jl:117\n",
      " [5] read(source::String, sink::Type)\n",
      "   @ CSV ~/.julia/packages/CSV/OnldF/src/CSV.jl:114\n",
      " [6] top-level scope\n",
      "   @ /app/replication/replication_code.ipynb:1"
     ]
    }
   ],
   "source": [
    "df = CSV.read(\"../usa1.csv\", DataFrame); # Replication edit: added sink arg"
   ]
  },
  {
   "cell_type": "markdown",
   "metadata": {},
   "source": [
    "----\n",
    "#### Fill the missing"
   ]
  },
  {
   "cell_type": "code",
   "execution_count": 4,
   "metadata": {},
   "outputs": [
    {
     "ename": "UndefVarError",
     "evalue": "UndefVarError: df not defined",
     "output_type": "error",
     "traceback": [
      "UndefVarError: df not defined\n",
      "\n",
      "Stacktrace:\n",
      " [1] top-level scope\n",
      "   @ /app/replication/replication_code.ipynb:1"
     ]
    }
   ],
   "source": [
    "count, L = 0, size(df,1)\n",
    "new_prices = zeros(L)\n",
    "for i in df.id\n",
    "    count = count + 1\n",
    "    if count < L\n",
    "        if isa(df.miss[count+1],Number) & !isa(df.miss[count],Number) & (df.id[count] == df.id[count+1])\n",
    "            j = count + 1\n",
    "            while (df.id[j] == df.id[count]) & isa.(df.miss[j],Number)\n",
    "                j = j + 1\n",
    "            end\n",
    "            if (df.id[j] == df.id[count])\n",
    "                for k in count:1:j\n",
    "                    if k < (count+j)/2+1\n",
    "                        new_prices[k] = df.price[count]\n",
    "                        else\n",
    "                            new_prices[k] = df.price[j]\n",
    "                        end\n",
    "                end     \n",
    "                else\n",
    "                    for k in count:1:j-1\n",
    "                        new_prices[k] = df.price[count]\n",
    "                    end\n",
    "                end        \n",
    "        end\n",
    "    end\n",
    "end\n",
    "new_prices[isa.(df.price,Number)] = df.price[isa.(df.price,Number)];"
   ]
  },
  {
   "cell_type": "markdown",
   "metadata": {},
   "source": [
    "----\n",
    "#### Initiate the spells database"
   ]
  },
  {
   "cell_type": "code",
   "execution_count": 5,
   "metadata": {},
   "outputs": [
    {
     "ename": "UndefVarError",
     "evalue": "UndefVarError: L not defined",
     "output_type": "error",
     "traceback": [
      "UndefVarError: L not defined\n",
      "\n",
      "Stacktrace:\n",
      " [1] top-level scope\n",
      "   @ /app/replication/replication_code.ipynb:13"
     ]
    }
   ],
   "source": [
    "spell_price = []\n",
    "spell_url = []\n",
    "spell_duration = []\n",
    "spell_id = []\n",
    "spell_category = []\n",
    "spell_sale = []\n",
    "spell_initial = []\n",
    "spell_final = []\n",
    "duration = 0\n",
    "init = 0\n",
    "fin = 0\n",
    "\n",
    "for i in 1:1:L-1\n",
    "    duration = duration + 1\n",
    "    if isa(df.initialspell[i],Number)\n",
    "        init = 1\n",
    "    end\n",
    "    if isa(df.lastspell[i],Number)\n",
    "        fin = 1\n",
    "    end\n",
    "    if (df.id[i+1] != df.id[i]) || (new_prices[i+1] != new_prices[i])\n",
    "        append!(spell_price,new_prices[i])\n",
    "        append!(spell_id,df.id[i])\n",
    "        append!(spell_url,df.cat_url[i])\n",
    "        append!(spell_duration,duration)\n",
    "        append!(spell_category,df.category[i])\n",
    "        append!(spell_initial,init)\n",
    "        append!(spell_final,fin)\n",
    "        if isa(df.sale[i],Number)\n",
    "            append!(spell_sale,df.sale[i])\n",
    "        else\n",
    "            append!(spell_sale,0)                \n",
    "        end\n",
    "        duration = 0\n",
    "        init = 0\n",
    "        fin = 0\n",
    "    end\n",
    "end"
   ]
  },
  {
   "cell_type": "markdown",
   "metadata": {},
   "source": [
    "----\n",
    "#### Write the new dataframe"
   ]
  },
  {
   "cell_type": "markdown",
   "metadata": {},
   "source": [
    "<div class=\"alert alert-block alert-info\">\n",
    "    <b>Replication Note:</b> upper_cutoff is denoted in log price changes and lower_cutoff is denoted in dollar price changes.\n",
    "</div>"
   ]
  },
  {
   "cell_type": "code",
   "execution_count": 6,
   "metadata": {},
   "outputs": [
    {
     "name": "stdout",
     "output_type": "stream",
     "text": [
      "Sales deleted: 0\n",
      "Short spells deleted: 0\n",
      "Small changes deleted: 0\n",
      "Large changes deleted: 0"
     ]
    }
   ],
   "source": [
    "dfspells = DataFrame(id = spell_id, url = spell_url, category = spell_category, price = spell_price, duration = spell_duration, initial = spell_initial, final = spell_final, sale = spell_sale)\n",
    "dfspells.change = zeros(size(dfspells,1))\n",
    "dfspells.logchange = zeros(size(dfspells,1))\n",
    "upper_cutoff = 1.5\n",
    "lower_cutoff = 0.009\n",
    "remove_sales, remove_short = false, false\n",
    "\n",
    "# replace the sales, small and large deviations, and short spells with the previous price\n",
    "\n",
    "flag = [0, 0, 0, 0, 0]\n",
    "N = length(dfspells.id)\n",
    "for i in 1:1:N-1\n",
    "    if (remove_sales) & (dfspells.sale[i+1] == 1)\n",
    "        dfspells.price[i+1] = dfspells.price[i]\n",
    "        flag[1] += 1\n",
    "    end\n",
    "    if (remove_short) & (dfspells.id[i] == dfspells.id[i+1]) & (dfspells.duration[i+1] < 3)\n",
    "        dfspells.price[i+1] = dfspells.price[i]\n",
    "        flag[2] += 1\n",
    "    end\n",
    "    if (abs(dfspells.price[i+1] - dfspells.price[i]) < lower_cutoff) & (dfspells.id[i] == dfspells.id[i+1])\n",
    "        if abs(dfspells.price[i+1] - dfspells.price[i]) > 0\n",
    "            flag[3] += 1\n",
    "        end\n",
    "        dfspells.price[i+1] = dfspells.price[i]\n",
    "    end\n",
    "    if (dfspells.id[i] == dfspells.id[i+1]) & (abs(log(dfspells.price[i+1]) - log(dfspells.price[i])) > upper_cutoff)\n",
    "        dfspells.price[i+1] = dfspells.price[i]\n",
    "        flag[4] += 1\n",
    "    end\n",
    "end\n",
    "print(\"Sales deleted: \",flag[1],\"\\nShort spells deleted: \",flag[2],\"\\nSmall changes deleted: \",flag[3],\"\\nLarge changes deleted: \",flag[4])\n",
    "\n",
    "# merge neighboring spells with the same price and id\n",
    "\n",
    "for i in 1:1:N-1\n",
    "    if (abs(dfspells.price[i] - dfspells.price[i+1]) < lower_cutoff) & (dfspells.id[i] == dfspells.id[i+1])\n",
    "        dfspells.duration[i+1] = dfspells.duration[i+1] + dfspells.duration[i]\n",
    "        dfspells.initial[i+1] = dfspells.initial[i]\n",
    "        dfspells.duration[i] = 0\n",
    "    end\n",
    "end\n",
    "\n",
    "# delete zero durations and add changes\n",
    "\n",
    "dfspells = dfspells[dfspells.duration .> 0, :]\n",
    "dfspells = dfspells[dfspells.initial.*dfspells.final .== 0, :]\n",
    "N = length(dfspells.id)\n",
    "for i in 1:1:N-1\n",
    "    if dfspells.initial[i+1] == 0\n",
    "        dfspells.change[i+1] = (dfspells.price[i+1]-dfspells.price[i])/dfspells.price[i]\n",
    "        dfspells.logchange[i+1] = log(dfspells.price[i+1])-log(dfspells.price[i])\n",
    "    end\n",
    "end\n",
    "select!(dfspells, Not(:sale))\n",
    "dfspells.length = dfspells.initial - dfspells.final\n",
    "\n",
    "# go forwards and write the spell number\n",
    "\n",
    "count = 0\n",
    "for i in 1:1:N\n",
    "    count = count + 1\n",
    "    dfspells.initial[i] = count\n",
    "    if dfspells.final[i] == 1\n",
    "        count = 0\n",
    "    end\n",
    "end\n",
    "\n",
    "# go backwards and write the spell length\n",
    "\n",
    "num = 0\n",
    "for i in 1:1:N\n",
    "    if dfspells.final[N+1-i] == 1\n",
    "        num = dfspells.initial[N+1-i]\n",
    "    end\n",
    "    dfspells.length[N+1-i] = num\n",
    "end\n",
    "\n",
    "# three products have confcting category identificators, delete them\n",
    "\n",
    "dfspells = dfspells[dfspells.id .!= 41976, :]\n",
    "dfspells = dfspells[dfspells.id .!= 46568, :]\n",
    "dfspells = dfspells[dfspells.id .!= 45549, :];\n",
    "\n",
    "# write the file with spells\n",
    "\n",
    "CSV.write(\"spells1.csv\",dfspells);"
   ]
  },
  {
   "cell_type": "markdown",
   "metadata": {},
   "source": [
    "----\n",
    "#### Take products with at least 3 spells (equivalently, at least two changes)"
   ]
  },
  {
   "cell_type": "code",
   "execution_count": 7,
   "metadata": {},
   "outputs": [],
   "source": [
    "df2 = dfspells[dfspells.length .> 2, :]\n",
    "S = size(df2[df2.initial .== 3, :],1)\n",
    "pow41 = (df2[df2.initial .== 2, :].logchange).^4\n",
    "pow21 = (df2[df2.initial .== 2, :].logchange).^2\n",
    "pow22 = (df2[df2.initial .== 3, :].logchange).^2;"
   ]
  },
  {
   "cell_type": "markdown",
   "metadata": {},
   "source": [
    "----\n",
    "#### Histogram for an exemplary category"
   ]
  },
  {
   "cell_type": "code",
   "execution_count": 8,
   "metadata": {},
   "outputs": [
    {
     "ename": "ArgumentError",
     "evalue": "ArgumentError: collection must be non-empty",
     "output_type": "error",
     "traceback": [
      "ArgumentError: collection must be non-empty\n",
      "\n",
      "Stacktrace:\n",
      " [1] _extrema_itr(f::typeof(identity), itr::Vector{Float64})\n",
      "   @ Base ./operators.jl:483\n",
      " [2] _extrema_dims\n",
      "   @ ./multidimensional.jl:1706 [inlined]\n",
      " [3] #extrema#486\n",
      "   @ ./multidimensional.jl:1693 [inlined]\n",
      " [4] extrema\n",
      "   @ ./multidimensional.jl:1693 [inlined]\n",
      " [5] kde_boundary\n",
      "   @ ~/.julia/packages/KernelDensity/wRVC2/src/univariate.jl:76 [inlined]\n",
      " [6] top-level scope\n",
      "   @ /app/replication/replication_code.ipynb:2"
     ]
    }
   ],
   "source": [
    "df561 = dfspells[dfspells.category .== 561, :]\n",
    "density = kde(df561[df561.logchange .!= 0.0, :].logchange,bandwidth=0.03,kernel=Logistic)\n",
    "histogram(df561[df561.logchange .!= 0.0, :].logchange,xlim=[-1.0,1.0],bins=200,legend=false,normed=true)\n",
    "plot!(density.x,density.density,color=:red,linewidth=4)"
   ]
  },
  {
   "cell_type": "code",
   "execution_count": 9,
   "metadata": {},
   "outputs": [
    {
     "data": {
      "text/plain": [
       "\"561.csv\""
      ]
     },
     "metadata": {},
     "output_type": "display_data"
    }
   ],
   "source": [
    "CSV.write(\"561.csv\",df561[df561.logchange .!= 0.0, :])"
   ]
  },
  {
   "cell_type": "markdown",
   "metadata": {
    "jp-MarkdownHeadingCollapsed": true,
    "tags": []
   },
   "source": [
    "----\n",
    "#### Symmetrized histogram and fitted kernel density"
   ]
  },
  {
   "cell_type": "code",
   "execution_count": 10,
   "metadata": {},
   "outputs": [
    {
     "ename": "ArgumentError",
     "evalue": "ArgumentError: collection must be non-empty",
     "output_type": "error",
     "traceback": [
      "ArgumentError: collection must be non-empty\n",
      "\n",
      "Stacktrace:\n",
      " [1] _extrema_itr(f::typeof(identity), itr::Vector{Float64})\n",
      "   @ Base ./operators.jl:483\n",
      " [2] _extrema_dims\n",
      "   @ ./multidimensional.jl:1706 [inlined]\n",
      " [3] #extrema#486\n",
      "   @ ./multidimensional.jl:1693 [inlined]\n",
      " [4] extrema\n",
      "   @ ./multidimensional.jl:1693 [inlined]\n",
      " [5] kde_boundary\n",
      "   @ ~/.julia/packages/KernelDensity/wRVC2/src/univariate.jl:76 [inlined]\n",
      " [6] top-level scope\n",
      "   @ /app/replication/replication_code.ipynb:2"
     ]
    }
   ],
   "source": [
    "changes = [df561[df561.logchange .!= 0.0, :].logchange; -df561[df561.logchange .!= 0.0, :].logchange]\n",
    "density = kde(changes,bandwidth=0.03,kernel=Logistic)\n",
    "kernel_den = DataFrame(x = density.x, q = density.density)\n",
    "CSV.write(\"kernel_den.csv\",kernel_den)\n",
    "print(\"mean absolute price change \",mean(abs.(changes)),\";\\n standard deviation of absolute price change \",std(abs.(changes)))\n",
    "histogram(changes,xlim=[-1.0,1.0],normed=true,bins=200,legend=false)\n",
    "plot!(density.x,density.density,color=:red,linewidth=4)"
   ]
  },
  {
   "cell_type": "code",
   "execution_count": 11,
   "metadata": {},
   "outputs": [
    {
     "ename": "ArgumentError",
     "evalue": "ArgumentError: reducing over an empty collection is not allowed",
     "output_type": "error",
     "traceback": [
      "ArgumentError: reducing over an empty collection is not allowed\n",
      "\n",
      "Stacktrace:\n",
      "  [1] _empty_reduce_error()\n",
      "    @ Base ./reduce.jl:299\n",
      "  [2] mapreduce_empty(f::Type, op::Function, T::Type)\n",
      "    @ Base ./reduce.jl:342\n",
      "  [3] reduce_empty(op::Base.MappingRF{DataType, typeof(Base.add_sum)}, #unused#::Type{Float64})\n",
      "    @ Base ./reduce.jl:329\n",
      "  [4] reduce_empty_iter\n",
      "    @ ./reduce.jl:355 [inlined]\n",
      "  [5] mapreduce_empty_iter(f::Type, op::Function, itr::Vector{Float64}, ItrEltype::Base.HasEltype)\n",
      "    @ Base ./reduce.jl:351\n",
      "  [6] _mapreduce\n",
      "    @ ./reduce.jl:400 [inlined]\n",
      "  [7] _mapreduce_dim\n",
      "    @ ./reducedim.jl:318 [inlined]\n",
      "  [8] #mapreduce#678\n",
      "    @ ./reducedim.jl:310 [inlined]\n",
      "  [9] mapreduce\n",
      "    @ ./reducedim.jl:310 [inlined]\n",
      " [10] #_sum#688\n",
      "    @ ./reducedim.jl:878 [inlined]\n",
      " [11] _sum\n",
      "    @ ./reducedim.jl:878 [inlined]\n",
      " [12] #sum#686\n",
      "    @ ./reducedim.jl:874 [inlined]\n",
      " [13] sum\n",
      "    @ ./reducedim.jl:874 [inlined]\n",
      " [14] macro expansion\n",
      "    @ ~/.julia/packages/StatsBase/iMkPf/src/hist.jl:488 [inlined]\n",
      " [15] normalize!(::StatsBase.Histogram{Float64, 1, Tuple{StepRangeLen{Float64, Base.TwicePrecision{Float64}, Base.TwicePrecision{Float64}}}}; mode::Symbol)\n",
      "    @ StatsBase ~/.julia/packages/StatsBase/iMkPf/src/hist.jl:461\n",
      " [16] _make_hist(vs::Tuple{Vector{Float64}}, binning::Int64; normed::Bool, weights::Nothing)\n",
      "    @ Plots ~/.julia/packages/Plots/rz1WP/src/recipes.jl:797\n",
      " [17] macro expansion\n",
      "    @ ~/.julia/packages/Plots/rz1WP/src/recipes.jl:809 [inlined]\n",
      " [18] apply_recipe(plotattributes::AbstractDict{Symbol, Any}, #unused#::Type{Val{:barhist}}, x::Any, y::Any, z::Any)\n",
      "    @ Plots ~/.julia/packages/RecipesBase/BRe07/src/RecipesBase.jl:300\n",
      " [19] _process_seriesrecipe(plt::Any, plotattributes::Any)\n",
      "    @ RecipesPipeline ~/.julia/packages/RecipesPipeline/BGM3l/src/series_recipe.jl:50\n",
      " [20] _process_seriesrecipe(plt::Any, plotattributes::Any)\n",
      "    @ RecipesPipeline ~/.julia/packages/RecipesPipeline/BGM3l/src/series_recipe.jl:62\n",
      " [21] _process_seriesrecipes!(plt::Any, kw_list::Any)\n",
      "    @ RecipesPipeline ~/.julia/packages/RecipesPipeline/BGM3l/src/series_recipe.jl:27\n",
      " [22] recipe_pipeline!(plt::Any, plotattributes::Any, args::Any)\n",
      "    @ RecipesPipeline ~/.julia/packages/RecipesPipeline/BGM3l/src/RecipesPipeline.jl:99\n",
      " [23] _plot!(plt::Plots.Plot, plotattributes::Any, args::Any)\n",
      "    @ Plots ~/.julia/packages/Plots/rz1WP/src/plot.jl:223\n",
      " [24] #plot#184\n",
      "    @ ~/.julia/packages/Plots/rz1WP/src/plot.jl:102 [inlined]\n",
      " [25] histogram(args::Any; kw::Any)\n",
      "    @ Plots ~/.julia/packages/RecipesBase/BRe07/src/RecipesBase.jl:427\n",
      " [26] top-level scope\n",
      "    @ /app/replication/replication_code.ipynb:1"
     ]
    }
   ],
   "source": [
    "histogram(df561[df561.logchange .!= 0.0, :].logchange,xlim=[-1.0,1.0],bins=200,legend=false,normed=true)\n",
    "plot!(density.x,density.density,color=:red,linewidth=4)"
   ]
  },
  {
   "cell_type": "markdown",
   "metadata": {},
   "source": [
    "----\n",
    "#### Plot $q(0)$ as a function of bandwidth"
   ]
  },
  {
   "cell_type": "code",
   "execution_count": 12,
   "metadata": {},
   "outputs": [
    {
     "ename": "ArgumentError",
     "evalue": "ArgumentError: collection must be non-empty",
     "output_type": "error",
     "traceback": [
      "ArgumentError: collection must be non-empty\n",
      "\n",
      "Stacktrace:\n",
      " [1] _extrema_itr(f::typeof(identity), itr::Vector{Float64})\n",
      "   @ Base ./operators.jl:483\n",
      " [2] _extrema_dims\n",
      "   @ ./multidimensional.jl:1706 [inlined]\n",
      " [3] #extrema#486\n",
      "   @ ./multidimensional.jl:1693 [inlined]\n",
      " [4] extrema\n",
      "   @ ./multidimensional.jl:1693 [inlined]\n",
      " [5] kde_boundary\n",
      "   @ ~/.julia/packages/KernelDensity/wRVC2/src/univariate.jl:76 [inlined]\n",
      " [6] top-level scope\n",
      "   @ /app/replication/replication_code.ipynb:3"
     ]
    }
   ],
   "source": [
    "BW, q0 = collect(0.001:0.0001:0.03), []\n",
    "for bw in BW\n",
    "    dens = kde(changes,bandwidth=bw)\n",
    "    append!(q0,(dens.density[Int64(length(dens.density)/2)+1]+dens.density[Int64(length(dens.density)/2)])/2)\n",
    "end\n",
    "plot(BW,q0,label=L\"q(0)\",legend=:topleft,color=:red,xlabel=\"bandwidth\")"
   ]
  },
  {
   "cell_type": "markdown",
   "metadata": {},
   "source": [
    "----\n",
    "#### Bootstrapping procedure to see the difference between the pooled kurtosis and the underlying kusrtosis estimated with the first two price changes"
   ]
  },
  {
   "cell_type": "markdown",
   "metadata": {},
   "source": [
    "<div class=\"alert alert-block alert-info\">\n",
    "    <b>Replication Note:</b> Unused section in the original program.\n",
    "</div>"
   ]
  },
  {
   "cell_type": "code",
   "execution_count": null,
   "metadata": {},
   "outputs": [],
   "source": [
    "b, B, K, K_pooled = 10000, 5000, [], []\n",
    "p4, p21, p22 = zeros(b), zeros(b), zeros(b)\n",
    "\n",
    "for j in 1:1:B\n",
    "    ind = rand(DiscreteUniform(1,S),b)\n",
    "    count = 0\n",
    "    for i in ind\n",
    "        count += 1\n",
    "        p21[count] = pow21[i]\n",
    "        p22[count] = pow22[i]\n",
    "        p4[count] = pow41[i]\n",
    "    end\n",
    "    append!(K, mean(p4)/mean(p22.*p21))\n",
    "    append!(K_pooled, mean(p4)/mean(p21)^2)\n",
    "end\n",
    "\n",
    "m, s = mean(K), std(K)\n",
    "norm1 = norm_den.(sort!(collect(Set(K))))\n",
    "print(\"\\nUnderlying: \", m, \" (\", s, \")\\n\")\n",
    "m, s = mean(K_pooled), std(K_pooled)\n",
    "print(\"Pooled: \", m, \" (\", s, \")\\n\")\n",
    "norm2 = norm_den.(sort!(collect(Set(K_pooled))))\n",
    "\n",
    "histogram(K,label=\"Underlying\",legend=:topright,color=:blue,normalize=true)\n",
    "histogram!(K_pooled,label=\"Pooled\",color=:red,normalize=true)\n",
    "plot!(sort!(collect(Set(K))),norm1,linewidth=3,color=:black,label=\"\")\n",
    "plot!(sort!(collect(Set(K_pooled))),norm2,linewidth=3,color=:black,label=\"\")"
   ]
  },
  {
   "cell_type": "markdown",
   "metadata": {
    "tags": []
   },
   "source": [
    "----\n",
    "#### Initiate the category database"
   ]
  },
  {
   "cell_type": "code",
   "execution_count": 13,
   "metadata": {},
   "outputs": [],
   "source": [
    "cat_ids, number = collect(Set(df2.category)), []\n",
    "\n",
    "for cat in cat_ids\n",
    "    append!(number, length(collect(Set(df2[df2.category .== cat, :].id))))\n",
    "end\n",
    "\n",
    "statistics = DataFrame(category_id = Int64.(cat_ids), number_of_products = Int64.(number))\n",
    "statistics = statistics[statistics.number_of_products .> 100, :]\n",
    "statistics.number_price_changes = zeros(Int64,size(statistics,1))\n",
    "statistics.mean_price_change = zeros(size(statistics,1))\n",
    "statistics.mean_abs_change = zeros(size(statistics,1))\n",
    "statistics.mean_inv_change = zeros(size(statistics,1))\n",
    "statistics.std_price_change = zeros(size(statistics,1))\n",
    "statistics.skewness = zeros(size(statistics,1))\n",
    "statistics.alpha_with22 = zeros(size(statistics,1))\n",
    "statistics.alpha_with22_ste = zeros(size(statistics,1))\n",
    "statistics.alpha_with31 = zeros(size(statistics,1))\n",
    "statistics.alpha_with31_ste = zeros(size(statistics,1))\n",
    "statistics.g11 = zeros(size(statistics,1))\n",
    "statistics.g11_ste = zeros(size(statistics,1))\n",
    "statistics.g21 = zeros(size(statistics,1))\n",
    "statistics.g21_ste = zeros(size(statistics,1))\n",
    "statistics.g22 = zeros(size(statistics,1)) # \n",
    "statistics.g22_ste = zeros(size(statistics,1))\n",
    "statistics.g31 = zeros(size(statistics,1))\n",
    "statistics.g31_ste = zeros(size(statistics,1))\n",
    "statistics.g32 = zeros(size(statistics,1))\n",
    "statistics.g32_ste = zeros(size(statistics,1))\n",
    "statistics.M1 = zeros(size(statistics,1))\n",
    "statistics.M2 = zeros(size(statistics,1))\n",
    "statistics.M3 = zeros(size(statistics,1))\n",
    "statistics.M4 = zeros(size(statistics,1))\n",
    "statistics.underlying12_kurt = zeros(size(statistics,1)) # \n",
    "statistics.underlying12_kurt_ste = zeros(size(statistics,1))\n",
    "statistics.pooled_kurt = zeros(size(statistics,1))\n",
    "statistics.pooled_kurt_ste = zeros(size(statistics,1))\n",
    "statistics.corr12 = zeros(size(statistics,1))\n",
    "statistics.coefvar1 = zeros(size(statistics,1))\n",
    "statistics.coefvar2 = zeros(size(statistics,1))\n",
    "statistics.coefvar = zeros(size(statistics,1))\n",
    "statistics.implied_corr = zeros(size(statistics,1))\n",
    "statistics.mean_duration = zeros(size(statistics,1))\n",
    "statistics.ste_duration = zeros(size(statistics,1))\n",
    "statistics.alpha1 = zeros(size(statistics,1))\n",
    "statistics.alpha2 = zeros(size(statistics,1))\n",
    "statistics.ratio_betas = zeros(size(statistics,1))\n",
    "statistics.weight_on1 = zeros(size(statistics,1))\n",
    "statistics.C_pooled = zeros(size(statistics,1))\n",
    "statistics.C = zeros(size(statistics,1));"
   ]
  },
  {
   "cell_type": "markdown",
   "metadata": {
    "tags": []
   },
   "source": [
    "----\n",
    "#### Estimate the statistics for the seven biggest categories"
   ]
  },
  {
   "cell_type": "markdown",
   "metadata": {},
   "source": [
    "<div class=\"alert alert-block alert-warning\">\n",
    "    <b>Replication Edit:</b> Initialize objects for storing empirical results.\n",
    "</div>\n",
    "\n",
    "<div class=\"alert alert-block alert-info\">\n",
    "    <b>Replication Note:</b> Number of repetition in the bootstrapping procedure: <br>\n",
    "    B = 5000 for variable statistics.underlying12_kurt reported as kurtosis (t = 1, 2) in Table 3 <br>\n",
    "    B = 1000 for variable g22_ste reported as the standard error for Kurtosis pooled <br>\n",
    "    and variable pooled_kurt_ste reported as the standard error for Kurtosis w/ unobs heterog. in Table 1 <br>    \n",
    "</div>"
   ]
  },
  {
   "cell_type": "code",
   "execution_count": 14,
   "metadata": {},
   "outputs": [
    {
     "name": "stdout",
     "output_type": "stream",
     "text": [
      "\u001b[1m0×11 DataFrame\n",
      "\u001b[1m Row │\u001b[1m cat   \u001b[1m num_prod \u001b[1m num_p_chg \u001b[1m Ep      \u001b[1m sp      \u001b[1m k_pooled \u001b[1m k_pooled_ste \u001b[1m k_u     \u001b[1m k_u_ste \u001b[1m C_pooled \u001b[1m C_u\n",
      "     │\u001b[90m Int64 \u001b[90m Int64    \u001b[90m Int64     \u001b[90m Float64 \u001b[90m Float64 \u001b[90m Float64  \u001b[90m Float64      \u001b[90m Float64 \u001b[90m Float64 \u001b[90m Float64  \u001b[90m Float64\n",
      "─────┴───────────────────────────────────────────────────────────────────────────────────────────────────────────\n",
      "\u001b[1m0×10 DataFrame\n",
      "\u001b[1m Row │\u001b[1m cat   \u001b[1m g11     \u001b[1m g21     \u001b[1m g31     \u001b[1m g32     \u001b[1m a1      \u001b[1m a2      \u001b[1m bs      \u001b[1m w       \u001b[1m a22\n",
      "     │\u001b[90m Int64 \u001b[90m Float64 \u001b[90m Float64 \u001b[90m Float64 \u001b[90m Float64 \u001b[90m Float64 \u001b[90m Float64 \u001b[90m Float64 \u001b[90m Float64 \u001b[90m Float64\n",
      "─────┴────────────────────────────────────────────────────────────────────────────────────────\n",
      "\u001b[1m0×8 DataFrame\n",
      "\u001b[1m Row │\u001b[1m cat   \u001b[1m skew    \u001b[1m kurt    \u001b[1m kurt_ste \u001b[1m kurt12  \u001b[1m kurt12_ste \u001b[1m corr    \u001b[1m CV\n",
      "     │\u001b[90m Int64 \u001b[90m Float64 \u001b[90m Float64 \u001b[90m Float64  \u001b[90m Float64 \u001b[90m Float64    \u001b[90m Float64 \u001b[90m Float64\n",
      "─────┴──────────────────────────────────────────────────────────────────────────\n"
     ]
    }
   ],
   "source": [
    "statistics = statistics[statistics.number_of_products .> 1000, :]\n",
    "sort!(statistics,:number_of_products,rev=true)\n",
    "cat, gammas = 1, zeros(size(statistics,1),5)\n",
    "\n",
    "replicated_t1 = DataFrame(\n",
    "    cat = Int[], \n",
    "    num_prod = Int[], \n",
    "    num_p_chg = Int[], \n",
    "    Ep = Float64[], \n",
    "    sp = Float64[], \n",
    "    k_pooled = Float64[], \n",
    "    k_pooled_ste = Float64[], \n",
    "    k_u = Float64[], \n",
    "    k_u_ste = Float64[], \n",
    "    C_pooled = Float64[], \n",
    "    C_u = Float64[])\n",
    "\n",
    "replicated_t2 = DataFrame(\n",
    "    cat = Int[], \n",
    "    g11 = Float64[], \n",
    "    g21 = Float64[], \n",
    "    g31 = Float64[], \n",
    "    g32 = Float64[], \n",
    "    a1 = Float64[], \n",
    "    a2 = Float64[], \n",
    "    bs = Float64[], \n",
    "    w = Float64[], \n",
    "    a22 = Float64[])\n",
    "\n",
    "replicated_t3 = DataFrame(\n",
    "    cat = Int[], \n",
    "    skew = Float64[], \n",
    "    kurt = Float64[], \n",
    "    kurt_ste = Float64[], \n",
    "    kurt12 = Float64[], \n",
    "    kurt12_ste = Float64[], \n",
    "    corr = Float64[], \n",
    "    CV = Float64[])\n",
    "\n",
    "kurt_g22 = DataFrame(\n",
    "    cat = Int[], \n",
    "    g22 = Float64[], \n",
    "    underlying_kurt = Float64[], \n",
    "    diff = Float64[])\n",
    "\n",
    "for c in statistics.category_id\n",
    "    dfcat = df2[df2.category .== c, :]\n",
    "    \n",
    "    # use the first two price changes to estimate the underlying kurtosis and correlations\n",
    "    # bootstrap standard errors\n",
    "    S = size(dfcat[dfcat.initial .== 3, :],1)\n",
    "    pow41 = (dfcat[dfcat.initial .== 2, :].logchange).^4\n",
    "    pow42 = (dfcat[dfcat.initial .== 3, :].logchange).^4\n",
    "    pow21 = (dfcat[dfcat.initial .== 2, :].logchange).^2\n",
    "    pow22 = (dfcat[dfcat.initial .== 3, :].logchange).^2\n",
    "    \n",
    "    B, K, K_pooled, p41, p42, p21, p22  = 5000, [], [], zeros(S), zeros(S), zeros(S), zeros(S)\n",
    "    for j in 1:1:B\n",
    "        ind = rand(DiscreteUniform(1,S),S)\n",
    "        count = 0\n",
    "        p21, p22, p41, p42 = pow21[ind], pow22[ind], pow41[ind], pow42[ind]\n",
    "        append!(K, 0.5*mean(p41)/mean(p22.*p21) + 0.5*mean(p42)/mean(p22.*p21))\n",
    "        append!(K_pooled, mean(vcat(p41,p42))/mean(vcat(p21,p22))^2)\n",
    "    end\n",
    "    \n",
    "    # write the first set of statistics\n",
    "    i = findfirst(isequal(c),statistics.category_id)\n",
    "    statistics.number_price_changes[i] = length(dfcat.logchange)\n",
    "    statistics.mean_price_change[i] = mean(dfcat.logchange)\n",
    "    statistics.mean_abs_change[i] = mean(abs.(dfcat.logchange))\n",
    "    statistics.mean_inv_change[i] = mean(abs.(dfcat[dfcat.logchange.>0,:].logchange).^(-1))\n",
    "    statistics.std_price_change[i] = std(dfcat.logchange)\n",
    "    statistics.skewness[i] = mean((dfcat.logchange-mean(dfcat.logchange)*ones(length(dfcat.logchange))).^3)/(statistics.std_price_change[i])^3\n",
    "    statistics.mean_duration[i], statistics.ste_duration[i] = mean(dfcat.duration), std(dfcat.duration)\n",
    "    statistics.underlying12_kurt[i], statistics.underlying12_kurt_ste[i] = (0.5*mean(pow41)+0.5*mean(pow42))/mean(pow22.*pow21), std(K)\n",
    "    statistics.corr12[i], statistics.coefvar1[i], statistics.coefvar2[i] = cor(pow21,pow22), std(pow21)/mean(pow21), std(pow22)/mean(pow22)\n",
    "    \n",
    "    changes = [dfcat.logchange[abs.(dfcat.logchange).>0.0001]; -dfcat.logchange[abs.(dfcat.logchange).>0.0001]]\n",
    "    dens = kde(changes)\n",
    "    # print(dens.density[Int64(length(dens.density)/2)],\" \",dens.x[Int64(length(dens.density)/2)],\" \",dens.x[Int64(length(dens.density)/2)+1],\"\\n\")\n",
    "    statistics.C_pooled[i] = dens.density[Int64(length(dens.density)/2)]/2*var(changes)/mean(abs.(changes))\n",
    "    \n",
    "    gamma11, gamma21, gamma22, gamma31, gamma32 = 0, 0, 0, 0, 0\n",
    "    Sigma31, Sigma22,  = zeros(3,3), zeros(3,3)\n",
    "    M1, M2, M3, M4, alpha = 0, 0, 0, 0, 0\n",
    "\n",
    "    # estimate the dimensionless statisticsistics using the algorithm\n",
    "    ids = collect(Set(dfcat.id))\n",
    "    cols = vcat(Symbol(\"product\"),[Symbol(\"e$k\") for k in [11, 21, 31, 32, 22]])\n",
    "    cols = vcat(cols,[Symbol(\"e$k\") for k in [2, 3, 4, 5]])\n",
    "    #dfprod = DataFrame(vcat(Int64, [Float64 for k in 1:9]), cols, length(ids)) # error\n",
    "    #dfprod.product = ids\n",
    "    t = vcat(Int64, [Float64 for k in 1:9])\n",
    "    dfprod = DataFrame(cols .=> [type[] for type in t])\n",
    "    #dfprod = DataFrame(length(ids),cols .=> [type[] for type in t])    \n",
    "    #cols = eltype.(vcat(Int64, [Float64 for k in 1:9]))\n",
    "    #dfprod = DataFrame(missing, length(ids), cols)\n",
    "    #dfprod[!,:product] = ids\n",
    "\n",
    "    for i in ids\n",
    "        push!(dfprod, (i,0.0,0.0,0.0,0.0,0.0,0.0,0.0,0.0,0.0))\n",
    "    end\n",
    "        \n",
    "    num_correction = []\n",
    "    for prod in ids\n",
    "        changes = abs.(dfcat[dfcat.id .== prod, :].logchange[2:end])\n",
    "        changes = changes[changes.>0]\n",
    "        p = findfirst(isequal(prod),dfprod.product)\n",
    "        l = length(changes)\n",
    "        \n",
    "        # correction for C\n",
    "        numerator, Z = mean(changes), (changes.^(-1))*transpose(changes.^2)\n",
    "        append!(num_correction,(sum(Z) - numerator*l)/l/(l-1))\n",
    "        \n",
    "        # gammas\n",
    "        numerator, summa, k, j = 0, 0, 0, 0\n",
    "        row = []\n",
    "        for pair in [11, 21, 31, 32, 22]\n",
    "            j = Int64(pair%10)\n",
    "            k = Int64((pair - j)/10)\n",
    "            numerator, Z = mean(changes.^(j+k)), (changes.^j)*transpose(changes.^k)\n",
    "            append!(row,(sum(Z) - numerator*l)/l/(l-1))\n",
    "            append!(row,numerator)\n",
    "        end\n",
    "        for col in 1:1:4\n",
    "            dfprod[p,1+col], dfprod[p,6+col] = row[2*col-1], row[2*col]\n",
    "        end\n",
    "        dfprod[p,6] = row[end-1]\n",
    "    end\n",
    "    \n",
    "    # bootstrap standard errors\n",
    "    mom1, mom2, mom3, mom4 = [], [], [], []\n",
    "    G11, G21, G22, G31, G32 = [], [], [], [], []\n",
    "    B, C_pooled, C, k_pooled = 1000, [], [], []\n",
    "    for b in 1:1:B\n",
    "        indices = rand(DiscreteUniform(1,size(dfprod,1)),Int64(round(size(dfprod,1)*0.8)))\n",
    "        dfprod_boot = dfprod[indices, :]\n",
    "        gamma11 = mean(dfprod_boot.e2)/mean(dfprod_boot.e11)\n",
    "        gamma21 = mean(dfprod_boot.e3)/mean(dfprod_boot.e21)\n",
    "        gamma31 = mean(dfprod_boot.e4)/mean(dfprod_boot.e31)\n",
    "        gamma32 = mean(dfprod_boot.e5)/mean(dfprod_boot.e32)\n",
    "        gamma22 = mean(dfprod_boot.e4)/mean(dfprod_boot.e22)\n",
    "        append!(G11,gamma11)\n",
    "        append!(G21,gamma21)\n",
    "        append!(G31,gamma31)\n",
    "        append!(G32,gamma32)\n",
    "        append!(G22,gamma22)\n",
    "        append!(mom1,1/(gamma11-1))\n",
    "        append!(mom2,2/(gamma21-1))\n",
    "        append!(mom3,3/(gamma31-1))\n",
    "        append!(mom4,3*gamma21/(gamma22*gamma11-gamma21))\n",
    "        append!(k_pooled,mean(dfprod_boot.e4)/(mean(dfprod_boot.e2))^2)\n",
    "    end\n",
    "    \n",
    "    # estimate the size of Gamma distribution using three different gammas\n",
    "    # weight myopically with inverse variance, standard errors from Delta method \n",
    "    Sigma31[1,1], Sigma31[1,2], Sigma31[1,3] = var(mom1), cov(mom1,mom2), cov(mom1,mom3)\n",
    "    Sigma31[2,1], Sigma31[2,2], Sigma31[2,3] = Sigma31[1,2], var(mom2), cov(mom2,mom3)\n",
    "    Sigma31[3,1], Sigma31[3,2], Sigma31[3,3] = Sigma31[1,3], Sigma31[2,3], var(mom3)\n",
    "    Sigma22[1,1], Sigma22[1,2], Sigma22[1,3] = var(mom1), cov(mom1,mom2), cov(mom1,mom4)\n",
    "    Sigma22[2,1], Sigma22[2,2], Sigma22[2,3] = Sigma22[1,2], var(mom2), cov(mom2,mom4)\n",
    "    Sigma22[3,1], Sigma22[3,2], Sigma22[3,3] = Sigma22[1,3], Sigma22[2,3], var(mom4)\n",
    "    \n",
    "    weights31, weights22 = ones(3)./[var(mom1), var(mom2), var(mom4)], ones(3)./[var(mom1), var(mom2), var(mom4)]\n",
    "    weights31, weights22 = weights31/sum(weights31), weights22/sum(weights22)\n",
    "\n",
    "    gamma11 = mean(dfprod.e2)/mean(dfprod.e11)\n",
    "    gamma21 = mean(dfprod.e3)/mean(dfprod.e21)\n",
    "    gamma31 = mean(dfprod.e4)/mean(dfprod.e31)\n",
    "    gamma32 = mean(dfprod.e5)/mean(dfprod.e32)\n",
    "    gamma22 = mean(dfprod.e4)/mean(dfprod.e22) # this is the underlying Kurtosis\n",
    "    M1, M2, M3, M4 = 1/(gamma11-1), 2/(gamma21-1), 3/(gamma31-1), 3*gamma21/(gamma22*gamma11-gamma21)\n",
    "    alpha_with31, alpha_with22 = [M1 M2 M3]*weights31, [M1 M2 M4]*weights22\n",
    "    alpha_with31, alpha_with22 = alpha_with31[1], alpha_with22[1]\n",
    "    \n",
    "    # write the rest of the statisticsistics\n",
    "    statistics.alpha_with31[i], statistics.alpha_with31_ste[i] = alpha_with31, sqrt((weights22')*Sigma31*weights22)\n",
    "    statistics.alpha_with22[i], statistics.alpha_with22_ste[i] = alpha_with22, sqrt((weights31')*Sigma22*weights31)\n",
    "    statistics.g11[i], statistics.g11_ste[i] = gamma11, std(G11)\n",
    "    statistics.g21[i], statistics.g21_ste[i] = gamma21, std(G21)\n",
    "    statistics.g22[i], statistics.g22_ste[i] = gamma22, std(G22)\n",
    "    statistics.g31[i], statistics.g31_ste[i] = gamma31, std(G31)\n",
    "    statistics.g32[i], statistics.g32_ste[i] = gamma32, std(G32)\n",
    "    statistics.M1[i], statistics.M2[i], statistics.M3[i], statistics.M4[i] = M1, M2, M3, M4\n",
    "    statistics.pooled_kurt[i], statistics.pooled_kurt_ste[i] = mean(dfprod.e4)/((mean(dfprod.e2))^2), std(k_pooled)\n",
    "    statistics.coefvar[i] = sqrt(mean(dfprod.e4)-(mean(dfprod.e2))^2)/mean((dfprod.e2))\n",
    "    statistics.implied_corr[i] = (statistics.pooled_kurt[i]/statistics.g22[i] - 1)/(statistics.coefvar[i]^2)\n",
    "    statistics.C[i] = statistics.C_pooled[i]*mean(num_correction)/(statistics.mean_inv_change[i]*statistics.std_price_change[i]^2)\n",
    "    \n",
    "    gammas[cat,1], gammas[cat,2:end] = i, [gamma11, gamma21, gamma22, gamma32]\n",
    "    cat += 1\n",
    "\n",
    "    #print(\" category number \",(\" \"*string(c))[end-3:end],\" of the size \",length(ids),\"\\n\")\n",
    "\n",
    "    push!(\n",
    "        replicated_t1, \n",
    "        [c, \n",
    "            length(ids), \n",
    "            statistics.number_price_changes[i], \n",
    "            round(statistics.mean_price_change[i],digits = 3), \n",
    "            round(statistics.std_price_change[i], digits = 2), \n",
    "            round(statistics.pooled_kurt[i], digits = 1), \n",
    "            round(statistics.pooled_kurt_ste[i], digits = 2), \n",
    "            round(statistics.g22[i],digits = 1), \n",
    "            round(statistics.g22_ste[i], digits = 2), \n",
    "            round(statistics.C_pooled[i], digits = 2), \n",
    "            round(statistics.C[i], digits = 2)])\n",
    "\n",
    "    push!(\n",
    "        replicated_t2, \n",
    "        [c, \n",
    "            round(statistics.g11[i], digits = 3), \n",
    "            round(statistics.g21[i], digits = 3), \n",
    "            round(statistics.g31[i], digits = 3), \n",
    "            round(statistics.g32[i], digits = 3), \n",
    "            round(statistics.alpha1[i], digits = 3), \n",
    "            round(statistics.alpha2[i], digits = 3), \n",
    "            round(statistics.ratio_betas[i], digits = 3), \n",
    "            round(statistics.weight_on1[i], digits = 3), \n",
    "            round(statistics.alpha_with22[i], digits = 3)\n",
    "            ])\n",
    "    \n",
    "    push!(\n",
    "        replicated_t3, \n",
    "        [c, \n",
    "            round(statistics.skewness[i], digits = 3), \n",
    "            round(statistics.g22[i], digits = 3), \n",
    "            round(statistics.g22_ste[i], digits = 3), \n",
    "            round(statistics.underlying12_kurt[i], digits = 3), \n",
    "            round(statistics.underlying12_kurt_ste[i], digits = 3), \n",
    "            round(statistics.implied_corr[i], digits = 3), \n",
    "            round(statistics.coefvar[i], digits = 3)\n",
    "            ])\n",
    "    \n",
    "    diff = statistics.g22[i] - statistics.underlying12_kurt[i]\n",
    "    push!(\n",
    "        kurt_g22, \n",
    "        [c, \n",
    "            round(statistics.g22[i],digits = 3), \n",
    "            round(statistics.underlying12_kurt[i], digits=3), \n",
    "            round(diff, digits = 3)\n",
    "            ])\n",
    "    \n",
    "end\n",
    "\n",
    "# kurtosis w/ unobs het = statistics.g22\n",
    "println(replicated_t1)\n",
    "println(replicated_t2)\n",
    "println(replicated_t3)"
   ]
  },
  {
   "cell_type": "markdown",
   "metadata": {},
   "source": [
    "----\n",
    "#### Implement distance minimization for all categories, fit parameters of:\n",
    "- two Gamma distributions\n",
    "- $\\alpha_1$ and $\\alpha_2$\n",
    "- the weight on the first one\n",
    "- the ratio of $\\beta_1$ and $\\beta_2$ are identified"
   ]
  },
  {
   "cell_type": "code",
   "execution_count": 15,
   "metadata": {},
   "outputs": [
    {
     "ename": "BoundsError",
     "evalue": "BoundsError: attempt to access 0×5 Matrix{Float64} at index [1, 2:5]",
     "output_type": "error",
     "traceback": [
      "BoundsError: attempt to access 0×5 Matrix{Float64} at index [1, 2:5]\n",
      "\n",
      "Stacktrace:\n",
      "  [1] throw_boundserror(A::Matrix{Float64}, I::Tuple{Int64, UnitRange{Int64}})\n",
      "    @ Base ./abstractarray.jl:651\n",
      "  [2] checkbounds\n",
      "    @ ./abstractarray.jl:616 [inlined]\n",
      "  [3] _getindex\n",
      "    @ ./multidimensional.jl:837 [inlined]\n",
      "  [4] getindex(::Matrix{Float64}, ::Int64, ::UnitRange{Int64})\n",
      "    @ Base ./abstractarray.jl:1170\n",
      "  [5] (::var\"#17#18\"{Int64})(x::Vector{Float64})\n",
      "    @ Main /app/replication/replication_code.ipynb:2\n",
      "  [6] value!!(obj::NonDifferentiable{Float64, Vector{Float64}}, x::Vector{Float64})\n",
      "    @ NLSolversBase ~/.julia/packages/NLSolversBase/kavn7/src/interface.jl:9\n",
      "  [7] initial_state(method::NelderMead{Optim.AffineSimplexer, Optim.AdaptiveParameters}, options::Optim.Options{Float64, Nothing}, d::NonDifferentiable{Float64, Vector{Float64}}, initial_x::Vector{Float64})\n",
      "    @ Optim ~/.julia/packages/Optim/dBGGV/src/multivariate/solvers/zeroth_order/nelder_mead.jl:171\n",
      "  [8] optimize(d::NonDifferentiable{Float64, Vector{Float64}}, initial_x::Vector{Float64}, method::NelderMead{Optim.AffineSimplexer, Optim.AdaptiveParameters}, options::Optim.Options{Float64, Nothing})\n",
      "    @ Optim ~/.julia/packages/Optim/dBGGV/src/multivariate/optimize/optimize.jl:36\n",
      "  [9] optimize(f::Function, initial_x::Vector{Float64}; inplace::Bool, autodiff::Symbol, kwargs::Base.Iterators.Pairs{Union{}, Union{}, Tuple{}, NamedTuple{(), Tuple{}}})\n",
      "    @ Optim ~/.julia/packages/Optim/dBGGV/src/multivariate/optimize/interface.jl:91\n",
      " [10] top-level scope\n",
      "    @ /app/replication/replication_code.ipynb:2"
     ]
    }
   ],
   "source": [
    "for cat in 1:1:7 \n",
    "    res = optimize(x->gap(x,gammas[cat,2:end]), [0.1, 0.1, 10.0, 0.0], autodiff=:forward)\n",
    "    i = Int64(gammas[cat,1])\n",
    "    print(\"\\n\",abs.(res.minimizer),\" \",res.minimum,\"\\n\")\n",
    "    statistics.alpha1[i] = abs(res.minimizer[1])\n",
    "    statistics.alpha2[i] = abs(res.minimizer[2])\n",
    "    statistics.ratio_betas[i] = abs(res.minimizer[3])\n",
    "    statistics.weight_on1[i] = abs(res.minimizer[4])\n",
    "end"
   ]
  },
  {
   "cell_type": "markdown",
   "metadata": {},
   "source": [
    "----\n",
    "<div class=\"alert alert-block alert-warning\">\n",
    "    <b>Replication Edit:</b> Entered the reported values in the tables included in the published article. Compare with the values generated by the program.\n",
    "</div>"
   ]
  },
  {
   "cell_type": "code",
   "execution_count": 16,
   "metadata": {},
   "outputs": [
    {
     "ename": "DimensionMismatch",
     "evalue": "DimensionMismatch(\"arrays could not be broadcast to a common size; got a dimension with lengths 7 and 0\")",
     "output_type": "error",
     "traceback": [
      "DimensionMismatch(\"arrays could not be broadcast to a common size; got a dimension with lengths 7 and 0\")\n",
      "\n",
      "Stacktrace:\n",
      " [1] _bcs1\n",
      "   @ ./broadcast.jl:501 [inlined]\n",
      " [2] _bcs(shape::Tuple{Base.OneTo{Int64}, Base.OneTo{Int64}}, newshape::Tuple{Base.OneTo{Int64}, Base.OneTo{Int64}})\n",
      "   @ Base.Broadcast ./broadcast.jl:495\n",
      " [3] broadcast_shape\n",
      "   @ ./broadcast.jl:489 [inlined]\n",
      " [4] combine_axes\n",
      "   @ ./broadcast.jl:484 [inlined]\n",
      " [5] instantiate\n",
      "   @ ./broadcast.jl:266 [inlined]\n",
      " [6] materialize(bc::Base.Broadcast.Broadcasted{DataFrames.DataFrameStyle, Nothing, typeof(-), Tuple{DataFrame, DataFrame}})\n",
      "   @ Base.Broadcast ./broadcast.jl:883\n",
      " [7] top-level scope\n",
      "   @ /app/replication/replication_code.ipynb:36"
     ]
    }
   ],
   "source": [
    "reported_t1 = DataFrame(\n",
    "    cat = [111,119,1212,122,118,117,561], \n",
    "    num_prod = [3439, 3228, 2551, 1405, 1390, 1154, 1032], \n",
    "    num_p_chg = [75144, 56898, 30361, 27563, 30492, 21123, 17782], \n",
    "    Ep = [0.002, 0.002, -0.001, 0.002, 0.003, 0.007, 0.002], \n",
    "    sp = [0.34, 0.33, 0.25, 0.34, 0.31, 0.31, 0.26], \n",
    "    k_pooled = [3.4, 3.8, 3.5, 3.0, 3.6, 3.5, 3.3], \n",
    "    k_pooled_ste = [0.16, 0.09, 0.27, 0.09, 0.24, 0.14, 0.22], \n",
    "    k_u = [1.7, 2.0, 2.1, 1.7, 2.0, 2.0, 1.8], \n",
    "    k_u_ste = [0.07, 0.05, 0.16, 0.05, 0.12, 0.05, 0.13], \n",
    "    C_pooled = [0.07, 0.10, 0.07, 0.10, 0.06, 0.08, 0.05], \n",
    "    C_u = [0.06, 0.07, 0.06, 0.07, 0.06, 0.06, 0.04])\n",
    "\n",
    "reported_t2 = DataFrame(\n",
    "    cat = [111,119,1212,122,118,117,561], \n",
    "    g11 = [1.248, 1.282, 1.242, 1.243, 1.289, 1.281, 1.216],\n",
    "    g21 = [1.406, 1.507, 1.476, 1.397, 1.539, 1.511, 1.394],\n",
    "    g31 = [1.507, 1.702, 1.786, 1.508, 1.777, 1.721, 1.586],\n",
    "    g32 = [1.787, 2.381, 2.923, 1.903, 2.552, 2.484, 2.271],\n",
    "    a1 = [2.099, 1.058, 0.599, 1.848, 3.123, 0.967, 0.998],\n",
    "    a2 = [12.19, 6.012, 3.873, 9.779, 9.836, 5.442, 5.783],\n",
    "    bs = [228.677, 91.439, 73.414, 173.048, 0.628, 84.154, 103.470],\n",
    "    w = [0.161,0.109,0.000,0.131,0.580,0.089,0.031],\n",
    "    a22 = [4.248, 3.747, 4.151, 4.460, 3.610, 3.801, 4.782])\n",
    "\n",
    "reported_t3 = DataFrame(\n",
    "    cat = [111,119,1212,122,118,117,561], \n",
    "    skew = [-0.121,0.011,-0.020,-0.025,-0.012,-0.004,-0.006],\n",
    "    kurt = [1.656, 1.955, 2.051, 1.677, 2.044, 1.989, 1.778],\n",
    "    kurt_ste = [0.065, 0.050, 0.162, 0.051, 0.118, 0.047, 0.133],\n",
    "    kurt12 = [1.426, 1.288, 1.710, 1.189, 1.663, 1.422, 1.403],\n",
    "    kurt12_ste = [0.071, 0.042, 0.186, 0.019, 0.150, 0.089, 0.066],\n",
    "    corr = [0.440, 0.339, 0.284, 0.390, 0.295, 0.303, 0.374],\n",
    "    CV = [1.555, 1.683, 1.589, 1.398, 1.620, 1.577, 1.524])\n",
    "\n",
    "diff_t1 = reported_t1 .- replicated_t1\n",
    "diff_t1[:, :cat] = reported_t1[:,1]\n",
    "\n",
    "diff_t2 = reported_t2 .- replicated_t2\n",
    "diff_t2[:, :cat] = reported_t2[:,1]\n",
    "\n",
    "diff_t3 = reported_t3 .- replicated_t3\n",
    "diff_t3[:, :cat] = reported_t3[:,1]\n",
    "\n",
    "println(diff_t1)\n",
    "println(diff_t2)\n",
    "println(diff_t3)"
   ]
  },
  {
   "cell_type": "markdown",
   "metadata": {},
   "source": [
    "----\n",
    "#### Create an array of price changes for these categories\n",
    "Price changes in units of respective standard deviations"
   ]
  },
  {
   "cell_type": "code",
   "execution_count": 17,
   "metadata": {},
   "outputs": [
    {
     "name": "stdout",
     "output_type": "stream",
     "text": [
      "Inf NaN NaN"
     ]
    }
   ],
   "source": [
    "standardized_changes = zeros(1)\n",
    "raw_changes = zeros(1)\n",
    "mean_duration = 0\n",
    "\n",
    "for c in statistics.category_id\n",
    "    dfcat = df2[df2.category .== c, :]\n",
    "    standardized_changes = vcat(standardized_changes,dfcat[dfcat.logchange.!=0,:logchange]/std(dfcat[dfcat.logchange.!=0,:logchange]))\n",
    "    raw_changes = vcat(raw_changes,dfcat[dfcat.logchange.!=0,:logchange])\n",
    "    mean_duration += sum(dfcat.duration)\n",
    "end\n",
    "\n",
    "mean_duration = mean_duration/length(raw_changes)\n",
    "N_pooled = 365/mean_duration\n",
    "V_raw = var(raw_changes[2:end])\n",
    "V_sta = var(standardized_changes[2:end])\n",
    "print(N_pooled,\" \",V_raw,\" \",V_sta)"
   ]
  },
  {
   "cell_type": "markdown",
   "metadata": {
    "jp-MarkdownHeadingCollapsed": true,
    "tags": []
   },
   "source": [
    "----\n",
    "#### Plot the histogram and fitted density of non-standardized changes"
   ]
  },
  {
   "cell_type": "code",
   "execution_count": 18,
   "metadata": {},
   "outputs": [
    {
     "data": {
      "image/png": "[encoded data removed]",
      "image/svg+xml": [
       "<?xml version=\"1.0\" encoding=\"utf-8\"?>\n",
       "<svg xmlns=\"http://www.w3.org/2000/svg\" xmlns:xlink=\"http://www.w3.org/1999/xlink\" width=\"600\" height=\"400\" viewBox=\"0 0 2400 1600\">\n",
       "<defs>\n",
       "  <clipPath id=\"clip410\">\n",
       "    <rect x=\"0\" y=\"0\" width=\"2400\" height=\"1600\"/>\n",
       "  </clipPath>\n",
       "</defs>\n",
       "<path clip-path=\"url(#clip410)\" d=\"M0 1600 L2400 1600 L2400 0 L0 0  Z\" fill=\"#ffffff\" fill-rule=\"evenodd\" fill-opacity=\"1\"/>\n",
       "<defs>\n",
       "  <clipPath id=\"clip411\">\n",
       "    <rect x=\"480\" y=\"0\" width=\"1681\" height=\"1600\"/>\n",
       "  </clipPath>\n",
       "</defs>\n",
       "<path clip-path=\"url(#clip410)\" d=\"M138.959 1486.45 L2352.76 1486.45 L2352.76 47.2441 L138.959 47.2441  Z\" fill=\"#ffffff\" fill-rule=\"evenodd\" fill-opacity=\"1\"/>\n",
       "<defs>\n",
       "  <clipPath id=\"clip412\">\n",
       "    <rect x=\"138\" y=\"47\" width=\"2215\" height=\"1440\"/>\n",
       "  </clipPath>\n",
       "</defs>\n",
       "<polyline clip-path=\"url(#clip412)\" style=\"stroke:#000000; stroke-linecap:round; stroke-linejoin:round; stroke-width:2; stroke-opacity:0.1; fill:none\" points=\"138.959,1486.45 138.959,47.2441 \"/>\n",
       "<polyline clip-path=\"url(#clip412)\" style=\"stroke:#000000; stroke-linecap:round; stroke-linejoin:round; stroke-width:2; stroke-opacity:0.1; fill:none\" points=\"507.926,1486.45 507.926,47.2441 \"/>\n",
       "<polyline clip-path=\"url(#clip412)\" style=\"stroke:#000000; stroke-linecap:round; stroke-linejoin:round; stroke-width:2; stroke-opacity:0.1; fill:none\" points=\"876.892,1486.45 876.892,47.2441 \"/>\n",
       "<polyline clip-path=\"url(#clip412)\" style=\"stroke:#000000; stroke-linecap:round; stroke-linejoin:round; stroke-width:2; stroke-opacity:0.1; fill:none\" points=\"1245.86,1486.45 1245.86,47.2441 \"/>\n",
       "<polyline clip-path=\"url(#clip412)\" style=\"stroke:#000000; stroke-linecap:round; stroke-linejoin:round; stroke-width:2; stroke-opacity:0.1; fill:none\" points=\"1614.82,1486.45 1614.82,47.2441 \"/>\n",
       "<polyline clip-path=\"url(#clip412)\" style=\"stroke:#000000; stroke-linecap:round; stroke-linejoin:round; stroke-width:2; stroke-opacity:0.1; fill:none\" points=\"1983.79,1486.45 1983.79,47.2441 \"/>\n",
       "<polyline clip-path=\"url(#clip412)\" style=\"stroke:#000000; stroke-linecap:round; stroke-linejoin:round; stroke-width:2; stroke-opacity:0.1; fill:none\" points=\"2352.76,1486.45 2352.76,47.2441 \"/>\n",
       "<polyline clip-path=\"url(#clip410)\" style=\"stroke:#000000; stroke-linecap:round; stroke-linejoin:round; stroke-width:4; stroke-opacity:1; fill:none\" points=\"138.959,1486.45 2352.76,1486.45 \"/>\n",
       "<polyline clip-path=\"url(#clip410)\" style=\"stroke:#000000; stroke-linecap:round; stroke-linejoin:round; stroke-width:4; stroke-opacity:1; fill:none\" points=\"138.959,1486.45 138.959,1467.55 \"/>\n",
       "<polyline clip-path=\"url(#clip410)\" style=\"stroke:#000000; stroke-linecap:round; stroke-linejoin:round; stroke-width:4; stroke-opacity:1; fill:none\" points=\"507.926,1486.45 507.926,1467.55 \"/>\n",
       "<polyline clip-path=\"url(#clip410)\" style=\"stroke:#000000; stroke-linecap:round; stroke-linejoin:round; stroke-width:4; stroke-opacity:1; fill:none\" points=\"876.892,1486.45 876.892,1467.55 \"/>\n",
       "<polyline clip-path=\"url(#clip410)\" style=\"stroke:#000000; stroke-linecap:round; stroke-linejoin:round; stroke-width:4; stroke-opacity:1; fill:none\" points=\"1245.86,1486.45 1245.86,1467.55 \"/>\n",
       "<polyline clip-path=\"url(#clip410)\" style=\"stroke:#000000; stroke-linecap:round; stroke-linejoin:round; stroke-width:4; stroke-opacity:1; fill:none\" points=\"1614.82,1486.45 1614.82,1467.55 \"/>\n",
       "<polyline clip-path=\"url(#clip410)\" style=\"stroke:#000000; stroke-linecap:round; stroke-linejoin:round; stroke-width:4; stroke-opacity:1; fill:none\" points=\"1983.79,1486.45 1983.79,1467.55 \"/>\n",
       "<polyline clip-path=\"url(#clip410)\" style=\"stroke:#000000; stroke-linecap:round; stroke-linejoin:round; stroke-width:4; stroke-opacity:1; fill:none\" points=\"2352.76,1486.45 2352.76,1467.55 \"/>\n",
       "<path clip-path=\"url(#clip410)\" d=\"M85.9852 1532.02 L115.661 1532.02 L115.661 1535.95 L85.9852 1535.95 L85.9852 1532.02 Z\" fill=\"#000000\" fill-rule=\"nonzero\" fill-opacity=\"1\" /><path clip-path=\"url(#clip410)\" d=\"M126.564 1544.91 L134.203 1544.91 L134.203 1518.55 L125.892 1520.21 L125.892 1515.95 L134.156 1514.29 L138.832 1514.29 L138.832 1544.91 L146.471 1544.91 L146.471 1548.85 L126.564 1548.85 L126.564 1544.91 Z\" fill=\"#000000\" fill-rule=\"nonzero\" fill-opacity=\"1\" /><path clip-path=\"url(#clip410)\" d=\"M155.915 1542.97 L160.8 1542.97 L160.8 1548.85 L155.915 1548.85 L155.915 1542.97 Z\" fill=\"#000000\" fill-rule=\"nonzero\" fill-opacity=\"1\" /><path clip-path=\"url(#clip410)\" d=\"M171.031 1514.29 L189.387 1514.29 L189.387 1518.22 L175.313 1518.22 L175.313 1526.7 Q176.332 1526.35 177.35 1526.19 Q178.369 1526 179.387 1526 Q185.174 1526 188.554 1529.17 Q191.934 1532.34 191.934 1537.76 Q191.934 1543.34 188.461 1546.44 Q184.989 1549.52 178.67 1549.52 Q176.494 1549.52 174.225 1549.15 Q171.98 1548.78 169.573 1548.04 L169.573 1543.34 Q171.656 1544.47 173.878 1545.03 Q176.1 1545.58 178.577 1545.58 Q182.582 1545.58 184.92 1543.48 Q187.258 1541.37 187.258 1537.76 Q187.258 1534.15 184.92 1532.04 Q182.582 1529.94 178.577 1529.94 Q176.702 1529.94 174.827 1530.35 Q172.975 1530.77 171.031 1531.65 L171.031 1514.29 Z\" fill=\"#000000\" fill-rule=\"nonzero\" fill-opacity=\"1\" /><path clip-path=\"url(#clip410)\" d=\"M454.454 1532.02 L484.129 1532.02 L484.129 1535.95 L454.454 1535.95 L454.454 1532.02 Z\" fill=\"#000000\" fill-rule=\"nonzero\" fill-opacity=\"1\" /><path clip-path=\"url(#clip410)\" d=\"M495.032 1544.91 L502.671 1544.91 L502.671 1518.55 L494.361 1520.21 L494.361 1515.95 L502.625 1514.29 L507.301 1514.29 L507.301 1544.91 L514.939 1544.91 L514.939 1548.85 L495.032 1548.85 L495.032 1544.91 Z\" fill=\"#000000\" fill-rule=\"nonzero\" fill-opacity=\"1\" /><path clip-path=\"url(#clip410)\" d=\"M524.384 1542.97 L529.268 1542.97 L529.268 1548.85 L524.384 1548.85 L524.384 1542.97 Z\" fill=\"#000000\" fill-rule=\"nonzero\" fill-opacity=\"1\" /><path clip-path=\"url(#clip410)\" d=\"M549.453 1517.37 Q545.842 1517.37 544.013 1520.93 Q542.208 1524.47 542.208 1531.6 Q542.208 1538.71 544.013 1542.27 Q545.842 1545.82 549.453 1545.82 Q553.087 1545.82 554.893 1542.27 Q556.722 1538.71 556.722 1531.6 Q556.722 1524.47 554.893 1520.93 Q553.087 1517.37 549.453 1517.37 M549.453 1513.66 Q555.263 1513.66 558.319 1518.27 Q561.397 1522.85 561.397 1531.6 Q561.397 1540.33 558.319 1544.94 Q555.263 1549.52 549.453 1549.52 Q543.643 1549.52 540.564 1544.94 Q537.509 1540.33 537.509 1531.6 Q537.509 1522.85 540.564 1518.27 Q543.643 1513.66 549.453 1513.66 Z\" fill=\"#000000\" fill-rule=\"nonzero\" fill-opacity=\"1\" /><path clip-path=\"url(#clip410)\" d=\"M823.917 1532.02 L853.593 1532.02 L853.593 1535.95 L823.917 1535.95 L823.917 1532.02 Z\" fill=\"#000000\" fill-rule=\"nonzero\" fill-opacity=\"1\" /><path clip-path=\"url(#clip410)\" d=\"M873.686 1517.37 Q870.075 1517.37 868.246 1520.93 Q866.44 1524.47 866.44 1531.6 Q866.44 1538.71 868.246 1542.27 Q870.075 1545.82 873.686 1545.82 Q877.32 1545.82 879.125 1542.27 Q880.954 1538.71 880.954 1531.6 Q880.954 1524.47 879.125 1520.93 Q877.32 1517.37 873.686 1517.37 M873.686 1513.66 Q879.496 1513.66 882.551 1518.27 Q885.63 1522.85 885.63 1531.6 Q885.63 1540.33 882.551 1544.94 Q879.496 1549.52 873.686 1549.52 Q867.875 1549.52 864.797 1544.94 Q861.741 1540.33 861.741 1531.6 Q861.741 1522.85 864.797 1518.27 Q867.875 1513.66 873.686 1513.66 Z\" fill=\"#000000\" fill-rule=\"nonzero\" fill-opacity=\"1\" /><path clip-path=\"url(#clip410)\" d=\"M893.848 1542.97 L898.732 1542.97 L898.732 1548.85 L893.848 1548.85 L893.848 1542.97 Z\" fill=\"#000000\" fill-rule=\"nonzero\" fill-opacity=\"1\" /><path clip-path=\"url(#clip410)\" d=\"M908.963 1514.29 L927.32 1514.29 L927.32 1518.22 L913.246 1518.22 L913.246 1526.7 Q914.264 1526.35 915.283 1526.19 Q916.301 1526 917.32 1526 Q923.107 1526 926.486 1529.17 Q929.866 1532.34 929.866 1537.76 Q929.866 1543.34 926.394 1546.44 Q922.921 1549.52 916.602 1549.52 Q914.426 1549.52 912.158 1549.15 Q909.912 1548.78 907.505 1548.04 L907.505 1543.34 Q909.588 1544.47 911.81 1545.03 Q914.033 1545.58 916.509 1545.58 Q920.514 1545.58 922.852 1543.48 Q925.19 1541.37 925.19 1537.76 Q925.19 1534.15 922.852 1532.04 Q920.514 1529.94 916.509 1529.94 Q914.634 1529.94 912.759 1530.35 Q910.908 1530.77 908.963 1531.65 L908.963 1514.29 Z\" fill=\"#000000\" fill-rule=\"nonzero\" fill-opacity=\"1\" /><path clip-path=\"url(#clip410)\" d=\"M1223.24 1517.37 Q1219.63 1517.37 1217.8 1520.93 Q1216 1524.47 1216 1531.6 Q1216 1538.71 1217.8 1542.27 Q1219.63 1545.82 1223.24 1545.82 Q1226.88 1545.82 1228.68 1542.27 Q1230.51 1538.71 1230.51 1531.6 Q1230.51 1524.47 1228.68 1520.93 Q1226.88 1517.37 1223.24 1517.37 M1223.24 1513.66 Q1229.05 1513.66 1232.11 1518.27 Q1235.19 1522.85 1235.19 1531.6 Q1235.19 1540.33 1232.11 1544.94 Q1229.05 1549.52 1223.24 1549.52 Q1217.43 1549.52 1214.35 1544.94 Q1211.3 1540.33 1211.3 1531.6 Q1211.3 1522.85 1214.35 1518.27 Q1217.43 1513.66 1223.24 1513.66 Z\" fill=\"#000000\" fill-rule=\"nonzero\" fill-opacity=\"1\" /><path clip-path=\"url(#clip410)\" d=\"M1243.4 1542.97 L1248.29 1542.97 L1248.29 1548.85 L1243.4 1548.85 L1243.4 1542.97 Z\" fill=\"#000000\" fill-rule=\"nonzero\" fill-opacity=\"1\" /><path clip-path=\"url(#clip410)\" d=\"M1268.47 1517.37 Q1264.86 1517.37 1263.03 1520.93 Q1261.23 1524.47 1261.23 1531.6 Q1261.23 1538.71 1263.03 1542.27 Q1264.86 1545.82 1268.47 1545.82 Q1272.11 1545.82 1273.91 1542.27 Q1275.74 1538.71 1275.74 1531.6 Q1275.74 1524.47 1273.91 1520.93 Q1272.11 1517.37 1268.47 1517.37 M1268.47 1513.66 Q1274.28 1513.66 1277.34 1518.27 Q1280.42 1522.85 1280.42 1531.6 Q1280.42 1540.33 1277.34 1544.94 Q1274.28 1549.52 1268.47 1549.52 Q1262.66 1549.52 1259.58 1544.94 Q1256.53 1540.33 1256.53 1531.6 Q1256.53 1522.85 1259.58 1518.27 Q1262.66 1513.66 1268.47 1513.66 Z\" fill=\"#000000\" fill-rule=\"nonzero\" fill-opacity=\"1\" /><path clip-path=\"url(#clip410)\" d=\"M1592.71 1517.37 Q1589.09 1517.37 1587.27 1520.93 Q1585.46 1524.47 1585.46 1531.6 Q1585.46 1538.71 1587.27 1542.27 Q1589.09 1545.82 1592.71 1545.82 Q1596.34 1545.82 1598.15 1542.27 Q1599.97 1538.71 1599.97 1531.6 Q1599.97 1524.47 1598.15 1520.93 Q1596.34 1517.37 1592.71 1517.37 M1592.71 1513.66 Q1598.52 1513.66 1601.57 1518.27 Q1604.65 1522.85 1604.65 1531.6 Q1604.65 1540.33 1601.57 1544.94 Q1598.52 1549.52 1592.71 1549.52 Q1586.9 1549.52 1583.82 1544.94 Q1580.76 1540.33 1580.76 1531.6 Q1580.76 1522.85 1583.82 1518.27 Q1586.9 1513.66 1592.71 1513.66 Z\" fill=\"#000000\" fill-rule=\"nonzero\" fill-opacity=\"1\" /><path clip-path=\"url(#clip410)\" d=\"M1612.87 1542.97 L1617.75 1542.97 L1617.75 1548.85 L1612.87 1548.85 L1612.87 1542.97 Z\" fill=\"#000000\" fill-rule=\"nonzero\" fill-opacity=\"1\" /><path clip-path=\"url(#clip410)\" d=\"M1627.98 1514.29 L1646.34 1514.29 L1646.34 1518.22 L1632.27 1518.22 L1632.27 1526.7 Q1633.28 1526.35 1634.3 1526.19 Q1635.32 1526 1636.34 1526 Q1642.13 1526 1645.51 1529.17 Q1648.89 1532.34 1648.89 1537.76 Q1648.89 1543.34 1645.41 1546.44 Q1641.94 1549.52 1635.62 1549.52 Q1633.45 1549.52 1631.18 1549.15 Q1628.93 1548.78 1626.53 1548.04 L1626.53 1543.34 Q1628.61 1544.47 1630.83 1545.03 Q1633.05 1545.58 1635.53 1545.58 Q1639.53 1545.58 1641.87 1543.48 Q1644.21 1541.37 1644.21 1537.76 Q1644.21 1534.15 1641.87 1532.04 Q1639.53 1529.94 1635.53 1529.94 Q1633.65 1529.94 1631.78 1530.35 Q1629.93 1530.77 1627.98 1531.65 L1627.98 1514.29 Z\" fill=\"#000000\" fill-rule=\"nonzero\" fill-opacity=\"1\" /><path clip-path=\"url(#clip410)\" d=\"M1950.94 1544.91 L1958.58 1544.91 L1958.58 1518.55 L1950.27 1520.21 L1950.27 1515.95 L1958.54 1514.29 L1963.21 1514.29 L1963.21 1544.91 L1970.85 1544.91 L1970.85 1548.85 L1950.94 1548.85 L1950.94 1544.91 Z\" fill=\"#000000\" fill-rule=\"nonzero\" fill-opacity=\"1\" /><path clip-path=\"url(#clip410)\" d=\"M1980.29 1542.97 L1985.18 1542.97 L1985.18 1548.85 L1980.29 1548.85 L1980.29 1542.97 Z\" fill=\"#000000\" fill-rule=\"nonzero\" fill-opacity=\"1\" /><path clip-path=\"url(#clip410)\" d=\"M2005.36 1517.37 Q2001.75 1517.37 1999.92 1520.93 Q1998.12 1524.47 1998.12 1531.6 Q1998.12 1538.71 1999.92 1542.27 Q2001.75 1545.82 2005.36 1545.82 Q2009 1545.82 2010.8 1542.27 Q2012.63 1538.71 2012.63 1531.6 Q2012.63 1524.47 2010.8 1520.93 Q2009 1517.37 2005.36 1517.37 M2005.36 1513.66 Q2011.17 1513.66 2014.23 1518.27 Q2017.31 1522.85 2017.31 1531.6 Q2017.31 1540.33 2014.23 1544.94 Q2011.17 1549.52 2005.36 1549.52 Q1999.55 1549.52 1996.47 1544.94 Q1993.42 1540.33 1993.42 1531.6 Q1993.42 1522.85 1996.47 1518.27 Q1999.55 1513.66 2005.36 1513.66 Z\" fill=\"#000000\" fill-rule=\"nonzero\" fill-opacity=\"1\" /><path clip-path=\"url(#clip410)\" d=\"M2320.41 1544.91 L2328.05 1544.91 L2328.05 1518.55 L2319.74 1520.21 L2319.74 1515.95 L2328 1514.29 L2332.67 1514.29 L2332.67 1544.91 L2340.31 1544.91 L2340.31 1548.85 L2320.41 1548.85 L2320.41 1544.91 Z\" fill=\"#000000\" fill-rule=\"nonzero\" fill-opacity=\"1\" /><path clip-path=\"url(#clip410)\" d=\"M2349.76 1542.97 L2354.64 1542.97 L2354.64 1548.85 L2349.76 1548.85 L2349.76 1542.97 Z\" fill=\"#000000\" fill-rule=\"nonzero\" fill-opacity=\"1\" /><path clip-path=\"url(#clip410)\" d=\"M2364.87 1514.29 L2383.23 1514.29 L2383.23 1518.22 L2369.16 1518.22 L2369.16 1526.7 Q2370.17 1526.35 2371.19 1526.19 Q2372.21 1526 2373.23 1526 Q2379.02 1526 2382.4 1529.17 Q2385.78 1532.34 2385.78 1537.76 Q2385.78 1543.34 2382.3 1546.44 Q2378.83 1549.52 2372.51 1549.52 Q2370.34 1549.52 2368.07 1549.15 Q2365.82 1548.78 2363.42 1548.04 L2363.42 1543.34 Q2365.5 1544.47 2367.72 1545.03 Q2369.94 1545.58 2372.42 1545.58 Q2376.42 1545.58 2378.76 1543.48 Q2381.1 1541.37 2381.1 1537.76 Q2381.1 1534.15 2378.76 1532.04 Q2376.42 1529.94 2372.42 1529.94 Q2370.55 1529.94 2368.67 1530.35 Q2366.82 1530.77 2364.87 1531.65 L2364.87 1514.29 Z\" fill=\"#000000\" fill-rule=\"nonzero\" fill-opacity=\"1\" /><polyline clip-path=\"url(#clip412)\" style=\"stroke:#000000; stroke-linecap:round; stroke-linejoin:round; stroke-width:2; stroke-opacity:0.1; fill:none\" points=\"138.959,1445.72 2352.76,1445.72 \"/>\n",
       "<polyline clip-path=\"url(#clip412)\" style=\"stroke:#000000; stroke-linecap:round; stroke-linejoin:round; stroke-width:2; stroke-opacity:0.1; fill:none\" points=\"138.959,1236.12 2352.76,1236.12 \"/>\n",
       "<polyline clip-path=\"url(#clip412)\" style=\"stroke:#000000; stroke-linecap:round; stroke-linejoin:round; stroke-width:2; stroke-opacity:0.1; fill:none\" points=\"138.959,1026.52 2352.76,1026.52 \"/>\n",
       "<polyline clip-path=\"url(#clip412)\" style=\"stroke:#000000; stroke-linecap:round; stroke-linejoin:round; stroke-width:2; stroke-opacity:0.1; fill:none\" points=\"138.959,816.923 2352.76,816.923 \"/>\n",
       "<polyline clip-path=\"url(#clip412)\" style=\"stroke:#000000; stroke-linecap:round; stroke-linejoin:round; stroke-width:2; stroke-opacity:0.1; fill:none\" points=\"138.959,607.325 2352.76,607.325 \"/>\n",
       "<polyline clip-path=\"url(#clip412)\" style=\"stroke:#000000; stroke-linecap:round; stroke-linejoin:round; stroke-width:2; stroke-opacity:0.1; fill:none\" points=\"138.959,397.728 2352.76,397.728 \"/>\n",
       "<polyline clip-path=\"url(#clip412)\" style=\"stroke:#000000; stroke-linecap:round; stroke-linejoin:round; stroke-width:2; stroke-opacity:0.1; fill:none\" points=\"138.959,188.13 2352.76,188.13 \"/>\n",
       "<polyline clip-path=\"url(#clip410)\" style=\"stroke:#000000; stroke-linecap:round; stroke-linejoin:round; stroke-width:4; stroke-opacity:1; fill:none\" points=\"138.959,1486.45 138.959,47.2441 \"/>\n",
       "<polyline clip-path=\"url(#clip410)\" style=\"stroke:#000000; stroke-linecap:round; stroke-linejoin:round; stroke-width:4; stroke-opacity:1; fill:none\" points=\"138.959,1445.72 157.857,1445.72 \"/>\n",
       "<polyline clip-path=\"url(#clip410)\" style=\"stroke:#000000; stroke-linecap:round; stroke-linejoin:round; stroke-width:4; stroke-opacity:1; fill:none\" points=\"138.959,1236.12 157.857,1236.12 \"/>\n",
       "<polyline clip-path=\"url(#clip410)\" style=\"stroke:#000000; stroke-linecap:round; stroke-linejoin:round; stroke-width:4; stroke-opacity:1; fill:none\" points=\"138.959,1026.52 157.857,1026.52 \"/>\n",
       "<polyline clip-path=\"url(#clip410)\" style=\"stroke:#000000; stroke-linecap:round; stroke-linejoin:round; stroke-width:4; stroke-opacity:1; fill:none\" points=\"138.959,816.923 157.857,816.923 \"/>\n",
       "<polyline clip-path=\"url(#clip410)\" style=\"stroke:#000000; stroke-linecap:round; stroke-linejoin:round; stroke-width:4; stroke-opacity:1; fill:none\" points=\"138.959,607.325 157.857,607.325 \"/>\n",
       "<polyline clip-path=\"url(#clip410)\" style=\"stroke:#000000; stroke-linecap:round; stroke-linejoin:round; stroke-width:4; stroke-opacity:1; fill:none\" points=\"138.959,397.728 157.857,397.728 \"/>\n",
       "<polyline clip-path=\"url(#clip410)\" style=\"stroke:#000000; stroke-linecap:round; stroke-linejoin:round; stroke-width:4; stroke-opacity:1; fill:none\" points=\"138.959,188.13 157.857,188.13 \"/>\n",
       "<path clip-path=\"url(#clip410)\" d=\"M91.0151 1431.51 Q87.404 1431.51 85.5753 1435.08 Q83.7697 1438.62 83.7697 1445.75 Q83.7697 1452.86 85.5753 1456.42 Q87.404 1459.96 91.0151 1459.96 Q94.6493 1459.96 96.4548 1456.42 Q98.2835 1452.86 98.2835 1445.75 Q98.2835 1438.62 96.4548 1435.08 Q94.6493 1431.51 91.0151 1431.51 M91.0151 1427.81 Q96.8252 1427.81 99.8808 1432.42 Q102.959 1437 102.959 1445.75 Q102.959 1454.48 99.8808 1459.08 Q96.8252 1463.67 91.0151 1463.67 Q85.2049 1463.67 82.1262 1459.08 Q79.0707 1454.48 79.0707 1445.75 Q79.0707 1437 82.1262 1432.42 Q85.2049 1427.81 91.0151 1427.81 Z\" fill=\"#000000\" fill-rule=\"nonzero\" fill-opacity=\"1\" /><path clip-path=\"url(#clip410)\" d=\"M86.6401 1249.46 L102.959 1249.46 L102.959 1253.4 L81.0151 1253.4 L81.0151 1249.46 Q83.6771 1246.71 88.2604 1242.08 Q92.8669 1237.43 94.0475 1236.08 Q96.2928 1233.56 97.1724 1231.82 Q98.0752 1230.06 98.0752 1228.38 Q98.0752 1225.62 96.1308 1223.88 Q94.2095 1222.15 91.1077 1222.15 Q88.9086 1222.15 86.4549 1222.91 Q84.0244 1223.68 81.2466 1225.23 L81.2466 1220.5 Q84.0707 1219.37 86.5243 1218.79 Q88.978 1218.21 91.0151 1218.21 Q96.3854 1218.21 99.5798 1220.9 Q102.774 1223.58 102.774 1228.07 Q102.774 1230.2 101.964 1232.13 Q101.177 1234.02 99.0706 1236.62 Q98.4919 1237.29 95.39 1240.5 Q92.2882 1243.7 86.6401 1249.46 Z\" fill=\"#000000\" fill-rule=\"nonzero\" fill-opacity=\"1\" /><path clip-path=\"url(#clip410)\" d=\"M93.3762 1013.31 L81.5707 1031.76 L93.3762 1031.76 L93.3762 1013.31 M92.1493 1009.24 L98.0289 1009.24 L98.0289 1031.76 L102.959 1031.76 L102.959 1035.65 L98.0289 1035.65 L98.0289 1043.8 L93.3762 1043.8 L93.3762 1035.65 L77.7744 1035.65 L77.7744 1031.14 L92.1493 1009.24 Z\" fill=\"#000000\" fill-rule=\"nonzero\" fill-opacity=\"1\" /><path clip-path=\"url(#clip410)\" d=\"M91.4317 815.06 Q88.2836 815.06 86.4318 817.212 Q84.6031 819.365 84.6031 823.115 Q84.6031 826.842 86.4318 829.018 Q88.2836 831.171 91.4317 831.171 Q94.5799 831.171 96.4085 829.018 Q98.2604 826.842 98.2604 823.115 Q98.2604 819.365 96.4085 817.212 Q94.5799 815.06 91.4317 815.06 M100.714 800.407 L100.714 804.666 Q98.9548 803.833 97.1493 803.393 Q95.3669 802.953 93.6076 802.953 Q88.978 802.953 86.5243 806.078 Q84.0938 809.203 83.7466 815.523 Q85.1123 813.509 87.1725 812.444 Q89.2327 811.356 91.7095 811.356 Q96.9178 811.356 99.927 814.527 Q102.959 817.675 102.959 823.115 Q102.959 828.439 99.8113 831.657 Q96.6632 834.874 91.4317 834.874 Q85.4364 834.874 82.2651 830.291 Q79.0938 825.685 79.0938 816.958 Q79.0938 808.763 82.9827 803.902 Q86.8716 799.018 93.4225 799.018 Q95.1817 799.018 96.9641 799.365 Q98.7696 799.712 100.714 800.407 Z\" fill=\"#000000\" fill-rule=\"nonzero\" fill-opacity=\"1\" /><path clip-path=\"url(#clip410)\" d=\"M91.1077 608.194 Q87.7743 608.194 85.8531 609.976 Q83.9549 611.758 83.9549 614.883 Q83.9549 618.008 85.8531 619.791 Q87.7743 621.573 91.1077 621.573 Q94.441 621.573 96.3623 619.791 Q98.2835 617.985 98.2835 614.883 Q98.2835 611.758 96.3623 609.976 Q94.4641 608.194 91.1077 608.194 M86.4318 606.203 Q83.4225 605.462 81.7327 603.402 Q80.066 601.342 80.066 598.379 Q80.066 594.235 83.0058 591.828 Q85.9688 589.42 91.1077 589.42 Q96.2697 589.42 99.2095 591.828 Q102.149 594.235 102.149 598.379 Q102.149 601.342 100.459 603.402 Q98.7928 605.462 95.8067 606.203 Q99.1863 606.99 101.061 609.281 Q102.959 611.573 102.959 614.883 Q102.959 619.906 99.8808 622.592 Q96.8252 625.277 91.1077 625.277 Q85.3901 625.277 82.3114 622.592 Q79.2559 619.906 79.2559 614.883 Q79.2559 611.573 81.154 609.281 Q83.0521 606.99 86.4318 606.203 M84.7188 598.819 Q84.7188 601.504 86.3855 603.008 Q88.0753 604.513 91.1077 604.513 Q94.1169 604.513 95.8067 603.008 Q97.5197 601.504 97.5197 598.819 Q97.5197 596.133 95.8067 594.629 Q94.1169 593.124 91.1077 593.124 Q88.0753 593.124 86.3855 594.629 Q84.7188 596.133 84.7188 598.819 Z\" fill=\"#000000\" fill-rule=\"nonzero\" fill-opacity=\"1\" /><path clip-path=\"url(#clip410)\" d=\"M51.6634 411.073 L59.3023 411.073 L59.3023 384.707 L50.9921 386.374 L50.9921 382.115 L59.256 380.448 L63.9319 380.448 L63.9319 411.073 L71.5707 411.073 L71.5707 415.008 L51.6634 415.008 L51.6634 411.073 Z\" fill=\"#000000\" fill-rule=\"nonzero\" fill-opacity=\"1\" /><path clip-path=\"url(#clip410)\" d=\"M91.0151 383.527 Q87.404 383.527 85.5753 387.091 Q83.7697 390.633 83.7697 397.763 Q83.7697 404.869 85.5753 408.434 Q87.404 411.976 91.0151 411.976 Q94.6493 411.976 96.4548 408.434 Q98.2835 404.869 98.2835 397.763 Q98.2835 390.633 96.4548 387.091 Q94.6493 383.527 91.0151 383.527 M91.0151 379.823 Q96.8252 379.823 99.8808 384.429 Q102.959 389.013 102.959 397.763 Q102.959 406.489 99.8808 411.096 Q96.8252 415.679 91.0151 415.679 Q85.2049 415.679 82.1262 411.096 Q79.0707 406.489 79.0707 397.763 Q79.0707 389.013 82.1262 384.429 Q85.2049 379.823 91.0151 379.823 Z\" fill=\"#000000\" fill-rule=\"nonzero\" fill-opacity=\"1\" /><path clip-path=\"url(#clip410)\" d=\"M53.2606 201.475 L60.8995 201.475 L60.8995 175.11 L52.5893 176.776 L52.5893 172.517 L60.8532 170.85 L65.5291 170.85 L65.5291 201.475 L73.1679 201.475 L73.1679 205.41 L53.2606 205.41 L53.2606 201.475 Z\" fill=\"#000000\" fill-rule=\"nonzero\" fill-opacity=\"1\" /><path clip-path=\"url(#clip410)\" d=\"M86.6401 201.475 L102.959 201.475 L102.959 205.41 L81.0151 205.41 L81.0151 201.475 Q83.6771 198.721 88.2604 194.091 Q92.8669 189.438 94.0475 188.096 Q96.2928 185.572 97.1724 183.836 Q98.0752 182.077 98.0752 180.387 Q98.0752 177.633 96.1308 175.897 Q94.2095 174.161 91.1077 174.161 Q88.9086 174.161 86.4549 174.924 Q84.0244 175.688 81.2466 177.239 L81.2466 172.517 Q84.0707 171.383 86.5243 170.804 Q88.978 170.225 91.0151 170.225 Q96.3854 170.225 99.5798 172.911 Q102.774 175.596 102.774 180.086 Q102.774 182.216 101.964 184.137 Q101.177 186.035 99.0706 188.628 Q98.4919 189.299 95.39 192.517 Q92.2882 195.711 86.6401 201.475 Z\" fill=\"#000000\" fill-rule=\"nonzero\" fill-opacity=\"1\" /><path clip-path=\"url(#clip412)\" d=\"M1245.86 1340.92 L1245.86 1445.72 L1983.79 1445.72 L1983.79 1340.92 L1245.86 1340.92 L1245.86 1340.92  Z\" fill=\"#009af9\" fill-rule=\"evenodd\" fill-opacity=\"1\"/>\n",
       "<polyline clip-path=\"url(#clip412)\" style=\"stroke:#000000; stroke-linecap:round; stroke-linejoin:round; stroke-width:4; stroke-opacity:1; fill:none\" points=\"1245.86,1340.92 1245.86,1445.72 1983.79,1445.72 1983.79,1340.92 1245.86,1340.92 \"/>\n",
       "<circle clip-path=\"url(#clip412)\" style=\"fill:#009af9; stroke:none; fill-opacity:0\" cx=\"1614.82\" cy=\"1340.92\" r=\"2\"/>\n",
       "<polyline clip-path=\"url(#clip412)\" style=\"stroke:#ff0000; stroke-linecap:round; stroke-linejoin:round; stroke-width:16; stroke-opacity:1; fill:none\" points=\"1142.55,1438.08 1142.65,1438.08 1142.75,1438.08 1142.85,1438.08 1142.95,1438.08 1143.05,1438.07 1143.15,1438.07 1143.25,1438.07 1143.35,1438.07 1143.46,1438.06 1143.56,1438.06 1143.66,1438.05 1143.76,1438.05 1143.86,1438.04 1143.96,1438.04 1144.06,1438.03 1144.16,1438.03 1144.26,1438.02 1144.36,1438.01 1144.47,1438.01 1144.57,1438 1144.67,1437.99 1144.77,1437.98 1144.87,1437.97 1144.97,1437.96 1145.07,1437.96 1145.17,1437.95 1145.27,1437.93 1145.37,1437.92 1145.47,1437.91 1145.58,1437.9 1145.68,1437.89 1145.78,1437.88 1145.88,1437.86 1145.98,1437.85 1146.08,1437.84 1146.18,1437.82 1146.28,1437.81 1146.38,1437.79 1146.48,1437.78 1146.58,1437.76 1146.69,1437.75 1146.79,1437.73 1146.89,1437.72 1146.99,1437.7 1147.09,1437.68 1147.19,1437.66 1147.29,1437.64 1147.39,1437.63 1147.49,1437.61 1147.59,1437.59 1147.7,1437.57 1147.8,1437.55 1147.9,1437.53 1148,1437.51 1148.1,1437.48 1148.2,1437.46 1148.3,1437.44 1148.4,1437.42 1148.5,1437.39 1148.6,1437.37 1148.7,1437.35 1148.81,1437.32 1148.91,1437.3 1149.01,1437.27 1149.11,1437.25 1149.21,1437.22 1149.31,1437.19 1149.41,1437.17 1149.51,1437.14 1149.61,1437.11 1149.71,1437.08 1149.81,1437.05 1149.92,1437.02 1150.02,1436.99 1150.12,1436.96 1150.22,1436.93 1150.32,1436.9 1150.42,1436.87 1150.52,1436.84 1150.62,1436.81 1150.72,1436.78 1150.82,1436.74 1150.93,1436.71 1151.03,1436.68 1151.13,1436.64 1151.23,1436.61 1151.33,1436.57 1151.43,1436.53 1151.53,1436.5 1151.63,1436.46 1151.73,1436.42 1151.83,1436.39 1151.93,1436.35 1152.04,1436.31 1152.14,1436.27 1152.24,1436.23 1152.34,1436.19 1152.44,1436.15 1152.54,1436.11 1152.64,1436.07 1152.74,1436.03 1152.84,1435.98 1152.94,1435.94 1153.04,1435.9 1153.15,1435.85 1153.25,1435.81 1153.35,1435.77 1153.45,1435.72 1153.55,1435.67 1153.65,1435.63 1153.75,1435.58 1153.85,1435.53 1153.95,1435.49 1154.05,1435.44 1154.16,1435.39 1154.26,1435.34 1154.36,1435.29 1154.46,1435.24 1154.56,1435.19 1154.66,1435.14 1154.76,1435.08 1154.86,1435.03 1154.96,1434.98 1155.06,1434.92 1155.16,1434.87 1155.27,1434.82 1155.37,1434.76 1155.47,1434.71 1155.57,1434.65 1155.67,1434.59 1155.77,1434.53 1155.87,1434.48 1155.97,1434.42 1156.07,1434.36 1156.17,1434.3 1156.27,1434.24 1156.38,1434.18 1156.48,1434.12 1156.58,1434.05 1156.68,1433.99 1156.78,1433.93 1156.88,1433.87 1156.98,1433.8 1157.08,1433.74 1157.18,1433.67 1157.28,1433.6 1157.39,1433.54 1157.49,1433.47 1157.59,1433.4 1157.69,1433.33 1157.79,1433.27 1157.89,1433.2 1157.99,1433.13 1158.09,1433.05 1158.19,1432.98 1158.29,1432.91 1158.39,1432.84 1158.5,1432.76 1158.6,1432.69 1158.7,1432.62 1158.8,1432.54 1158.9,1432.46 1159,1432.39 1159.1,1432.31 1159.2,1432.23 1159.3,1432.15 1159.4,1432.07 1159.5,1431.99 1159.61,1431.91 1159.71,1431.83 1159.81,1431.75 1159.91,1431.67 1160.01,1431.58 1160.11,1431.5 1160.21,1431.41 1160.31,1431.33 1160.41,1431.24 1160.51,1431.15 1160.62,1431.07 1160.72,1430.98 1160.82,1430.89 1160.92,1430.8 1161.02,1430.71 1161.12,1430.62 1161.22,1430.52 1161.32,1430.43 1161.42,1430.34 1161.52,1430.24 1161.62,1430.15 1161.73,1430.05 1161.83,1429.95 1161.93,1429.86 1162.03,1429.76 1162.13,1429.66 1162.23,1429.56 1162.33,1429.46 1162.43,1429.36 1162.53,1429.25 1162.63,1429.15 1162.73,1429.05 1162.84,1428.94 1162.94,1428.84 1163.04,1428.73 1163.14,1428.62 1163.24,1428.51 1163.34,1428.41 1163.44,1428.3 1163.54,1428.18 1163.64,1428.07 1163.74,1427.96 1163.85,1427.85 1163.95,1427.73 1164.05,1427.62 1164.15,1427.5 1164.25,1427.39 1164.35,1427.27 1164.45,1427.15 1164.55,1427.03 1164.65,1426.91 1164.75,1426.79 1164.85,1426.66 1164.96,1426.54 1165.06,1426.42 1165.16,1426.29 1165.26,1426.17 1165.36,1426.04 1165.46,1425.91 1165.56,1425.78 1165.66,1425.65 1165.76,1425.52 1165.86,1425.39 1165.96,1425.25 1166.07,1425.12 1166.17,1424.99 1166.27,1424.85 1166.37,1424.71 1166.47,1424.57 1166.57,1424.43 1166.67,1424.29 1166.77,1424.15 1166.87,1424.01 1166.97,1423.87 1167.08,1423.72 1167.18,1423.58 1167.28,1423.43 1167.38,1423.28 1167.48,1423.13 1167.58,1422.98 1167.68,1422.83 1167.78,1422.68 1167.88,1422.53 1167.98,1422.37 1168.08,1422.22 1168.19,1422.06 1168.29,1421.9 1168.39,1421.74 1168.49,1421.58 1168.59,1421.42 1168.69,1421.26 1168.79,1421.09 1168.89,1420.93 1168.99,1420.76 1169.09,1420.6 1169.19,1420.43 1169.3,1420.26 1169.4,1420.09 1169.5,1419.91 1169.6,1419.74 1169.7,1419.56 1169.8,1419.39 1169.9,1419.21 1170,1419.03 1170.1,1418.85 1170.2,1418.67 1170.31,1418.49 1170.41,1418.3 1170.51,1418.12 1170.61,1417.93 1170.71,1417.74 1170.81,1417.55 1170.91,1417.36 1171.01,1417.17 1171.11,1416.98 1171.21,1416.78 1171.31,1416.58 1171.42,1416.39 1171.52,1416.19 1171.62,1415.99 1171.72,1415.78 1171.82,1415.58 1171.92,1415.38 1172.02,1415.17 1172.12,1414.96 1172.22,1414.75 1172.32,1414.54 1172.42,1414.33 1172.53,1414.11 1172.63,1413.9 1172.73,1413.68 1172.83,1413.46 1172.93,1413.24 1173.03,1413.02 1173.13,1412.8 1173.23,1412.57 1173.33,1412.34 1173.43,1412.12 1173.54,1411.89 1173.64,1411.65 1173.74,1411.42 1173.84,1411.19 1173.94,1410.95 1174.04,1410.71 1174.14,1410.47 1174.24,1410.23 1174.34,1409.99 1174.44,1409.74 1174.54,1409.5 1174.65,1409.25 1174.75,1409 1174.85,1408.74 1174.95,1408.49 1175.05,1408.23 1175.15,1407.98 1175.25,1407.72 1175.35,1407.46 1175.45,1407.19 1175.55,1406.93 1175.65,1406.66 1175.76,1406.39 1175.86,1406.12 1175.96,1405.85 1176.06,1405.58 1176.16,1405.3 1176.26,1405.02 1176.36,1404.74 1176.46,1404.46 1176.56,1404.18 1176.66,1403.89 1176.77,1403.6 1176.87,1403.31 1176.97,1403.02 1177.07,1402.73 1177.17,1402.43 1177.27,1402.13 1177.37,1401.83 1177.47,1401.53 1177.57,1401.22 1177.67,1400.92 1177.77,1400.61 1177.88,1400.3 1177.98,1399.98 1178.08,1399.67 1178.18,1399.35 1178.28,1399.03 1178.38,1398.71 1178.48,1398.39 1178.58,1398.06 1178.68,1397.73 1178.78,1397.4 1178.89,1397.07 1178.99,1396.73 1179.09,1396.39 1179.19,1396.05 1179.29,1395.71 1179.39,1395.36 1179.49,1395.02 1179.59,1394.67 1179.69,1394.31 1179.79,1393.96 1179.89,1393.6 1180,1393.24 1180.1,1392.88 1180.2,1392.52 1180.3,1392.15 1180.4,1391.78 1180.5,1391.41 1180.6,1391.03 1180.7,1390.65 1180.8,1390.27 1180.9,1389.89 1181,1389.51 1181.11,1389.12 1181.21,1388.73 1181.31,1388.34 1181.41,1387.94 1181.51,1387.54 1181.61,1387.14 1181.71,1386.73 1181.81,1386.33 1181.91,1385.92 1182.01,1385.51 1182.12,1385.09 1182.22,1384.67 1182.32,1384.25 1182.42,1383.83 1182.52,1383.4 1182.62,1382.97 1182.72,1382.54 1182.82,1382.1 1182.92,1381.66 1183.02,1381.22 1183.12,1380.78 1183.23,1380.33 1183.33,1379.88 1183.43,1379.43 1183.53,1378.97 1183.63,1378.51 1183.73,1378.05 1183.83,1377.58 1183.93,1377.11 1184.03,1376.64 1184.13,1376.16 1184.23,1375.68 1184.34,1375.2 1184.44,1374.71 1184.54,1374.23 1184.64,1373.73 1184.74,1373.24 1184.84,1372.74 1184.94,1372.24 1185.04,1371.73 1185.14,1371.22 1185.24,1370.71 1185.35,1370.19 1185.45,1369.67 1185.55,1369.15 1185.65,1368.63 1185.75,1368.1 1185.85,1367.56 1185.95,1367.02 1186.05,1366.48 1186.15,1365.94 1186.25,1365.39 1186.35,1364.84 1186.46,1364.28 1186.56,1363.73 1186.66,1363.16 1186.76,1362.6 1186.86,1362.03 1186.96,1361.45 1187.06,1360.87 1187.16,1360.29 1187.26,1359.71 1187.36,1359.12 1187.46,1358.52 1187.57,1357.92 1187.67,1357.32 1187.77,1356.72 1187.87,1356.11 1187.97,1355.49 1188.07,1354.88 1188.17,1354.25 1188.27,1353.63 1188.37,1353 1188.47,1352.36 1188.58,1351.72 1188.68,1351.08 1188.78,1350.43 1188.88,1349.78 1188.98,1349.13 1189.08,1348.47 1189.18,1347.8 1189.28,1347.13 1189.38,1346.46 1189.48,1345.78 1189.58,1345.1 1189.69,1344.41 1189.79,1343.72 1189.89,1343.03 1189.99,1342.33 1190.09,1341.62 1190.19,1340.91 1190.29,1340.2 1190.39,1339.48 1190.49,1338.76 1190.59,1338.03 1190.69,1337.29 1190.8,1336.56 1190.9,1335.81 1191,1335.07 1191.1,1334.31 1191.2,1333.56 1191.3,1332.79 1191.4,1332.03 1191.5,1331.26 1191.6,1330.48 1191.7,1329.7 1191.81,1328.91 1191.91,1328.12 1192.01,1327.32 1192.11,1326.52 1192.21,1325.71 1192.31,1324.89 1192.41,1324.08 1192.51,1323.25 1192.61,1322.42 1192.71,1321.59 1192.81,1320.75 1192.92,1319.9 1193.02,1319.05 1193.12,1318.2 1193.22,1317.33 1193.32,1316.47 1193.42,1315.59 1193.52,1314.72 1193.62,1313.83 1193.72,1312.94 1193.82,1312.05 1193.92,1311.15 1194.03,1310.24 1194.13,1309.33 1194.23,1308.41 1194.33,1307.48 1194.43,1306.55 1194.53,1305.62 1194.63,1304.67 1194.73,1303.73 1194.83,1302.77 1194.93,1301.81 1195.04,1300.85 1195.14,1299.87 1195.24,1298.89 1195.34,1297.91 1195.44,1296.92 1195.54,1295.92 1195.64,1294.92 1195.74,1293.91 1195.84,1292.89 1195.94,1291.87 1196.04,1290.84 1196.15,1289.81 1196.25,1288.76 1196.35,1287.72 1196.45,1286.66 1196.55,1285.6 1196.65,1284.53 1196.75,1283.46 1196.85,1282.37 1196.95,1281.29 1197.05,1280.19 1197.15,1279.09 1197.26,1277.98 1197.36,1276.87 1197.46,1275.74 1197.56,1274.61 1197.66,1273.48 1197.76,1272.33 1197.86,1271.18 1197.96,1270.03 1198.06,1268.86 1198.16,1267.69 1198.27,1266.51 1198.37,1265.32 1198.47,1264.13 1198.57,1262.93 1198.67,1261.72 1198.77,1260.51 1198.87,1259.28 1198.97,1258.05 1199.07,1256.82 1199.17,1255.57 1199.27,1254.32 1199.38,1253.06 1199.48,1251.79 1199.58,1250.51 1199.68,1249.23 1199.78,1247.94 1199.88,1246.64 1199.98,1245.33 1200.08,1244.02 1200.18,1242.7 1200.28,1241.37 1200.38,1240.03 1200.49,1238.68 1200.59,1237.33 1200.69,1235.97 1200.79,1234.6 1200.89,1233.22 1200.99,1231.83 1201.09,1230.44 1201.19,1229.03 1201.29,1227.62 1201.39,1226.2 1201.5,1224.77 1201.6,1223.34 1201.7,1221.89 1201.8,1220.44 1201.9,1218.98 1202,1217.51 1202.1,1216.03 1202.2,1214.54 1202.3,1213.04 1202.4,1211.54 1202.5,1210.02 1202.61,1208.5 1202.71,1206.97 1202.81,1205.43 1202.91,1203.88 1203.01,1202.32 1203.11,1200.76 1203.21,1199.18 1203.31,1197.6 1203.41,1196 1203.51,1194.4 1203.61,1192.79 1203.72,1191.17 1203.82,1189.54 1203.92,1187.9 1204.02,1186.25 1204.12,1184.59 1204.22,1182.92 1204.32,1181.24 1204.42,1179.56 1204.52,1177.86 1204.62,1176.16 1204.73,1174.44 1204.83,1172.72 1204.93,1170.98 1205.03,1169.24 1205.13,1167.49 1205.23,1165.72 1205.33,1163.95 1205.43,1162.17 1205.53,1160.38 1205.63,1158.58 1205.73,1156.76 1205.84,1154.94 1205.94,1153.11 1206.04,1151.27 1206.14,1149.42 1206.24,1147.56 1206.34,1145.68 1206.44,1143.8 1206.54,1141.91 1206.64,1140.01 1206.74,1138.1 1206.84,1136.17 1206.95,1134.24 1207.05,1132.3 1207.15,1130.35 1207.25,1128.38 1207.35,1126.41 1207.45,1124.43 1207.55,1122.43 1207.65,1120.43 1207.75,1118.41 1207.85,1116.38 1207.96,1114.35 1208.06,1112.3 1208.16,1110.24 1208.26,1108.17 1208.36,1106.1 1208.46,1104.01 1208.56,1101.91 1208.66,1099.79 1208.76,1097.67 1208.86,1095.54 1208.96,1093.4 1209.07,1091.24 1209.17,1089.08 1209.27,1086.9 1209.37,1084.72 1209.47,1082.52 1209.57,1080.31 1209.67,1078.09 1209.77,1075.86 1209.87,1073.62 1209.97,1071.37 1210.07,1069.1 1210.18,1066.83 1210.28,1064.54 1210.38,1062.25 1210.48,1059.94 1210.58,1057.62 1210.68,1055.29 1210.78,1052.95 1210.88,1050.59 1210.98,1048.23 1211.08,1045.86 1211.19,1043.47 1211.29,1041.07 1211.39,1038.66 1211.49,1036.25 1211.59,1033.81 1211.69,1031.37 1211.79,1028.92 1211.89,1026.45 1211.99,1023.98 1212.09,1021.49 1212.19,1018.99 1212.3,1016.48 1212.4,1013.96 1212.5,1011.43 1212.6,1008.88 1212.7,1006.33 1212.8,1003.76 1212.9,1001.18 1213,998.592 1213.1,995.991 1213.2,993.378 1213.31,990.754 1213.41,988.119 1213.51,985.473 1213.61,982.815 1213.71,980.146 1213.81,977.465 1213.91,974.773 1214.01,972.07 1214.11,969.355 1214.21,966.629 1214.31,963.892 1214.42,961.143 1214.52,958.383 1214.62,955.612 1214.72,952.829 1214.82,950.035 1214.92,947.23 1215.02,944.414 1215.12,941.586 1215.22,938.747 1215.32,935.897 1215.42,933.036 1215.53,930.163 1215.63,927.28 1215.73,924.385 1215.83,921.479 1215.93,918.562 1216.03,915.634 1216.13,912.695 1216.23,909.745 1216.33,906.784 1216.43,903.812 1216.54,900.829 1216.64,897.836 1216.74,894.831 1216.84,891.815 1216.94,888.789 1217.04,885.752 1217.14,882.704 1217.24,879.646 1217.34,876.577 1217.44,873.497 1217.54,870.407 1217.65,867.306 1217.75,864.194 1217.85,861.072 1217.95,857.94 1218.05,854.798 1218.15,851.645 1218.25,848.482 1218.35,845.308 1218.45,842.125 1218.55,838.931 1218.65,835.727 1218.76,832.514 1218.86,829.29 1218.96,826.057 1219.06,822.813 1219.16,819.56 1219.26,816.297 1219.36,813.025 1219.46,809.743 1219.56,806.452 1219.66,803.151 1219.77,799.84 1219.87,796.521 1219.97,793.192 1220.07,789.854 1220.17,786.507 1220.27,783.151 1220.37,779.786 1220.47,776.412 1220.57,773.03 1220.67,769.638 1220.77,766.238 1220.88,762.83 1220.98,759.413 1221.08,755.988 1221.18,752.555 1221.28,749.113 1221.38,745.664 1221.48,742.206 1221.58,738.74 1221.68,735.267 1221.78,731.786 1221.88,728.298 1221.99,724.802 1222.09,721.298 1222.19,717.788 1222.29,714.27 1222.39,710.745 1222.49,707.213 1222.59,703.675 1222.69,700.129 1222.79,696.577 1222.89,693.019 1223,689.454 1223.1,685.883 1223.2,682.306 1223.3,678.723 1223.4,675.134 1223.5,671.539 1223.6,667.938 1223.7,664.332 1223.8,660.721 1223.9,657.104 1224,653.483 1224.11,649.856 1224.21,646.225 1224.31,642.588 1224.41,638.948 1224.51,635.303 1224.61,631.653 1224.71,628 1224.81,624.342 1224.91,620.681 1225.01,617.016 1225.11,613.347 1225.22,609.676 1225.32,606.001 1225.42,602.322 1225.52,598.641 1225.62,594.958 1225.72,591.271 1225.82,587.583 1225.92,583.892 1226.02,580.199 1226.12,576.504 1226.23,572.807 1226.33,569.109 1226.43,565.409 1226.53,561.708 1226.63,558.006 1226.73,554.304 1226.83,550.6 1226.93,546.896 1227.03,543.192 1227.13,539.488 1227.23,535.783 1227.34,532.079 1227.44,528.376 1227.54,524.673 1227.64,520.97 1227.74,517.269 1227.84,513.569 1227.94,509.871 1228.04,506.173 1228.14,502.478 1228.24,498.785 1228.34,495.094 1228.45,491.405 1228.55,487.719 1228.65,484.036 1228.75,480.356 1228.85,476.679 1228.95,473.005 1229.05,469.335 1229.15,465.669 1229.25,462.007 1229.35,458.35 1229.46,454.696 1229.56,451.048 1229.66,447.404 1229.76,443.766 1229.86,440.133 1229.96,436.506 1230.06,432.884 1230.16,429.269 1230.26,425.659 1230.36,422.057 1230.46,418.461 1230.57,414.872 1230.67,411.29 1230.77,407.716 1230.87,404.149 1230.97,400.59 1231.07,397.039 1231.17,393.497 1231.27,389.963 1231.37,386.438 1231.47,382.922 1231.57,379.415 1231.68,375.918 1231.78,372.431 1231.88,368.954 1231.98,365.487 1232.08,362.03 1232.18,358.584 1232.28,355.15 1232.38,351.726 1232.48,348.314 1232.58,344.914 1232.69,341.525 1232.79,338.149 1232.89,334.785 1232.99,331.434 1233.09,328.096 1233.19,324.771 1233.29,321.459 1233.39,318.161 1233.49,314.877 1233.59,311.607 1233.69,308.352 1233.8,305.111 1233.9,301.885 1234,298.675 1234.1,295.48 1234.2,292.3 1234.3,289.136 1234.4,285.989 1234.5,282.857 1234.6,279.743 1234.7,276.645 1234.8,273.565 1234.91,270.501 1235.01,267.456 1235.11,264.428 1235.21,261.418 1235.31,258.427 1235.41,255.454 1235.51,252.501 1235.61,249.566 1235.71,246.65 1235.81,243.755 1235.92,240.879 1236.02,238.023 1236.12,235.187 1236.22,232.372 1236.32,229.577 1236.42,226.804 1236.52,224.051 1236.62,221.321 1236.72,218.612 1236.82,215.924 1236.92,213.259 1237.03,210.617 1237.13,207.997 1237.23,205.4 1237.33,202.826 1237.43,200.275 1237.53,197.748 1237.63,195.244 1237.73,192.765 1237.83,190.31 1237.93,187.879 1238.03,185.472 1238.14,183.091 1238.24,180.735 1238.34,178.403 1238.44,176.098 1238.54,173.818 1238.64,171.564 1238.74,169.336 1238.84,167.134 1238.94,164.959 1239.04,162.811 1239.15,160.689 1239.25,158.595 1239.35,156.527 1239.45,154.488 1239.55,152.476 1239.65,150.492 1239.75,148.535 1239.85,146.608 1239.95,144.708 1240.05,142.837 1240.15,140.995 1240.26,139.182 1240.36,137.398 1240.46,135.643 1240.56,133.918 1240.66,132.222 1240.76,130.556 1240.86,128.92 1240.96,127.314 1241.06,125.738 1241.16,124.193 1241.26,122.678 1241.37,121.194 1241.47,119.741 1241.57,118.319 1241.67,116.928 1241.77,115.568 1241.87,114.239 1241.97,112.942 1242.07,111.677 1242.17,110.443 1242.27,109.242 1242.38,108.072 1242.48,106.934 1242.58,105.829 1242.68,104.756 1242.78,103.715 1242.88,102.707 1242.98,101.732 1243.08,100.789 1243.18,99.8793 1243.28,99.0024 1243.38,98.1585 1243.49,97.3477 1243.59,96.57 1243.69,95.8256 1243.79,95.1145 1243.89,94.4369 1243.99,93.7927 1244.09,93.182 1244.19,92.6049 1244.29,92.0614 1244.39,91.5517 1244.5,91.0757 1244.6,90.6335 1244.7,90.2251 1244.8,89.8507 1244.9,89.5101 1245,89.2035 1245.1,88.9309 1245.2,88.6924 1245.3,88.4878 1245.4,88.3173 1245.5,88.1809 1245.61,88.0786 1245.71,88.0104 1245.81,87.9763 1245.91,87.9763 1246.01,88.0104 1246.11,88.0786 1246.21,88.1809 1246.31,88.3173 1246.41,88.4878 1246.51,88.6924 1246.61,88.9309 1246.72,89.2035 1246.82,89.5101 1246.92,89.8507 1247.02,90.2251 1247.12,90.6335 1247.22,91.0757 1247.32,91.5517 1247.42,92.0614 1247.52,92.6049 1247.62,93.182 1247.73,93.7927 1247.83,94.4369 1247.93,95.1145 1248.03,95.8256 1248.13,96.57 1248.23,97.3477 1248.33,98.1585 1248.43,99.0024 1248.53,99.8793 1248.63,100.789 1248.73,101.732 1248.84,102.707 1248.94,103.715 1249.04,104.756 1249.14,105.829 1249.24,106.934 1249.34,108.072 1249.44,109.242 1249.54,110.443 1249.64,111.677 1249.74,112.942 1249.84,114.239 1249.95,115.568 1250.05,116.928 1250.15,118.319 1250.25,119.741 1250.35,121.194 1250.45,122.678 1250.55,124.193 1250.65,125.738 1250.75,127.314 1250.85,128.92 1250.96,130.556 1251.06,132.222 1251.16,133.918 1251.26,135.643 1251.36,137.398 1251.46,139.182 1251.56,140.995 1251.66,142.837 1251.76,144.708 1251.86,146.608 1251.96,148.535 1252.07,150.492 1252.17,152.476 1252.27,154.488 1252.37,156.527 1252.47,158.595 1252.57,160.689 1252.67,162.811 1252.77,164.959 1252.87,167.134 1252.97,169.336 1253.07,171.564 1253.18,173.818 1253.28,176.098 1253.38,178.403 1253.48,180.735 1253.58,183.091 1253.68,185.472 1253.78,187.879 1253.88,190.31 1253.98,192.765 1254.08,195.244 1254.19,197.748 1254.29,200.275 1254.39,202.826 1254.49,205.4 1254.59,207.997 1254.69,210.617 1254.79,213.259 1254.89,215.924 1254.99,218.612 1255.09,221.321 1255.19,224.051 1255.3,226.804 1255.4,229.577 1255.5,232.372 1255.6,235.187 1255.7,238.023 1255.8,240.879 1255.9,243.755 1256,246.65 1256.1,249.566 1256.2,252.501 1256.3,255.454 1256.41,258.427 1256.51,261.418 1256.61,264.428 1256.71,267.456 1256.81,270.501 1256.91,273.565 1257.01,276.645 1257.11,279.743 1257.21,282.857 1257.31,285.989 1257.42,289.136 1257.52,292.3 1257.62,295.48 1257.72,298.675 1257.82,301.885 1257.92,305.111 1258.02,308.352 1258.12,311.607 1258.22,314.877 1258.32,318.161 1258.42,321.459 1258.53,324.771 1258.63,328.096 1258.73,331.434 1258.83,334.785 1258.93,338.149 1259.03,341.525 1259.13,344.914 1259.23,348.314 1259.33,351.726 1259.43,355.15 1259.53,358.584 1259.64,362.03 1259.74,365.487 1259.84,368.954 1259.94,372.431 1260.04,375.918 1260.14,379.415 1260.24,382.922 1260.34,386.438 1260.44,389.963 1260.54,393.497 1260.65,397.039 1260.75,400.59 1260.85,404.149 1260.95,407.716 1261.05,411.29 1261.15,414.872 1261.25,418.461 1261.35,422.057 1261.45,425.659 1261.55,429.269 1261.65,432.884 1261.76,436.506 1261.86,440.133 1261.96,443.766 1262.06,447.404 1262.16,451.048 1262.26,454.696 1262.36,458.35 1262.46,462.007 1262.56,465.669 1262.66,469.335 1262.76,473.005 1262.87,476.679 1262.97,480.356 1263.07,484.036 1263.17,487.719 1263.27,491.405 1263.37,495.094 1263.47,498.785 1263.57,502.478 1263.67,506.173 1263.77,509.871 1263.88,513.569 1263.98,517.269 1264.08,520.97 1264.18,524.673 1264.28,528.376 1264.38,532.079 1264.48,535.783 1264.58,539.488 1264.68,543.192 1264.78,546.896 1264.88,550.6 1264.99,554.304 1265.09,558.006 1265.19,561.708 1265.29,565.409 1265.39,569.109 1265.49,572.807 1265.59,576.504 1265.69,580.199 1265.79,583.892 1265.89,587.583 1265.99,591.271 1266.1,594.958 1266.2,598.641 1266.3,602.322 1266.4,606.001 1266.5,609.676 1266.6,613.347 1266.7,617.016 1266.8,620.681 1266.9,624.342 1267,628 1267.11,631.653 1267.21,635.303 1267.31,638.948 1267.41,642.588 1267.51,646.225 1267.61,649.856 1267.71,653.483 1267.81,657.104 1267.91,660.721 1268.01,664.332 1268.11,667.938 1268.22,671.539 1268.32,675.134 1268.42,678.723 1268.52,682.306 1268.62,685.883 1268.72,689.454 1268.82,693.019 1268.92,696.577 1269.02,700.129 1269.12,703.675 1269.22,707.213 1269.33,710.745 1269.43,714.27 1269.53,717.788 1269.63,721.298 1269.73,724.802 1269.83,728.298 1269.93,731.786 1270.03,735.267 1270.13,738.74 1270.23,742.206 1270.34,745.664 1270.44,749.113 1270.54,752.555 1270.64,755.988 1270.74,759.413 1270.84,762.83 1270.94,766.238 1271.04,769.638 1271.14,773.03 1271.24,776.412 1271.34,779.786 1271.45,783.151 1271.55,786.507 1271.65,789.854 1271.75,793.192 1271.85,796.521 1271.95,799.84 1272.05,803.151 1272.15,806.452 1272.25,809.743 1272.35,813.025 1272.45,816.297 1272.56,819.56 1272.66,822.813 1272.76,826.057 1272.86,829.29 1272.96,832.514 1273.06,835.727 1273.16,838.931 1273.26,842.125 1273.36,845.308 1273.46,848.482 1273.57,851.645 1273.67,854.798 1273.77,857.94 1273.87,861.072 1273.97,864.194 1274.07,867.306 1274.17,870.407 1274.27,873.497 1274.37,876.577 1274.47,879.646 1274.57,882.704 1274.68,885.752 1274.78,888.789 1274.88,891.815 1274.98,894.831 1275.08,897.836 1275.18,900.829 1275.28,903.812 1275.38,906.784 1275.48,909.745 1275.58,912.695 1275.68,915.634 1275.79,918.562 1275.89,921.479 1275.99,924.385 1276.09,927.28 1276.19,930.163 1276.29,933.036 1276.39,935.897 1276.49,938.747 1276.59,941.586 1276.69,944.414 1276.8,947.23 1276.9,950.035 1277,952.829 1277.1,955.612 1277.2,958.383 1277.3,961.143 1277.4,963.892 1277.5,966.629 1277.6,969.355 1277.7,972.07 1277.8,974.773 1277.91,977.465 1278.01,980.146 1278.11,982.815 1278.21,985.473 1278.31,988.119 1278.41,990.754 1278.51,993.378 1278.61,995.991 1278.71,998.592 1278.81,1001.18 1278.92,1003.76 1279.02,1006.33 1279.12,1008.88 1279.22,1011.43 1279.32,1013.96 1279.42,1016.48 1279.52,1018.99 1279.62,1021.49 1279.72,1023.98 1279.82,1026.45 1279.92,1028.92 1280.03,1031.37 1280.13,1033.81 1280.23,1036.25 1280.33,1038.66 1280.43,1041.07 1280.53,1043.47 1280.63,1045.86 1280.73,1048.23 1280.83,1050.59 1280.93,1052.95 1281.03,1055.29 1281.14,1057.62 1281.24,1059.94 1281.34,1062.25 1281.44,1064.54 1281.54,1066.83 1281.64,1069.1 1281.74,1071.37 1281.84,1073.62 1281.94,1075.86 1282.04,1078.09 1282.15,1080.31 1282.25,1082.52 1282.35,1084.72 1282.45,1086.9 1282.55,1089.08 1282.65,1091.24 1282.75,1093.4 1282.85,1095.54 1282.95,1097.67 1283.05,1099.79 1283.15,1101.91 1283.26,1104.01 1283.36,1106.1 1283.46,1108.17 1283.56,1110.24 1283.66,1112.3 1283.76,1114.35 1283.86,1116.38 1283.96,1118.41 1284.06,1120.43 1284.16,1122.43 1284.26,1124.43 1284.37,1126.41 1284.47,1128.38 1284.57,1130.35 1284.67,1132.3 1284.77,1134.24 1284.87,1136.17 1284.97,1138.1 1285.07,1140.01 1285.17,1141.91 1285.27,1143.8 1285.38,1145.68 1285.48,1147.56 1285.58,1149.42 1285.68,1151.27 1285.78,1153.11 1285.88,1154.94 1285.98,1156.76 1286.08,1158.58 1286.18,1160.38 1286.28,1162.17 1286.38,1163.95 1286.49,1165.72 1286.59,1167.49 1286.69,1169.24 1286.79,1170.98 1286.89,1172.72 1286.99,1174.44 1287.09,1176.16 1287.19,1177.86 1287.29,1179.56 1287.39,1181.24 1287.49,1182.92 1287.6,1184.59 1287.7,1186.25 1287.8,1187.9 1287.9,1189.54 1288,1191.17 1288.1,1192.79 1288.2,1194.4 1288.3,1196 1288.4,1197.6 1288.5,1199.18 1288.61,1200.76 1288.71,1202.32 1288.81,1203.88 1288.91,1205.43 1289.01,1206.97 1289.11,1208.5 1289.21,1210.02 1289.31,1211.54 1289.41,1213.04 1289.51,1214.54 1289.61,1216.03 1289.72,1217.51 1289.82,1218.98 1289.92,1220.44 1290.02,1221.89 1290.12,1223.34 1290.22,1224.77 1290.32,1226.2 1290.42,1227.62 1290.52,1229.03 1290.62,1230.44 1290.72,1231.83 1290.83,1233.22 1290.93,1234.6 1291.03,1235.97 1291.13,1237.33 1291.23,1238.68 1291.33,1240.03 1291.43,1241.37 1291.53,1242.7 1291.63,1244.02 1291.73,1245.33 1291.84,1246.64 1291.94,1247.94 1292.04,1249.23 1292.14,1250.51 1292.24,1251.79 1292.34,1253.06 1292.44,1254.32 1292.54,1255.57 1292.64,1256.82 1292.74,1258.05 1292.84,1259.28 1292.95,1260.51 1293.05,1261.72 1293.15,1262.93 1293.25,1264.13 1293.35,1265.32 1293.45,1266.51 1293.55,1267.69 1293.65,1268.86 1293.75,1270.03 1293.85,1271.18 1293.95,1272.33 1294.06,1273.48 1294.16,1274.61 1294.26,1275.74 1294.36,1276.87 1294.46,1277.98 1294.56,1279.09 1294.66,1280.19 1294.76,1281.29 1294.86,1282.37 1294.96,1283.46 1295.07,1284.53 1295.17,1285.6 1295.27,1286.66 1295.37,1287.72 1295.47,1288.76 1295.57,1289.81 1295.67,1290.84 1295.77,1291.87 1295.87,1292.89 1295.97,1293.91 1296.07,1294.92 1296.18,1295.92 1296.28,1296.92 1296.38,1297.91 1296.48,1298.89 1296.58,1299.87 1296.68,1300.85 1296.78,1301.81 1296.88,1302.77 1296.98,1303.73 1297.08,1304.67 1297.18,1305.62 1297.29,1306.55 1297.39,1307.48 1297.49,1308.41 1297.59,1309.33 1297.69,1310.24 1297.79,1311.15 1297.89,1312.05 1297.99,1312.94 1298.09,1313.83 1298.19,1314.72 1298.3,1315.59 1298.4,1316.47 1298.5,1317.33 1298.6,1318.2 1298.7,1319.05 1298.8,1319.9 1298.9,1320.75 1299,1321.59 1299.1,1322.42 1299.2,1323.25 1299.3,1324.08 1299.41,1324.89 1299.51,1325.71 1299.61,1326.52 1299.71,1327.32 1299.81,1328.12 1299.91,1328.91 1300.01,1329.7 1300.11,1330.48 1300.21,1331.26 1300.31,1332.03 1300.41,1332.79 1300.52,1333.56 1300.62,1334.31 1300.72,1335.07 1300.82,1335.81 1300.92,1336.56 1301.02,1337.29 1301.12,1338.03 1301.22,1338.76 1301.32,1339.48 1301.42,1340.2 1301.53,1340.91 1301.63,1341.62 1301.73,1342.33 1301.83,1343.03 1301.93,1343.72 1302.03,1344.41 1302.13,1345.1 1302.23,1345.78 1302.33,1346.46 1302.43,1347.13 1302.53,1347.8 1302.64,1348.47 1302.74,1349.13 1302.84,1349.78 1302.94,1350.43 1303.04,1351.08 1303.14,1351.72 1303.24,1352.36 1303.34,1353 1303.44,1353.63 1303.54,1354.25 1303.64,1354.88 1303.75,1355.49 1303.85,1356.11 1303.95,1356.72 1304.05,1357.32 1304.15,1357.92 1304.25,1358.52 1304.35,1359.12 1304.45,1359.71 1304.55,1360.29 1304.65,1360.87 1304.76,1361.45 1304.86,1362.03 1304.96,1362.6 1305.06,1363.16 1305.16,1363.73 1305.26,1364.28 1305.36,1364.84 1305.46,1365.39 1305.56,1365.94 1305.66,1366.48 1305.76,1367.02 1305.87,1367.56 1305.97,1368.1 1306.07,1368.63 1306.17,1369.15 1306.27,1369.67 1306.37,1370.19 1306.47,1370.71 1306.57,1371.22 1306.67,1371.73 1306.77,1372.24 1306.87,1372.74 1306.98,1373.24 1307.08,1373.73 1307.18,1374.23 1307.28,1374.71 1307.38,1375.2 1307.48,1375.68 1307.58,1376.16 1307.68,1376.64 1307.78,1377.11 1307.88,1377.58 1307.99,1378.05 1308.09,1378.51 1308.19,1378.97 1308.29,1379.43 1308.39,1379.88 1308.49,1380.33 1308.59,1380.78 1308.69,1381.22 1308.79,1381.66 1308.89,1382.1 1308.99,1382.54 1309.1,1382.97 1309.2,1383.4 1309.3,1383.83 1309.4,1384.25 1309.5,1384.67 1309.6,1385.09 1309.7,1385.51 1309.8,1385.92 1309.9,1386.33 1310,1386.73 1310.1,1387.14 1310.21,1387.54 1310.31,1387.94 1310.41,1388.34 1310.51,1388.73 1310.61,1389.12 1310.71,1389.51 1310.81,1389.89 1310.91,1390.27 1311.01,1390.65 1311.11,1391.03 1311.22,1391.41 1311.32,1391.78 1311.42,1392.15 1311.52,1392.52 1311.62,1392.88 1311.72,1393.24 1311.82,1393.6 1311.92,1393.96 1312.02,1394.31 1312.12,1394.67 1312.22,1395.02 1312.33,1395.36 1312.43,1395.71 1312.53,1396.05 1312.63,1396.39 1312.73,1396.73 1312.83,1397.07 1312.93,1397.4 1313.03,1397.73 1313.13,1398.06 1313.23,1398.39 1313.34,1398.71 1313.44,1399.03 1313.54,1399.35 1313.64,1399.67 1313.74,1399.98 1313.84,1400.3 1313.94,1400.61 1314.04,1400.92 1314.14,1401.22 1314.24,1401.53 1314.34,1401.83 1314.45,1402.13 1314.55,1402.43 1314.65,1402.73 1314.75,1403.02 1314.85,1403.31 1314.95,1403.6 1315.05,1403.89 1315.15,1404.18 1315.25,1404.46 1315.35,1404.74 1315.45,1405.02 1315.56,1405.3 1315.66,1405.58 1315.76,1405.85 1315.86,1406.12 1315.96,1406.39 1316.06,1406.66 1316.16,1406.93 1316.26,1407.19 1316.36,1407.46 1316.46,1407.72 1316.57,1407.98 1316.67,1408.23 1316.77,1408.49 1316.87,1408.74 1316.97,1409 1317.07,1409.25 1317.17,1409.5 1317.27,1409.74 1317.37,1409.99 1317.47,1410.23 1317.57,1410.47 1317.68,1410.71 1317.78,1410.95 1317.88,1411.19 1317.98,1411.42 1318.08,1411.65 1318.18,1411.89 1318.28,1412.12 1318.38,1412.34 1318.48,1412.57 1318.58,1412.8 1318.68,1413.02 1318.79,1413.24 1318.89,1413.46 1318.99,1413.68 1319.09,1413.9 1319.19,1414.11 1319.29,1414.33 1319.39,1414.54 1319.49,1414.75 1319.59,1414.96 1319.69,1415.17 1319.8,1415.38 1319.9,1415.58 1320,1415.78 1320.1,1415.99 1320.2,1416.19 1320.3,1416.39 1320.4,1416.58 1320.5,1416.78 1320.6,1416.98 1320.7,1417.17 1320.8,1417.36 1320.91,1417.55 1321.01,1417.74 1321.11,1417.93 1321.21,1418.12 1321.31,1418.3 1321.41,1418.49 1321.51,1418.67 1321.61,1418.85 1321.71,1419.03 1321.81,1419.21 1321.91,1419.39 1322.02,1419.56 1322.12,1419.74 1322.22,1419.91 1322.32,1420.09 1322.42,1420.26 1322.52,1420.43 1322.62,1420.6 1322.72,1420.76 1322.82,1420.93 1322.92,1421.09 1323.03,1421.26 1323.13,1421.42 1323.23,1421.58 1323.33,1421.74 1323.43,1421.9 1323.53,1422.06 1323.63,1422.22 1323.73,1422.37 1323.83,1422.53 1323.93,1422.68 1324.03,1422.83 1324.14,1422.98 1324.24,1423.13 1324.34,1423.28 1324.44,1423.43 1324.54,1423.58 1324.64,1423.72 1324.74,1423.87 1324.84,1424.01 1324.94,1424.15 1325.04,1424.29 1325.14,1424.43 1325.25,1424.57 1325.35,1424.71 1325.45,1424.85 1325.55,1424.99 1325.65,1425.12 1325.75,1425.25 1325.85,1425.39 1325.95,1425.52 1326.05,1425.65 1326.15,1425.78 1326.26,1425.91 1326.36,1426.04 1326.46,1426.17 1326.56,1426.29 1326.66,1426.42 1326.76,1426.54 1326.86,1426.66 1326.96,1426.79 1327.06,1426.91 1327.16,1427.03 1327.26,1427.15 1327.37,1427.27 1327.47,1427.39 1327.57,1427.5 1327.67,1427.62 1327.77,1427.73 1327.87,1427.85 1327.97,1427.96 1328.07,1428.07 1328.17,1428.18 1328.27,1428.3 1328.37,1428.41 1328.48,1428.51 1328.58,1428.62 1328.68,1428.73 1328.78,1428.84 1328.88,1428.94 1328.98,1429.05 1329.08,1429.15 1329.18,1429.25 1329.28,1429.36 1329.38,1429.46 1329.49,1429.56 1329.59,1429.66 1329.69,1429.76 1329.79,1429.86 1329.89,1429.95 1329.99,1430.05 1330.09,1430.15 1330.19,1430.24 1330.29,1430.34 1330.39,1430.43 1330.49,1430.52 1330.6,1430.62 1330.7,1430.71 1330.8,1430.8 1330.9,1430.89 1331,1430.98 1331.1,1431.07 1331.2,1431.15 1331.3,1431.24 1331.4,1431.33 1331.5,1431.41 1331.6,1431.5 1331.71,1431.58 1331.81,1431.67 1331.91,1431.75 1332.01,1431.83 1332.11,1431.91 1332.21,1431.99 1332.31,1432.07 1332.41,1432.15 1332.51,1432.23 1332.61,1432.31 1332.72,1432.39 1332.82,1432.46 1332.92,1432.54 1333.02,1432.62 1333.12,1432.69 1333.22,1432.76 1333.32,1432.84 1333.42,1432.91 1333.52,1432.98 1333.62,1433.05 1333.72,1433.13 1333.83,1433.2 1333.93,1433.27 1334.03,1433.33 1334.13,1433.4 1334.23,1433.47 1334.33,1433.54 1334.43,1433.6 1334.53,1433.67 1334.63,1433.74 1334.73,1433.8 1334.83,1433.87 1334.94,1433.93 1335.04,1433.99 1335.14,1434.05 1335.24,1434.12 1335.34,1434.18 1335.44,1434.24 1335.54,1434.3 1335.64,1434.36 1335.74,1434.42 1335.84,1434.48 1335.95,1434.53 1336.05,1434.59 1336.15,1434.65 1336.25,1434.71 1336.35,1434.76 1336.45,1434.82 1336.55,1434.87 1336.65,1434.92 1336.75,1434.98 1336.85,1435.03 1336.95,1435.08 1337.06,1435.14 1337.16,1435.19 1337.26,1435.24 1337.36,1435.29 1337.46,1435.34 1337.56,1435.39 1337.66,1435.44 1337.76,1435.49 1337.86,1435.53 1337.96,1435.58 1338.06,1435.63 1338.17,1435.67 1338.27,1435.72 1338.37,1435.77 1338.47,1435.81 1338.57,1435.85 1338.67,1435.9 1338.77,1435.94 1338.87,1435.98 1338.97,1436.03 1339.07,1436.07 1339.18,1436.11 1339.28,1436.15 1339.38,1436.19 1339.48,1436.23 1339.58,1436.27 1339.68,1436.31 1339.78,1436.35 1339.88,1436.39 1339.98,1436.42 1340.08,1436.46 1340.18,1436.5 1340.29,1436.53 1340.39,1436.57 1340.49,1436.61 1340.59,1436.64 1340.69,1436.68 1340.79,1436.71 1340.89,1436.74 1340.99,1436.78 1341.09,1436.81 1341.19,1436.84 1341.29,1436.87 1341.4,1436.9 1341.5,1436.93 1341.6,1436.96 1341.7,1436.99 1341.8,1437.02 1341.9,1437.05 1342,1437.08 1342.1,1437.11 1342.2,1437.14 1342.3,1437.17 1342.41,1437.19 1342.51,1437.22 1342.61,1437.25 1342.71,1437.27 1342.81,1437.3 1342.91,1437.32 1343.01,1437.35 1343.11,1437.37 1343.21,1437.39 1343.31,1437.42 1343.41,1437.44 1343.52,1437.46 1343.62,1437.48 1343.72,1437.51 1343.82,1437.53 1343.92,1437.55 1344.02,1437.57 1344.12,1437.59 1344.22,1437.61 1344.32,1437.63 1344.42,1437.64 1344.53,1437.66 1344.63,1437.68 1344.73,1437.7 1344.83,1437.72 1344.93,1437.73 1345.03,1437.75 1345.13,1437.76 1345.23,1437.78 1345.33,1437.79 1345.43,1437.81 1345.53,1437.82 1345.64,1437.84 1345.74,1437.85 1345.84,1437.86 1345.94,1437.88 1346.04,1437.89 1346.14,1437.9 1346.24,1437.91 1346.34,1437.92 1346.44,1437.93 1346.54,1437.95 1346.64,1437.96 1346.75,1437.96 1346.85,1437.97 1346.95,1437.98 1347.05,1437.99 1347.15,1438 1347.25,1438.01 1347.35,1438.01 1347.45,1438.02 1347.55,1438.03 1347.65,1438.03 1347.76,1438.04 1347.86,1438.04 1347.96,1438.05 1348.06,1438.05 1348.16,1438.06 1348.26,1438.06 1348.36,1438.07 1348.46,1438.07 1348.56,1438.07 1348.66,1438.07 1348.76,1438.08 1348.87,1438.08 1348.97,1438.08 1349.07,1438.08 1349.17,1438.08 \"/>\n",
       "</svg>\n"
      ],
      "text/html": [
       "<img src=\"data:image/png;base64,iVBORw0KGgoAAAANSUhEUgAAAlgAAAGQCAIAAAD9V4nPAAAABmJLR0QA/wD/AP+gvaeTAAAgAElEQVR4nO3deXxU9b3/8e/JLIQkJCEMSQgIl30TF8ImNgpeoEC1VatQsS5Yr9blV+XSgvenP3vbqrVXsS69D3yg4kKvtmiVakWuIhIEH9KAIgoiAoGwhDUTyDqZmXN+fxyYOWadzJw558uc1/MPH985+c45nxyHeef7PZuiaZoAAMCp0uwuAAAAOxGEAABHIwgBAI5GEAIAHI0gBAA4GkEIAHA0ghAA4GgEIQDA0QhCAICjEYQAAEezKAgfe+yxAwcOWLOts4Wqqqqq2l2FdEKhkN0lSCcYDNpdgnTYJy2Fw2G+UlqK5SvFoiBcsWJFeXm5Nds6WwSDQb70m9E0rbGx0e4qpMM+aYl90lIwGAyHw3ZXIRdVVQOBQIfdmBoFADgaQQgAcDSCEADgaAQhAMDRCEIAgKMRhAAARyMIAQCORhACEquqEt//flZBgbjqKlFba3c1QGoiCAGJ/eY34v33lYYGsWKFWLTI7mqA1EQQAhJbubL1NgDzEISArOrrxe7d0ZfbtglNs68aIGURhICs9u79TvLV1YkjR+yrBkhZBCEgq4MHO14CIGEEISCrysrmSw4ftqMOIMURhICsjh5tvoSpUSAJCEJAVsePd7wEQMIIQkBWJ040X1JVZUcdQIojCAFZtYy9ltEIIGEEISCr6uqOlwBIGEEIyIogBCxBEAKyOnmy4yUAEkYQArIiCAFLEISArE6d6ngJgIQRhICUAgHR1NR8IUEIJAFBCEip1cyrrxehkOWlACmOIASkVFPT+nKeUw+YjSAEpNRW4BGEgNkIQkBKbY0I21oOIF4EISAlRoSAVdwx9tM0bdeuXfv27RsxYkRRUZG+MBwOr1+/fseOHbm5udOnT8/JyUlanYDDtBV4dXXW1gGkvlhHhKNHj544ceJVV121atWqyMI5c+bMnz//iy++eOWVVwYNGvTNN98kp0jAedoKPEaEgNliHRG+9957hYWFF198sXHhE0880bt3b739k5/85Mknn1y8eLHJBQLO1FYQMiIEzBbriLCwsLDlwkgKCiHy8vJUVTWnKAAEIWCVWEeE7du5c+err766evXqtjpUVVUtW7bs448/1l/6fL65c+easumzVzAYVBRFURS7C5GIpmnBYDAYDNpdiP3STp1ytbY8fOqUyv4Rgs9JS8FgkNFIM6qqxrJPTAjCw4cPX3HFFf/5n/85ZsyYtvqEw+Gamhq/36+/dLlc/A9TVVVRFPaDkaZpMX5wU16aceTncolwWG9qdXXsHxHzF5yj8JXSkqqqmqZ12C3RIDx27NiUKVNuuOGGe++9t51uPXv2vPPOO0tKShLcXIpRFMXr9dpdhUQ0TQuFQl26dLG7EAk0NkaaWvfuyvHjetsdCLjZP0I0NTXxOWlG0zSXy+XxeOwuRCIx/sGU0HWE1dXVM2bM+PGPf/zAAw8ksh4AzdXXR5pajx7R5RwjBMwW64hw8eLFW7Zs2b179yuvvLJx48a777571KhRt9xyS3l5+eHDh2+//XYhxLBhw+bNm5fMagHHMAahzyci1yYZlgMwRaxBeP755/t8vilTpugvfT6fEOKee+657rrrIn3y8/NNrw9wKGMQ5uW1uhyAKWINwokTJ7ZceOmll5paDIAz2poaJQgBs3GvUUBKDQ2RJkEIJBVBCEiprRGhISABmIIgBKRkDMLu3aPLCULAbAQhICXj1CgnywDJRBACUmorCBkRAmYjCAEpMTUKWIUgBOSjac1usRb9EUEImI0gBOQTCIjInYK7dBGZmdEfcYwQMBtBCMjHOOzr2lVLT4++bGwUMdxNH0DsCEJAPt8NQpGWJiJPWtA0EQjYUhSQqghCQD7NgjDy35Y/BZAwghCQjzHq9HlRghBIGoIQkI/hlNHTEdjsMCEA8xCEgHyYGgUsRBAC8jGO+fSxICNCIGkIQkA+BCFgIYIQkA9To4CFCEJAPowIAQsRhIB8CELAQgQhIB+mRgELEYSAfFqOCCO3WBOCW6wB5iIIAfm0PzXKiBAwFUEIyKf9IGRECJiKIATk0zIIOUYIJA1BCMin/WOEnDUKmIogBORjnPzUI5CpUSBpCEJAPpwsA1iIIATkw8kygIUIQkA+3FkGsBBBCMiHIAQsRBAC8uFkGcBCBCEgHy6fACxEEALyYWoUsBBBCMjHOPnJTbeBJCMIAfkYx3wtjxEyIgRMRRAC8mFECFiIIATk0/5Zo4wIAVMRhIB8Wk6NMiIEkoYgBCQTDotg8HQ7LU14vUIwIgSSiCAEJNNyXlQwIgSSiCAEJNPyIkLRIgg1zdKSgJRmQhCGw+HEVwLgtFZHhJE5UiGEpommJqurAlJXTEG4d+/euXPnXnDBBUOGDDEuP3r06NSpU3Nzc30+39KlS5NTIeAwrY4IBbOjQLLEFITBYPC88867++67y8vLjcsXLFhQWFjo9/tXr15977337t69OzlFAk7S6ohQcN9tIFliCsLBgwfPmzdv/PjxxoUNDQ3Lly9fuHCh2+2+4IILpk+fvmzZsuQUCThJW0HIfbeB5HDH/c6DBw8GAoHhw4frL0eMGLFr1662OquqWlNT4/f79ZderzczMzPuTQOpLJYgZEQImCf+IPT7/enp6S6XS3+ZnZ1dVVXVVuc9e/bMnj3b7T69uf79+69bty7uTaeGQCCgKIo3cgYEhNA0rb6+3u4qbOby+7ueaYc9noba2rq6OkVRMjyeyAROvd+v1tbaU58c9H1idxVyaWxsdLlcHo/H7kIkoqqqFsMp1vEHYc+ePevr64PBoL7f/X5/QUFBW50HDRr06KOPlpSUxL251OPxeAjCZjRNUxQlKyvL7kJsdeaPSyGEKyMjKytL07SsrCyRkRFZnpGWJpy9l07vExi43W6CsBlVVRsaGjrsFv/lE0VFRTk5OVu2bNFfbtmyZdiwYXGvDcBpLe+v1rLN1ChgnpiCMBQKbd68efv27Zqmbd68eevWrUIIr9d70003Pfjgg4cPH3777bdLS0tvvPHGJFcLOADHCAFrxTQ1Wltbe9999wkhJk+efN999/l8vtdee00I8cgjj8ybN2/cuHEFBQXLly/v1atXcosFnIAgBKwVUxDm5uZ+8MEHLZdnZmYuWbLE7JIAZ2v5MMKWbYIQMA/3GgUkE8sxQq4jBMxDEAKSYWoUsBZBCEgmliDkptuAeQhCQDLcYg2wFkEISKatk2WYGgWSgyAEJGMMOeONhwhCIDkIQkAynCwDWIsgBCRDEALWIggBycRyQT0nywDmIQgBybR1jNDY5vIJwDwEISAZ42iPESGQfAQhIBkuqAesRRACkmkrCI1To5wsA5iHIAQkYxztcdYokHwEISCZtp4+wWOYgOQgCAHJcB0hYC2CEJAMxwgBaxGEgGTaOkbI1CiQHAQhIJlYLqgnCAHzEISAZGK5xRpBCJiHIAQk09ZZozyYF0gOghCQjPEYYVvPI+TOMoB5CEJAJsGgCIdPt91u4XZHf8SIEEgOghCQSVvDQcHTJ4BkIQgBmbR1poxoMTWqaRaVBKQ6ghCQSVtX0wshFCU6KNQ0BoWAWQhCQCbtBKHgLmtAUhCEgEwIQsByBCEgE4IQsBxBCMikrfur6QhCIAkIQkAmjAgByxGEgEwIQsByBCEgE4IQsBxBCMiEIAQsRxACMiEIAcsRhIBMCELAcgQhIJP2g5D7bgNJQBACMmk/CHlIPZAEBCEgk9hHhAQhYBKCEJAJI0LAcgQhIBNGhIDlCEJAJsZTYBgRApZwJ/LmQCCwdOnSLVu2ZGVlXXfddWPGjDGrLMChGhuj7fYvnzD2BJCAhEaEP/vZz5YtWzZt2rTevXtPmjSprKzMrLIAh2p/RGhcwuUTgEkSGhG+++67//jHPy6++GIhxIYNG1atWjV27FiTCgMciREhYLmERoTFxcWlpaVCCL/fv3XrVqZGgUQZx3ntP4+QESFgkoRGhC+//PLkyZOfeuqpU6dOzZ8/f8aMGW31PHTo0AMPPODz+fSX+fn5ixYtSmTTKSAQCCiKEgqF7C5EIpqm1dfXp6U59xyuLnV1rjPtgKKE6+uFEA0NDS6XSwjhVpRINoZqa5vq6+2oUQqRfYKIxsZGl8vl8XjsLkQiqqqGw+EOu8UfhKqqzpo16/LLL1+wYMGBAwd+8pOfnHfeebNmzWq1c05OzmWXXTZ8+HD9ZV5eXrrx/DdHUhRFURRvy7/6HUzTtHA47OTPhhIMRtrebt209HQhRDAY1PeJkpUV+anL2Tsqsk9gRBA2o6pqIIbzq+MPwj179nzyyScffPBBRkZGYWHh3LlzX3311baCMDMz87LLLispKYl7c6knLS1NURQnj35a0jQtLS3N0fvEMOGppKcraWlCiOg+MUyNKk1NioN3lNM/J61JO8PuQs4+8e+y/Px8l8u1bds2/eVXX33Vq1cvk6oCnIqnTwCWi39EmJ2d/fDDD8+YMWPatGkVFRUHDx786KOPTKwMcCJusQZYLqGTZRYuXHj99ddv27YtJydn9OjRHO4CEhX7dYQEIWCShIJQCNGnT58+ffqYUgqA78Rb+5dPcB0hYBIOqwIyMQZhy7MiGRECSUAQAjKJ/c4yBCFgEoIQkAnHCAHLEYSATBgRApYjCAGZcB0hYDmCEJCGqkanRhWlg7NGCULAJAQhII1mj55QlOYdCEIgCQhCQBrtXzshCEIgKQhCQBrtnykjhHC7ReTZQ+Gw4BlegBkIQkAa7Z8p03I5g0LADAQhII32LyLUcd9twGwEISCNDqdGBbcbBcxHEALSYGoUsANBCEijw7NGBVOjgPkIQkAa7T+DSceIEDAbQQhIw3jMr60RIccIAbMRhIA0OEYI2IEgBKQRyzFCghAwG0EISKOzl08QhIAZCEJAGrFMjXLWKGA2ghCQRmePEXKyDGAGghCQBscIATsQhIA0Ojs1yogQMANBCEiDk2UAOxCEgDS4jhCwA0EISCOWO8swNQqYjSAEpMGIELADQQhIo7MjQoIQMANBCEiD6wgBOxCEgDQYEQJ2IAgBaTAiBOxAEALS6OzzCBkRAmYgCAFpcGcZwA4EISANghCwA0EISIOpUcAOBCEgDe4sA9iBIASkwYN5ATsQhIA0Ojs1yogQMANBCEiDqVHADgQhIA1OlgHsQBACcgiFRDh8uu1yCbe79W6MCAGzmRCE5eXln3766ZEjRxJfFeBcsQwHBUEImK+NvzpjU19ff/3112/YsGHw4MG7du1as2bNyJEjzaoMcJZYThkVQni9QlGEpgkhRFOTUFWRxrwOkJCEgnDBggWBQKCioiI9PT0cDocjEzsAOivGEaGiiC5dop0DAdG1a3ILA1Jd/EEYCoWWLl26YcOGxsbGxsbG3Nxcl8tlYmWAs8QYhPpPI50bGwlCIEHxB+H+/fubmpqefPLJsrIyv98/fvz41157rWsb/yYbGho2bdoUODP5k5ubO2bMmLg3DaSgTgVhq+8CEJf4g7C6ujocDhcWFm7fvr2hoeHSSy99+umnFy5c2Grn48ePL1u2LDc3V39ZWFi4ZMmSuDedGgKBgKIoXq/X7kIkomlafX293VXYI62qKuNMW/V662trIz+qq6tTFCXyMsPrjRwVrK+qUrt1s6pGiTTbJxBCNDY2ulwuj8djdyESUVVV0w+otyv+ICwsLBRCzJ49WwjRtWvXK6+88tNPP22r8znnnPPoo4+WlJTEvbnU4/F4CMJmNE1TFCUrK8vuQuxgOOclLSPDuBM0TfvOPsnIiDbT0oQjd1fzfQIh3G43QdiMqqoNDQ0ddov/fLOCgoJ/+Zd/OXbsmP7y6NGj3bt3j3ttgNPFPjXKNfWAqeIfEaalpc2fP/+Xv/ylpmkHDx586aWXVq1aZWJlgLPEd4wwhr92AbQvocsn7r777uzs7Oeee65Hjx6rVq2aMGGCWWUBjsPJMoBNEgpCIcSNN9544403mlIK4GgEIWAT7kkByCH2IDRepEQQAgkjCAE5MCIEbEIQAnIgCAGbEISAHAhCwCYEISAHghCwCUEIyMF4RWD799E2/pTrCIGEEYSAHOIbEXJnGSBhBCEgB+4sA9iEIATkEPvUKMcIAVMRhIAc4rugnhEhkDCCEJADZ40CNiEIATkYx3YcIwQsRBACcjCO7WK/fIIRIZAwghCQA9cRAjYhCAE5cIwQsAlBCMiBESFgE4IQkAPXEQI2IQgBOXAdIWATghCQQ3wjQoIQSBhBCEggFBLB4Om2yyW83vY6MyIETEUQAhKI/Wp6QRACJiMIAQnEPi8qhOjSRbhcp9vBoAiFklUV4AwEISCB2G8ro+PEUcA8BCEggU6NCJv1qa83vx7ASQhCQALGMOtsEHKYEEgMQQhIIJERIVOjQGIIQkACxiDMyOi4PyNCwDwEISABjhEC9iEIAQl0NgiNo0ZGhEBiCEJAAomMCAlCIDEEISCBRM4aZWoUSAxBCEigsyfLMDUKmIcgBCTAiBCwD0EISIARIWAfghCQAHeWAexDEAISSGREyNQokBiCEJCAMcw6e2cZghBIDEEISIAL6gH7EISABDo7ImRqFDAPQQhIgCAE7EMQAhIgCAH7EISABAhCwD4mBGF5efmsWbOWL1+e+KoAh6qri7Y5axSwljvB92uadtttt5WXlw8fPtyUggAn6uyIMDOz9fcC6LxEg3DJkiWDBg3y+XymVAM4VCJTo8bRJIDOS2hq9NChQ0899dTvf/97s6oBHMoYhMbRXls4RgiYJ6ER4R133PHwww/n5uZ22HPPnj2zZ8/u0qWL/vKcc85ZuXJlIptOAYFAQFEUr9drdyES0TSt3oFf601NWaHQ6bbHUxsIiEDA+PO6ujpFUYxLFCEiaanV1dXV1lpQplRa7hM0Nja6XC6Px2N3IRJRVVXTtA67xR+Er776alNT06RJk/x+f1NTU0NDQ01NTbdu3Vrt3Ldv33//938fO3as/jIzMzMrKyvuTacGj8dDEDajaZqiKI77bFRXR9ut/dPQNK35wq5dhaIITRNCKA0NWZmZwmGp0Mo+cTy3200QNqOqakMMt16KPwi3b9++cePGgQMHCiHq6urS0tJ27ty5YsWK1jfjdhcVFQ0YMCDuzQEpq7OnjAohXC7RpYtobBRCCFUVjY0x3ZgNQGviP0b40EMPVZ1x9dVXL1iwoK0UBNAeYxDGcoCwZU/OlwESYM4F9ZmZmenp6aasCnCczp4po+N8GcAkiV4+oXv++edNWQ/gRIwIAVtxizXAbnEcIxQEIWAaghCwGyNCwFYEIWA3ghCwFUEI2I0gBGxFEAJ2iy8IjZeTO+/OMoCJCELAbsYYi/1uKdx3GzAJQQjYLfERIUEIJIAgBOwW34jQGJlMjQIJIAgBuxljjBEhYDmCELCbMcZiHxFysgxgEoIQsFt8U6MEIWASghCwG0EI2IogBOzGyTKArQhCwG7xBWG3btE2J8sACSAIAbsZg9AYb+0zRmZNjZn1AA5DEAJ2S3xEyNQokACCELBVOBx9vnxaWieeR8iIEDAJQQjYqrZWaNrpdlaWUJRY38iIEDAJQQjYKr4DhEIIt1t07Xq6HQqJhgYzqwKchCAEbHXqVLTdqSAUzI4C5iAIAVsZA6yzQZid3fp6AHQGQQjYKpEgNPY3jiwBdAZBCNjKrCBkRAjEiyAEbGUcyRmnOmNh7M+IEIgXQQjYihEhYDeCELAVI0LAbgQhYCtjgOXkdO69BCFgBoIQsFUi1xEShIAZCELAVkyNAnYjCAFbnTwZbXd2atTY37geAJ1BEAK2IggBuxGEgK2MAZbI1ChBCMSLIARsZQyw3NzOvZcRIWAGghCwVSIjQoIQMANBCNhH06JneypKp48RGkeQ1dWmVQU4DEEI2KemRoTDp9tZWcLt7tzbGRECZiAIAfsYh3GdHQ4KIbxekZFxuh0Kfedh9wBiRhAC9jEGYffu8ayB2VEgYQQhYB+/P9qOY0QovhuExrUBiBlBCNgn8RGh8V2MCIG4EISAfaqqou3Eg5ARIRAXghCwjzG6CELAJp08Xfu7wuHw+vXrd+zYkZOTM3369NzO3hcDcDhzg9A4vgQQs4RGhHPmzJk/f/7WrVuXLVs2ePDgHTt2mFUW4AjG6MrLi2cNxncRhEBcEhoRPvHEE71799bb11133VNPPbV48WIzqgKcwTgiTDwImRoF4pLQiDCSgkKI7t27q6qacD2Ak5w4EW0zIgRsktCIMGLXrl1/+ctf3n///bY6VFVVLVu27OOPP9Zf+ny+uXPnmrLps1cwGFQURVEUuwuRiKZpwWAwGAzaXYhF3MePR/73h3JytDZ+8Xb2iZKdHfk3rB0/HnLMrnPU5yRGwWCQ0UgzqqrGsk9MCMLKysqZM2f++te/HjNmTFt9wuFwTU2N/8zUjcvl4n+YqqqKorAfjDRNi/GDmyIMYzg1N1dr4xdvZ58oxpNlTpxwzq5z1uckNnyltKSqqqZpHXZLNAiPHTs2ZcqUm2666Z577mmnW8+ePe+8886SkpIEN5diFEXxer12VyERTdNCoVCXLl3sLsQqhqlRb69eoo1fvKmpqc190qtXpKmcOOGcXdfePnEqTdNcLpfH47G7EInE+AdTQscIq6urp0+ffu21195///2JrAdwoqYmUVNzuu12d/qpvDqfL9o2HnEEELOERoS33HLL3r17Kysrb7/9diHEsGHD5s2bZ1JhQKo7fjza7tFDxHe0ODtbeDxCP1pWWysaG0V6ujnlAY6RUBDec8891113XeRlfn5+wvUAjmEMQuPArlMURfh8orIyus4+fRItDHCYhILw0ksvNasOwHGOHYu24w5C/b2RIDx2jCAEOot7jQI2MQZhIrMpxvca1wkgNgQhYJOjR6Ptnj3jX4/xvQQh0HkEIWCTZIwIjxyJfz2AUxGEgE2MoWVWEBpHmQBiQxACNjEGYUFB/OsxvpcRIdB5BCFgE2NoFRbGvx6CEEgMQQjYJHLNg0hsRGgMUeM6AcSGIATsoGnfGb0ZbhnaacYgPHw4/vUATkUQAnY4cUIEAqfbOTkiIyP+VRUWirQz/5CPHhWhUKK1AQ5DEAJ2OHQo2k5kOCiE8HiiN6ZRVQaFQGcRhIAdjEFYVJTo2oxrMK4ZQAwIQsAOBw9G2717J7o24xqMawYQA4IQsMOBA9F24rfJNq7BuGYAMSAIATvs3x9tn3NOomszrsG4ZgAxIAgBO1RURNuJB6FxRGhcM4AYEISAHfbti7b79k10bf36tb5mADEgCAHLadp3xm3GGIsPQQgkgCAELHf4sGhsPN3u3l3k5CS6wnPOEW53dOUNDYmuEHASghCw3J490Xb//ias0O2OHibUNLF3rwnrBBzD3XEXAObavTvaHjiww+7//Oc/NU1rv8/o3Ny8M+0tf/vb8QkT4q7urFBfX5+RyH3pUlFTU9OYMWPyE3m2pVMRhIDlvv022h40qP2+gUBg2rTvdxs1qf1uTx44dvOZ9l8XL1v8xtq4qztLaEIodtcgl0Dltw8t+MX8+fPtLuTsQxACljMG4bBh7fdVVTXN4z1593vtd9v6wVNi+a/0dt8hk09e/0xiJeLs4/nbwnA4bHcVZyWOEQKW27Ej2h4yxJRVflMYXc+ww9+Ysk7AIQhCwFqqKnbujL4cOtSUte4ojI4sh1UShEAnEISAtfbsiV7eUFQkunc3Za17ff3qvadPHul1sjKvrsqU1QJOQBAC1vryy2h7+HCz1qoqacbZ0VEHvzJrzUDKIwgBa33xRbQ9cqSJK95WNCLSPu/Al+30BGBEEALW+vzzaPuCC0xc8ZZzzo+0R+/7vJ2eAIwIQsBamzZF26NHm7jiz/tGY3XMvs0mrhlIbQQhYKH9+8WhQ6fbXbuaOzW6ud9oVTn9L3p45Y5ujTUmrhxIYQQhYKENG6LtMWOid8o2w8muOV/3On0RhUsNX7T7UxNXDqQwghCw0Lp10fbFF5u++k8GXhRpX/LtetPXD6QkghCw0OrV0fYll5i++tKh0XVO2f6h6esHUhJBCFhl9+7oXUa9XlFSYvoW1gybpCmnb0U9Zt9mX+1x0zcBpB6CELDK3/8ebZeUiKws07dQmdMrchGFSw1fvnWl6ZsAUg9BCFjlL3+Jtn/4wyRt5O3zr4i0Z5e9nqStAKmEIAQssW2bKCs73U5LEz/+cZK28/qY6Jqnbl/dx38wSRsCUgZBCFji6aej7csuE717J2k724pGfNb3Qr3tUsN3fbQ4SRsCUgZBCCTfvn3i5ZejL2+7LalbW3LJrZH2nWuf5ZQZoH0EIZB88+aJQOB0e9AgcdVVSd3aKxN/eiS7QG9nN5x69G/3J3VzwNmOIASS7JlnxFtvRV8++KC5N5RpqcHT9fczF0Re/mz9i9dvfC2pWwTOaiYEYTAYTHwlQAoKhcTDD4t7740uuegicf31Fmx58aW3by+KPuzwpaU/+z9r/jtNUy3YNHDWSSgIjx49OmXKlB49evh8vhdeeMGsmoCzW3m5+OMfxS9+IQYPFg88INQz8ZOdLV56SaRZMQ3T5Pbe8LOXGj3p+ku3Gnr6tXnbHzzvj3/95T0fPtO7+lD7bwccJaEpmgULFhQVFfn9/q+++qqkpGTSpEkDBw40qzLgrFRZKYqLhd/ffHmXLuKNN8SQIa29Jyk+63vhjbe8+OpzN7jVkL5k6OGdQw/vFEIsfO/x4b/berJrjmXFADKL/4/ThoaG5cuXL1y40OVynX/++TNmzFi2bJmJlQFnpU8+aSUFfT7x7rti6lSLa3l9zI+vvvP1U12zmy3vdbKSJ/cCEfGPCA8ePBgIBIYNO/3Yl+HDh+/atautzqqq1tTU+M98QXi93szMzLg3DchrwgTRrZuoOfMswPR0MXeu+PWvRUFB/OvUNFHfIlxj887giefet/Z37/7hus1vesOnD+cfy+qxxdcv7nVCUsFGuys4W8UfhNXV1enp6XeMDRUAAAxcSURBVC6XS3+ZnZ1dVVXVVuc9e/bMnj3bfeZkuQEDBpSWlsa96dQQCAQURfF6vXYXIhFN0+rr6+2uIjE5OWlr17rffFN06aIOHRr+3ve07GwhhKitjW99oVAoN69H3f8bGndFx4W4Q4j/m5FREg4NDYfThPirCDb+fnzXuNcoA00Ixe4aZKOJ3Fl/qI33k5aSVFXVNK3DbvEHoc/nq6+vDwaDHo9HCOH3+wva/pt30KBBjz76aEkSbrd/9vJ4PARhM5qmKYqSlYS7UVtq9GgxerSJ69uz8+tu3bqZuMJfm7gum9TU1Ji7T1JAY2Ojy+XSv5ChU1W1oaGhw27xHyMsKirKycnZsmWL/nLLli2RaVIAAM4W8Qeh1+u96aabHnzwwcOHD7/99tulpaU33nijiZUBAGCBhC6feOSRR+bNmzdu3LiCgoLXX3+9V69eZpUFAIA1Erq2NzMzc8mSJRUVFWVlZd///vfb6XnkyJF2TqVxptLS0k8++cTuKuRy4MCB//mf/7G7Crmoqvr444/bXYV0nn/++RMnTthdhVxWr15dFnnUF4QQQpSXl//1r3/tsJtF9xo9duzYgQMHrNnW2eKjjz5at26d3VXIZdu2bW+88YbdVcglEAg89thjdlchnT//+c979uyxuwq5rF69ev369XZXIZetW7euWLGiw27cdBsA4GgEIQDA0QhCAICjKbFcdZ+49PT07OxsLoA18vv9iqLk5ubaXYhEGhoaTp48WVhYaHchEtE0raKiol+/fnYXIpdDhw75fD7uR2FUVVXlcrlycriXelR9fX337t23b9/efrfkPiA04ttvv+Wxhc2Ew2EhROQeddAFAoEuXbrYXYVc2CctsU9aCoVCiqLwlWKkaVqPHj067GbRiBAAADlxjBAA4GgEIQDA0QhCAICjEYQAAEdL7lmjDQ0NX3zxxfbt24uKiqZPn96yQ2Vl5TvvvBN5+a//+q8DBw5Makm2CwaDX3755datW7Oysq655ppW+9TV1T333HMVFRUTJ05sq0+KaWxsfOGFF3bv3l1cXDxnzhxFaf7Q1XfeeaeyslJv5+XlpepuKS0tffvtt3v06HHLLbe0ehlJRUXFiy++WFdXd80114wbN876Cq1XWVm5dOlSv99/5ZVXfu9732vZYcmSJZH2iBEjWu2TSpqamvTvkJycnKuvvrrVPrW1tc8999z+/ftLSkquuuoqiyu0xd69ezdt2lRVVXXttdd27969ZYcVK1YcPXpUb/t8PuOuS+6I8KGHHrr55pufeOKJP/3pT612+Pbbb++///49Zzjh2crPP//8Nddc88wzz/z2t79tq8+MGTNWr149aNCgBx544JFHHrGyPLtce+21b7311uDBg//rv/7rvvvua9nh8ccf/9///V/9c7J//37rK7TAW2+9dc011/Tt23fv3r0TJkyoqalp1uHIkSNjx46trq4uKCiYNm3a2rVr7SjTUidPnhw3btz+/fv79Olz5ZVXGv9u1mmadvvtt2/fvl3/bBw/ftyWOq20ePHiWbNmPfPMMw8//HCrHTRNmzp16tq1awcNGrRgwQIn3KvW7/dfeOGFixcv/vnPf37o0KFW+/zhD39YvXq1/jlpfu9rLZnC4bCmaY8//vgPfvCDVjuUlpaee+65Sa1BNvo+Wb58+ahRo1rtsG7duvz8/EAgoGnaxo0be/To0dDQYGmJltuyZUu3bt1qa2s1TduxY0dmZmZ1dXWzPpdccslbb71lR3XWGTt27NKlS/V2SUnJ4sWLm3X43e9+96Mf/UhvP/bYY9OnT7e0Pjs8/fTTkyZN0ttLliy56KKLmnVQVVUIUVVVZXlpttG/Q/785z+PHj261Q6rV6/u3bt3U1OTpmkff/xx5Pskhamqqqqqpmkul+urr75qtc+ECRPefffdVn+U3BFhWlrH6z958uSiRYuWLFmyb9++pBYjiQ73SWlp6aRJk/RbZowdOzYcDn/11VeWlGabdevWTZw4MTMzUwgxdOhQn8+3adOmlt1WrVq1aNEi/aNseY1JV19fX1ZWNmXKFP3l1KlTS0tLm/VZt27d1KlTIx2c8PSSdevWTZs2TW9PnTr1008/DQQCLbs999xzTz/9dKsfm9QT43eIx+MRQkycOLGuru7rr7+2pDTbKIrS8nhKSytXrly0aNF7773X7DvE5pNl0tPTx48f7/f7165dO2rUqPfff9/eemRw+PDhnj176m1FUfLz89sa6aeMysrKyK8shGj1Vx4+fHh6evrRo0fvueeeH/zgB/o4IJXoR0Dz8/P1lwUFBS13gnFH5efn19fXV1dXW1mk9Zr9ypqmHT58uFmfyy67rLq6eseOHVOnTnXIoYT2Gb9D0tLSevbsmfLfIbEYOXKk1+s9cuTIXXfddeWVVxqzMNGTZX7729+2PNYV+3f3uHHjXn/9db2tHxyK/PV39nrxxRf/7d/+reXyurq6WG4K5Xa7jX/zBoPBFLihYigUSk9Pb7n82WefvfXWWz0ej37DOV2rv/Kzzz6rN/7jP/5jyJAhq1atmjlzZvIKtp7+93soFNI/JMFgsOWnxe12h0Ihva039HelsJa/crPPhqIoH374od6+4YYbLrnkkrvuusvh99t0u90d/oNyoOeff15v3HfffYMHD/7www8jEzCJjggffPDBUAvx/fUxceLE1HjS5ty5c1vuk8gXXId69+598OBBvR0MBo8ePVpUVJTMeq2gf521dOuttwohioqKIr+ypmmHDh1q51fOzc0dOXJkeXm5RaVbpbCwMC0tLbIfDh482KtXr2Z9evfuHfnHdfDgwdzcXH0+OYUZf+UDBw643e7IoLml8ePHCyEqKiosKk5Wxu+QQCBw/PjxFPgOMVFeXt6wYcOMcWPD1KimaWvWrNHPiGtsbIwsf+edd84991zr65HEhg0b9BPeLr/88rVr1x47dkwI8d577+Xn56f8bpk5c2ZZWZl+Hpd+3Ev/Rtu9e/eXX34phNBTU+984MCBzz//fOTIkfbVmxRer3f69OlvvPGGEKKpqenvf//7D3/4QyFEQ0PDmjVr9F//iiuuePPNN/Vp4ddff/2KK66wt2YLXHHFFStWrNBv2f/GG2/MnDlTv6n05s2b9Q+M8Ttk5cqVHo9nwIABdlVrr48//vjEiRNCiMsvv3zNmjVVVVVCiHfeeadv377Dhg2zuzp77Nq1a9u2bUKIYDAY+Q7Zt2/f1q1bv/MdkpQzeM5YuXJlcXFxnz59cnJyiouLf/Ob32ia1tTUJITYtGmTpmm33XbbxRdf/NOf/nTChAm9evUqKytLaj0y+Oyzz4qLiwcMGNC1a9fi4uI77rhDX15YWPjmm2/q7dtuu23IkCE333xzz549ly9fbl+x1vnVr37Vv3//uXPnFhQUvPDCC5GF+lR+eXl5r169rrrqqlmzZuXl5f385z+3tdhkKSsr69Gjx/XXXz9+/PjJkyfrZ/198803QogTJ05omlZbW1tcXHzJJZfMnj27oKBgx44ddpecdIFAoKSkZMKECXPmzPH5fJ999pm+fPz48X/84x81TXv55ZeHDx8+Z86cmTNnduvW7cUXX7SzXEts3LixuLi4f//+GRkZxcXFv/jFL/TleXl5//jHP/T23Llzhw0bpn+HRL5YUtv06dOLi4sVRRkxYkRxcbHf79c07d577501a5amaTt37iwqKrr66quvvfba3NzcyE7TJffpE1VVVcYpLJ/P169fP03TysrKzj333IyMjNra2o0bNx49ejQ/P3/ChAkpP88jhKitrdW/2nTZ2dmDBw8WQmzZsqVfv36R60A3bNhQUVExbty4lL/DQMQ///nP3bt3X3jhhZG/Xvfv3x8IBAYNGiSE+Prrr7/++mtVVUeNGjV06FBbK02iI0eOrF27Ni8vb/LkyW63WwjR2Ni4devW4uJifSQUCATWrFlTW1s7ZcqUVq8aTj3BYPCjjz6qrq6ePHly5ByQ7du39+jRo6CgIBQKbd68ec+ePdnZ2WPGjCkoKLC3WgucOnXq22+/jbzMycnR/418/vnnAwYMiBwfXb9+/f79+ydMmNC/f397CrXW1q1bjQ/7O//8891ud0VFRTAYHDhwoKZp+neIEOK8887Tv3UjeAwTAMDRuNcoAMDRCEIAgKMRhAAARyMIAQCORhACAByNIAQAOBpBCABwNIIQAOBoBCEAwNEIQgCAoxGEAABH+/+RPVHl/y6LLAAAAABJRU5ErkJggg==\" />"
      ]
     },
     "metadata": {},
     "output_type": "display_data"
    }
   ],
   "source": [
    "density = kde(raw_changes,bandwidth=0.035,kernel=Logistic)\n",
    "histogram(raw_changes,xlim=[-1.5,1.5],normed=true,bins=200,legend=false)\n",
    "plot!(density.x,density.density,color=:red,linewidth=4)"
   ]
  },
  {
   "cell_type": "markdown",
   "metadata": {
    "jp-MarkdownHeadingCollapsed": true,
    "tags": []
   },
   "source": [
    "----\n",
    "#### Plot the histogram and fitted symmetrized density of non-standardized changes"
   ]
  },
  {
   "cell_type": "code",
   "execution_count": 19,
   "metadata": {},
   "outputs": [
    {
     "ename": "ArgumentError",
     "evalue": "ArgumentError: collection must be non-empty",
     "output_type": "error",
     "traceback": [
      "ArgumentError: collection must be non-empty\n",
      "\n",
      "Stacktrace:\n",
      " [1] _extrema_itr(f::typeof(identity), itr::Vector{Float64})\n",
      "   @ Base ./operators.jl:483\n",
      " [2] _extrema_dims\n",
      "   @ ./multidimensional.jl:1706 [inlined]\n",
      " [3] #extrema#486\n",
      "   @ ./multidimensional.jl:1693 [inlined]\n",
      " [4] extrema\n",
      "   @ ./multidimensional.jl:1693 [inlined]\n",
      " [5] kde_boundary\n",
      "   @ ~/.julia/packages/KernelDensity/wRVC2/src/univariate.jl:76 [inlined]\n",
      " [6] top-level scope\n",
      "   @ /app/replication/replication_code.ipynb:2"
     ]
    }
   ],
   "source": [
    "raw_changes_sym = vcat(-raw_changes[2:end],raw_changes[2:end])\n",
    "density = kde(raw_changes_sym,bandwidth=0.035,kernel=Logistic)\n",
    "histogram(raw_changes,xlim=[-1.5,1.5],normed=true,bins=200,legend=false)\n",
    "plot!(density.x,density.density,color=:red,linewidth=4)"
   ]
  },
  {
   "cell_type": "markdown",
   "metadata": {
    "jp-MarkdownHeadingCollapsed": true,
    "tags": []
   },
   "source": [
    "----\n",
    "#### Plot the symmetrized histogram and fitted symmetrized density of non-standardized changes"
   ]
  },
  {
   "cell_type": "code",
   "execution_count": 20,
   "metadata": {},
   "outputs": [
    {
     "ename": "ArgumentError",
     "evalue": "ArgumentError: reducing over an empty collection is not allowed",
     "output_type": "error",
     "traceback": [
      "ArgumentError: reducing over an empty collection is not allowed\n",
      "\n",
      "Stacktrace:\n",
      "  [1] _empty_reduce_error()\n",
      "    @ Base ./reduce.jl:299\n",
      "  [2] mapreduce_empty(f::Type, op::Function, T::Type)\n",
      "    @ Base ./reduce.jl:342\n",
      "  [3] reduce_empty(op::Base.MappingRF{DataType, typeof(Base.add_sum)}, #unused#::Type{Float64})\n",
      "    @ Base ./reduce.jl:329\n",
      "  [4] reduce_empty_iter\n",
      "    @ ./reduce.jl:355 [inlined]\n",
      "  [5] mapreduce_empty_iter(f::Type, op::Function, itr::Vector{Float64}, ItrEltype::Base.HasEltype)\n",
      "    @ Base ./reduce.jl:351\n",
      "  [6] _mapreduce\n",
      "    @ ./reduce.jl:400 [inlined]\n",
      "  [7] _mapreduce_dim\n",
      "    @ ./reducedim.jl:318 [inlined]\n",
      "  [8] #mapreduce#678\n",
      "    @ ./reducedim.jl:310 [inlined]\n",
      "  [9] mapreduce\n",
      "    @ ./reducedim.jl:310 [inlined]\n",
      " [10] #_sum#688\n",
      "    @ ./reducedim.jl:878 [inlined]\n",
      " [11] _sum\n",
      "    @ ./reducedim.jl:878 [inlined]\n",
      " [12] #sum#686\n",
      "    @ ./reducedim.jl:874 [inlined]\n",
      " [13] sum\n",
      "    @ ./reducedim.jl:874 [inlined]\n",
      " [14] macro expansion\n",
      "    @ ~/.julia/packages/StatsBase/iMkPf/src/hist.jl:488 [inlined]\n",
      " [15] normalize!(::StatsBase.Histogram{Float64, 1, Tuple{StepRangeLen{Float64, Base.TwicePrecision{Float64}, Base.TwicePrecision{Float64}}}}; mode::Symbol)\n",
      "    @ StatsBase ~/.julia/packages/StatsBase/iMkPf/src/hist.jl:461\n",
      " [16] _make_hist(vs::Tuple{Vector{Float64}}, binning::Int64; normed::Bool, weights::Nothing)\n",
      "    @ Plots ~/.julia/packages/Plots/rz1WP/src/recipes.jl:797\n",
      " [17] macro expansion\n",
      "    @ ~/.julia/packages/Plots/rz1WP/src/recipes.jl:809 [inlined]\n",
      " [18] apply_recipe(plotattributes::AbstractDict{Symbol, Any}, #unused#::Type{Val{:barhist}}, x::Any, y::Any, z::Any)\n",
      "    @ Plots ~/.julia/packages/RecipesBase/BRe07/src/RecipesBase.jl:300\n",
      " [19] _process_seriesrecipe(plt::Any, plotattributes::Any)\n",
      "    @ RecipesPipeline ~/.julia/packages/RecipesPipeline/BGM3l/src/series_recipe.jl:50\n",
      " [20] _process_seriesrecipe(plt::Any, plotattributes::Any)\n",
      "    @ RecipesPipeline ~/.julia/packages/RecipesPipeline/BGM3l/src/series_recipe.jl:62\n",
      " [21] _process_seriesrecipes!(plt::Any, kw_list::Any)\n",
      "    @ RecipesPipeline ~/.julia/packages/RecipesPipeline/BGM3l/src/series_recipe.jl:27\n",
      " [22] recipe_pipeline!(plt::Any, plotattributes::Any, args::Any)\n",
      "    @ RecipesPipeline ~/.julia/packages/RecipesPipeline/BGM3l/src/RecipesPipeline.jl:99\n",
      " [23] _plot!(plt::Plots.Plot, plotattributes::Any, args::Any)\n",
      "    @ Plots ~/.julia/packages/Plots/rz1WP/src/plot.jl:223\n",
      " [24] #plot#184\n",
      "    @ ~/.julia/packages/Plots/rz1WP/src/plot.jl:102 [inlined]\n",
      " [25] histogram(args::Any; kw::Any)\n",
      "    @ Plots ~/.julia/packages/RecipesBase/BRe07/src/RecipesBase.jl:427\n",
      " [26] top-level scope\n",
      "    @ /app/replication/replication_code.ipynb:3"
     ]
    }
   ],
   "source": [
    "kernel_den_raw = DataFrame(x = density.x, q = density.density)\n",
    "CSV.write(\"kernel_den_raw.csv\",kernel_den_raw)\n",
    "histogram(raw_changes_sym,xlim=[-1.5,1.5],normed=true,bins=200,legend=false)\n",
    "plot!(density.x,density.density,color=:red,linewidth=4)"
   ]
  },
  {
   "cell_type": "markdown",
   "metadata": {
    "jp-MarkdownHeadingCollapsed": true,
    "tags": []
   },
   "source": [
    "----\n",
    "#### Plot the histogram and fitted density of standardized changes"
   ]
  },
  {
   "cell_type": "code",
   "execution_count": 21,
   "metadata": {},
   "outputs": [
    {
     "data": {
      "image/png": "[encoded data removed]",
      "image/svg+xml": [
       "<?xml version=\"1.0\" encoding=\"utf-8\"?>\n",
       "<svg xmlns=\"http://www.w3.org/2000/svg\" xmlns:xlink=\"http://www.w3.org/1999/xlink\" width=\"600\" height=\"400\" viewBox=\"0 0 2400 1600\">\n",
       "<defs>\n",
       "  <clipPath id=\"clip470\">\n",
       "    <rect x=\"0\" y=\"0\" width=\"2400\" height=\"1600\"/>\n",
       "  </clipPath>\n",
       "</defs>\n",
       "<path clip-path=\"url(#clip470)\" d=\"M0 1600 L2400 1600 L2400 0 L0 0  Z\" fill=\"#ffffff\" fill-rule=\"evenodd\" fill-opacity=\"1\"/>\n",
       "<defs>\n",
       "  <clipPath id=\"clip471\">\n",
       "    <rect x=\"480\" y=\"0\" width=\"1681\" height=\"1600\"/>\n",
       "  </clipPath>\n",
       "</defs>\n",
       "<path clip-path=\"url(#clip470)\" d=\"M112.177 1486.45 L2352.76 1486.45 L2352.76 47.2441 L112.177 47.2441  Z\" fill=\"#ffffff\" fill-rule=\"evenodd\" fill-opacity=\"1\"/>\n",
       "<defs>\n",
       "  <clipPath id=\"clip472\">\n",
       "    <rect x=\"112\" y=\"47\" width=\"2242\" height=\"1440\"/>\n",
       "  </clipPath>\n",
       "</defs>\n",
       "<polyline clip-path=\"url(#clip472)\" style=\"stroke:#000000; stroke-linecap:round; stroke-linejoin:round; stroke-width:2; stroke-opacity:0.1; fill:none\" points=\"112.177,1486.45 112.177,47.2441 \"/>\n",
       "<polyline clip-path=\"url(#clip472)\" style=\"stroke:#000000; stroke-linecap:round; stroke-linejoin:round; stroke-width:2; stroke-opacity:0.1; fill:none\" points=\"672.322,1486.45 672.322,47.2441 \"/>\n",
       "<polyline clip-path=\"url(#clip472)\" style=\"stroke:#000000; stroke-linecap:round; stroke-linejoin:round; stroke-width:2; stroke-opacity:0.1; fill:none\" points=\"1232.47,1486.45 1232.47,47.2441 \"/>\n",
       "<polyline clip-path=\"url(#clip472)\" style=\"stroke:#000000; stroke-linecap:round; stroke-linejoin:round; stroke-width:2; stroke-opacity:0.1; fill:none\" points=\"1792.61,1486.45 1792.61,47.2441 \"/>\n",
       "<polyline clip-path=\"url(#clip472)\" style=\"stroke:#000000; stroke-linecap:round; stroke-linejoin:round; stroke-width:2; stroke-opacity:0.1; fill:none\" points=\"2352.76,1486.45 2352.76,47.2441 \"/>\n",
       "<polyline clip-path=\"url(#clip470)\" style=\"stroke:#000000; stroke-linecap:round; stroke-linejoin:round; stroke-width:4; stroke-opacity:1; fill:none\" points=\"112.177,1486.45 2352.76,1486.45 \"/>\n",
       "<polyline clip-path=\"url(#clip470)\" style=\"stroke:#000000; stroke-linecap:round; stroke-linejoin:round; stroke-width:4; stroke-opacity:1; fill:none\" points=\"112.177,1486.45 112.177,1467.55 \"/>\n",
       "<polyline clip-path=\"url(#clip470)\" style=\"stroke:#000000; stroke-linecap:round; stroke-linejoin:round; stroke-width:4; stroke-opacity:1; fill:none\" points=\"672.322,1486.45 672.322,1467.55 \"/>\n",
       "<polyline clip-path=\"url(#clip470)\" style=\"stroke:#000000; stroke-linecap:round; stroke-linejoin:round; stroke-width:4; stroke-opacity:1; fill:none\" points=\"1232.47,1486.45 1232.47,1467.55 \"/>\n",
       "<polyline clip-path=\"url(#clip470)\" style=\"stroke:#000000; stroke-linecap:round; stroke-linejoin:round; stroke-width:4; stroke-opacity:1; fill:none\" points=\"1792.61,1486.45 1792.61,1467.55 \"/>\n",
       "<polyline clip-path=\"url(#clip470)\" style=\"stroke:#000000; stroke-linecap:round; stroke-linejoin:round; stroke-width:4; stroke-opacity:1; fill:none\" points=\"2352.76,1486.45 2352.76,1467.55 \"/>\n",
       "<path clip-path=\"url(#clip470)\" d=\"M81.0778 1532.02 L110.754 1532.02 L110.754 1535.95 L81.0778 1535.95 L81.0778 1532.02 Z\" fill=\"#000000\" fill-rule=\"nonzero\" fill-opacity=\"1\" /><path clip-path=\"url(#clip470)\" d=\"M133.693 1518.36 L121.888 1536.81 L133.693 1536.81 L133.693 1518.36 M132.466 1514.29 L138.346 1514.29 L138.346 1536.81 L143.277 1536.81 L143.277 1540.7 L138.346 1540.7 L138.346 1548.85 L133.693 1548.85 L133.693 1540.7 L118.091 1540.7 L118.091 1536.19 L132.466 1514.29 Z\" fill=\"#000000\" fill-rule=\"nonzero\" fill-opacity=\"1\" /><path clip-path=\"url(#clip470)\" d=\"M642.264 1532.02 L671.94 1532.02 L671.94 1535.95 L642.264 1535.95 L642.264 1532.02 Z\" fill=\"#000000\" fill-rule=\"nonzero\" fill-opacity=\"1\" /><path clip-path=\"url(#clip470)\" d=\"M686.06 1544.91 L702.38 1544.91 L702.38 1548.85 L680.435 1548.85 L680.435 1544.91 Q683.097 1542.16 687.681 1537.53 Q692.287 1532.88 693.468 1531.53 Q695.713 1529.01 696.593 1527.27 Q697.495 1525.51 697.495 1523.82 Q697.495 1521.07 695.551 1519.33 Q693.63 1517.6 690.528 1517.6 Q688.329 1517.6 685.875 1518.36 Q683.444 1519.13 680.667 1520.68 L680.667 1515.95 Q683.491 1514.82 685.944 1514.24 Q688.398 1513.66 690.435 1513.66 Q695.806 1513.66 699 1516.35 Q702.194 1519.03 702.194 1523.52 Q702.194 1525.65 701.384 1527.57 Q700.597 1529.47 698.491 1532.07 Q697.912 1532.74 694.81 1535.95 Q691.708 1539.15 686.06 1544.91 Z\" fill=\"#000000\" fill-rule=\"nonzero\" fill-opacity=\"1\" /><path clip-path=\"url(#clip470)\" d=\"M1232.47 1517.37 Q1228.86 1517.37 1227.03 1520.93 Q1225.22 1524.47 1225.22 1531.6 Q1225.22 1538.71 1227.03 1542.27 Q1228.86 1545.82 1232.47 1545.82 Q1236.1 1545.82 1237.91 1542.27 Q1239.74 1538.71 1239.74 1531.6 Q1239.74 1524.47 1237.91 1520.93 Q1236.1 1517.37 1232.47 1517.37 M1232.47 1513.66 Q1238.28 1513.66 1241.33 1518.27 Q1244.41 1522.85 1244.41 1531.6 Q1244.41 1540.33 1241.33 1544.94 Q1238.28 1549.52 1232.47 1549.52 Q1226.66 1549.52 1223.58 1544.94 Q1220.52 1540.33 1220.52 1531.6 Q1220.52 1522.85 1223.58 1518.27 Q1226.66 1513.66 1232.47 1513.66 Z\" fill=\"#000000\" fill-rule=\"nonzero\" fill-opacity=\"1\" /><path clip-path=\"url(#clip470)\" d=\"M1787.26 1544.91 L1803.58 1544.91 L1803.58 1548.85 L1781.64 1548.85 L1781.64 1544.91 Q1784.3 1542.16 1788.88 1537.53 Q1793.49 1532.88 1794.67 1531.53 Q1796.92 1529.01 1797.8 1527.27 Q1798.7 1525.51 1798.7 1523.82 Q1798.7 1521.07 1796.75 1519.33 Q1794.83 1517.6 1791.73 1517.6 Q1789.53 1517.6 1787.08 1518.36 Q1784.65 1519.13 1781.87 1520.68 L1781.87 1515.95 Q1784.69 1514.82 1787.15 1514.24 Q1789.6 1513.66 1791.64 1513.66 Q1797.01 1513.66 1800.2 1516.35 Q1803.4 1519.03 1803.4 1523.52 Q1803.4 1525.65 1802.59 1527.57 Q1801.8 1529.47 1799.69 1532.07 Q1799.12 1532.74 1796.01 1535.95 Q1792.91 1539.15 1787.26 1544.91 Z\" fill=\"#000000\" fill-rule=\"nonzero\" fill-opacity=\"1\" /><path clip-path=\"url(#clip470)\" d=\"M2355.77 1518.36 L2343.96 1536.81 L2355.77 1536.81 L2355.77 1518.36 M2354.54 1514.29 L2360.42 1514.29 L2360.42 1536.81 L2365.35 1536.81 L2365.35 1540.7 L2360.42 1540.7 L2360.42 1548.85 L2355.77 1548.85 L2355.77 1540.7 L2340.16 1540.7 L2340.16 1536.19 L2354.54 1514.29 Z\" fill=\"#000000\" fill-rule=\"nonzero\" fill-opacity=\"1\" /><polyline clip-path=\"url(#clip472)\" style=\"stroke:#000000; stroke-linecap:round; stroke-linejoin:round; stroke-width:2; stroke-opacity:0.1; fill:none\" points=\"112.177,1445.72 2352.76,1445.72 \"/>\n",
       "<polyline clip-path=\"url(#clip472)\" style=\"stroke:#000000; stroke-linecap:round; stroke-linejoin:round; stroke-width:2; stroke-opacity:0.1; fill:none\" points=\"112.177,1206.18 2352.76,1206.18 \"/>\n",
       "<polyline clip-path=\"url(#clip472)\" style=\"stroke:#000000; stroke-linecap:round; stroke-linejoin:round; stroke-width:2; stroke-opacity:0.1; fill:none\" points=\"112.177,966.636 2352.76,966.636 \"/>\n",
       "<polyline clip-path=\"url(#clip472)\" style=\"stroke:#000000; stroke-linecap:round; stroke-linejoin:round; stroke-width:2; stroke-opacity:0.1; fill:none\" points=\"112.177,727.095 2352.76,727.095 \"/>\n",
       "<polyline clip-path=\"url(#clip472)\" style=\"stroke:#000000; stroke-linecap:round; stroke-linejoin:round; stroke-width:2; stroke-opacity:0.1; fill:none\" points=\"112.177,487.555 2352.76,487.555 \"/>\n",
       "<polyline clip-path=\"url(#clip472)\" style=\"stroke:#000000; stroke-linecap:round; stroke-linejoin:round; stroke-width:2; stroke-opacity:0.1; fill:none\" points=\"112.177,248.015 2352.76,248.015 \"/>\n",
       "<polyline clip-path=\"url(#clip470)\" style=\"stroke:#000000; stroke-linecap:round; stroke-linejoin:round; stroke-width:4; stroke-opacity:1; fill:none\" points=\"112.177,1486.45 112.177,47.2441 \"/>\n",
       "<polyline clip-path=\"url(#clip470)\" style=\"stroke:#000000; stroke-linecap:round; stroke-linejoin:round; stroke-width:4; stroke-opacity:1; fill:none\" points=\"112.177,1445.72 131.075,1445.72 \"/>\n",
       "<polyline clip-path=\"url(#clip470)\" style=\"stroke:#000000; stroke-linecap:round; stroke-linejoin:round; stroke-width:4; stroke-opacity:1; fill:none\" points=\"112.177,1206.18 131.075,1206.18 \"/>\n",
       "<polyline clip-path=\"url(#clip470)\" style=\"stroke:#000000; stroke-linecap:round; stroke-linejoin:round; stroke-width:4; stroke-opacity:1; fill:none\" points=\"112.177,966.636 131.075,966.636 \"/>\n",
       "<polyline clip-path=\"url(#clip470)\" style=\"stroke:#000000; stroke-linecap:round; stroke-linejoin:round; stroke-width:4; stroke-opacity:1; fill:none\" points=\"112.177,727.095 131.075,727.095 \"/>\n",
       "<polyline clip-path=\"url(#clip470)\" style=\"stroke:#000000; stroke-linecap:round; stroke-linejoin:round; stroke-width:4; stroke-opacity:1; fill:none\" points=\"112.177,487.555 131.075,487.555 \"/>\n",
       "<polyline clip-path=\"url(#clip470)\" style=\"stroke:#000000; stroke-linecap:round; stroke-linejoin:round; stroke-width:4; stroke-opacity:1; fill:none\" points=\"112.177,248.015 131.075,248.015 \"/>\n",
       "<path clip-path=\"url(#clip470)\" d=\"M64.2328 1431.51 Q60.6217 1431.51 58.793 1435.08 Q56.9875 1438.62 56.9875 1445.75 Q56.9875 1452.86 58.793 1456.42 Q60.6217 1459.96 64.2328 1459.96 Q67.867 1459.96 69.6726 1456.42 Q71.5013 1452.86 71.5013 1445.75 Q71.5013 1438.62 69.6726 1435.08 Q67.867 1431.51 64.2328 1431.51 M64.2328 1427.81 Q70.0429 1427.81 73.0985 1432.42 Q76.1772 1437 76.1772 1445.75 Q76.1772 1454.48 73.0985 1459.08 Q70.0429 1463.67 64.2328 1463.67 Q58.4226 1463.67 55.344 1459.08 Q52.2884 1454.48 52.2884 1445.75 Q52.2884 1437 55.344 1432.42 Q58.4226 1427.81 64.2328 1427.81 Z\" fill=\"#000000\" fill-rule=\"nonzero\" fill-opacity=\"1\" /><path clip-path=\"url(#clip470)\" d=\"M56.2699 1219.52 L63.9087 1219.52 L63.9087 1193.15 L55.5986 1194.82 L55.5986 1190.56 L63.8624 1188.9 L68.5383 1188.9 L68.5383 1219.52 L76.1772 1219.52 L76.1772 1223.46 L56.2699 1223.46 L56.2699 1219.52 Z\" fill=\"#000000\" fill-rule=\"nonzero\" fill-opacity=\"1\" /><path clip-path=\"url(#clip470)\" d=\"M59.8578 979.98 L76.1772 979.98 L76.1772 983.916 L54.2328 983.916 L54.2328 979.98 Q56.8949 977.226 61.4782 972.596 Q66.0846 967.943 67.2652 966.601 Q69.5105 964.078 70.3902 962.342 Q71.2929 960.582 71.2929 958.893 Q71.2929 956.138 69.3485 954.402 Q67.4272 952.666 64.3254 952.666 Q62.1263 952.666 59.6726 953.43 Q57.2421 954.193 54.4643 955.744 L54.4643 951.022 Q57.2884 949.888 59.7421 949.309 Q62.1958 948.731 64.2328 948.731 Q69.6031 948.731 72.7976 951.416 Q75.992 954.101 75.992 958.592 Q75.992 960.721 75.1818 962.643 Q74.3948 964.541 72.2883 967.133 Q71.7096 967.805 68.6078 971.022 Q65.5059 974.217 59.8578 979.98 Z\" fill=\"#000000\" fill-rule=\"nonzero\" fill-opacity=\"1\" /><path clip-path=\"url(#clip470)\" d=\"M69.0476 725.741 Q72.404 726.459 74.279 728.727 Q76.1772 730.996 76.1772 734.329 Q76.1772 739.445 72.6587 742.246 Q69.1402 745.047 62.6587 745.047 Q60.4828 745.047 58.168 744.607 Q55.8764 744.19 53.4227 743.334 L53.4227 738.82 Q55.3671 739.954 57.6819 740.533 Q59.9967 741.112 62.5198 741.112 Q66.918 741.112 69.2096 739.376 Q71.5244 737.639 71.5244 734.329 Q71.5244 731.274 69.3717 729.561 Q67.242 727.825 63.4226 727.825 L59.3949 727.825 L59.3949 723.982 L63.6078 723.982 Q67.0569 723.982 68.8855 722.616 Q70.7142 721.227 70.7142 718.635 Q70.7142 715.973 68.8161 714.561 Q66.9411 713.126 63.4226 713.126 Q61.5013 713.126 59.3023 713.542 Q57.1032 713.959 54.4643 714.839 L54.4643 710.672 Q57.1264 709.931 59.4412 709.561 Q61.7791 709.19 63.8393 709.19 Q69.1633 709.19 72.2652 711.621 Q75.367 714.028 75.367 718.149 Q75.367 721.019 73.7235 723.01 Q72.08 724.977 69.0476 725.741 Z\" fill=\"#000000\" fill-rule=\"nonzero\" fill-opacity=\"1\" /><path clip-path=\"url(#clip470)\" d=\"M66.5939 474.349 L54.7884 492.798 L66.5939 492.798 L66.5939 474.349 M65.367 470.275 L71.2466 470.275 L71.2466 492.798 L76.1772 492.798 L76.1772 496.687 L71.2466 496.687 L71.2466 504.835 L66.5939 504.835 L66.5939 496.687 L50.9921 496.687 L50.9921 492.173 L65.367 470.275 Z\" fill=\"#000000\" fill-rule=\"nonzero\" fill-opacity=\"1\" /><path clip-path=\"url(#clip470)\" d=\"M55.2745 230.735 L73.6309 230.735 L73.6309 234.671 L59.5569 234.671 L59.5569 243.143 Q60.5754 242.795 61.5939 242.633 Q62.6124 242.448 63.6309 242.448 Q69.418 242.448 72.7976 245.62 Q76.1772 248.791 76.1772 254.207 Q76.1772 259.786 72.705 262.888 Q69.2328 265.967 62.9134 265.967 Q60.7374 265.967 58.4689 265.596 Q56.2236 265.226 53.8162 264.485 L53.8162 259.786 Q55.8995 260.92 58.1217 261.476 Q60.3439 262.031 62.8208 262.031 Q66.8254 262.031 69.1633 259.925 Q71.5013 257.819 71.5013 254.207 Q71.5013 250.596 69.1633 248.49 Q66.8254 246.383 62.8208 246.383 Q60.9458 246.383 59.0708 246.8 Q57.2189 247.217 55.2745 248.096 L55.2745 230.735 Z\" fill=\"#000000\" fill-rule=\"nonzero\" fill-opacity=\"1\" /><path clip-path=\"url(#clip472)\" d=\"M1232.47 1206.18 L1232.47 1445.72 L1512.54 1445.72 L1512.54 1206.18 L1232.47 1206.18 L1232.47 1206.18  Z\" fill=\"#009af9\" fill-rule=\"evenodd\" fill-opacity=\"1\"/>\n",
       "<polyline clip-path=\"url(#clip472)\" style=\"stroke:#000000; stroke-linecap:round; stroke-linejoin:round; stroke-width:4; stroke-opacity:1; fill:none\" points=\"1232.47,1206.18 1232.47,1445.72 1512.54,1445.72 1512.54,1206.18 1232.47,1206.18 \"/>\n",
       "<circle clip-path=\"url(#clip472)\" style=\"fill:#009af9; stroke:none; fill-opacity:0\" cx=\"1372.5\" cy=\"1206.18\" r=\"2\"/>\n",
       "<polyline clip-path=\"url(#clip472)\" style=\"stroke:#ff0000; stroke-linecap:round; stroke-linejoin:round; stroke-width:16; stroke-opacity:1; fill:none\" points=\"1142.84,1438.08 1142.93,1438.08 1143.02,1438.08 1143.11,1438.08 1143.19,1438.08 1143.28,1438.07 1143.37,1438.07 1143.46,1438.07 1143.54,1438.07 1143.63,1438.06 1143.72,1438.06 1143.81,1438.05 1143.89,1438.05 1143.98,1438.04 1144.07,1438.04 1144.16,1438.03 1144.24,1438.03 1144.33,1438.02 1144.42,1438.01 1144.51,1438.01 1144.59,1438 1144.68,1437.99 1144.77,1437.98 1144.86,1437.97 1144.94,1437.96 1145.03,1437.96 1145.12,1437.95 1145.21,1437.93 1145.3,1437.92 1145.38,1437.91 1145.47,1437.9 1145.56,1437.89 1145.65,1437.88 1145.73,1437.86 1145.82,1437.85 1145.91,1437.84 1146,1437.82 1146.08,1437.81 1146.17,1437.79 1146.26,1437.78 1146.35,1437.76 1146.43,1437.75 1146.52,1437.73 1146.61,1437.72 1146.7,1437.7 1146.78,1437.68 1146.87,1437.66 1146.96,1437.64 1147.05,1437.63 1147.13,1437.61 1147.22,1437.59 1147.31,1437.57 1147.4,1437.55 1147.48,1437.53 1147.57,1437.51 1147.66,1437.48 1147.75,1437.46 1147.83,1437.44 1147.92,1437.42 1148.01,1437.39 1148.1,1437.37 1148.18,1437.35 1148.27,1437.32 1148.36,1437.3 1148.45,1437.27 1148.54,1437.25 1148.62,1437.22 1148.71,1437.19 1148.8,1437.17 1148.89,1437.14 1148.97,1437.11 1149.06,1437.08 1149.15,1437.05 1149.24,1437.02 1149.32,1436.99 1149.41,1436.96 1149.5,1436.93 1149.59,1436.9 1149.67,1436.87 1149.76,1436.84 1149.85,1436.81 1149.94,1436.78 1150.02,1436.74 1150.11,1436.71 1150.2,1436.68 1150.29,1436.64 1150.37,1436.61 1150.46,1436.57 1150.55,1436.53 1150.64,1436.5 1150.72,1436.46 1150.81,1436.42 1150.9,1436.39 1150.99,1436.35 1151.07,1436.31 1151.16,1436.27 1151.25,1436.23 1151.34,1436.19 1151.42,1436.15 1151.51,1436.11 1151.6,1436.07 1151.69,1436.03 1151.78,1435.98 1151.86,1435.94 1151.95,1435.9 1152.04,1435.85 1152.13,1435.81 1152.21,1435.77 1152.3,1435.72 1152.39,1435.67 1152.48,1435.63 1152.56,1435.58 1152.65,1435.53 1152.74,1435.49 1152.83,1435.44 1152.91,1435.39 1153,1435.34 1153.09,1435.29 1153.18,1435.24 1153.26,1435.19 1153.35,1435.14 1153.44,1435.08 1153.53,1435.03 1153.61,1434.98 1153.7,1434.92 1153.79,1434.87 1153.88,1434.82 1153.96,1434.76 1154.05,1434.71 1154.14,1434.65 1154.23,1434.59 1154.31,1434.53 1154.4,1434.48 1154.49,1434.42 1154.58,1434.36 1154.66,1434.3 1154.75,1434.24 1154.84,1434.18 1154.93,1434.12 1155.01,1434.05 1155.1,1433.99 1155.19,1433.93 1155.28,1433.87 1155.37,1433.8 1155.45,1433.74 1155.54,1433.67 1155.63,1433.6 1155.72,1433.54 1155.8,1433.47 1155.89,1433.4 1155.98,1433.33 1156.07,1433.27 1156.15,1433.2 1156.24,1433.13 1156.33,1433.05 1156.42,1432.98 1156.5,1432.91 1156.59,1432.84 1156.68,1432.76 1156.77,1432.69 1156.85,1432.62 1156.94,1432.54 1157.03,1432.46 1157.12,1432.39 1157.2,1432.31 1157.29,1432.23 1157.38,1432.15 1157.47,1432.07 1157.55,1431.99 1157.64,1431.91 1157.73,1431.83 1157.82,1431.75 1157.9,1431.67 1157.99,1431.58 1158.08,1431.5 1158.17,1431.41 1158.25,1431.33 1158.34,1431.24 1158.43,1431.15 1158.52,1431.07 1158.61,1430.98 1158.69,1430.89 1158.78,1430.8 1158.87,1430.71 1158.96,1430.62 1159.04,1430.52 1159.13,1430.43 1159.22,1430.34 1159.31,1430.24 1159.39,1430.15 1159.48,1430.05 1159.57,1429.95 1159.66,1429.86 1159.74,1429.76 1159.83,1429.66 1159.92,1429.56 1160.01,1429.46 1160.09,1429.36 1160.18,1429.25 1160.27,1429.15 1160.36,1429.05 1160.44,1428.94 1160.53,1428.84 1160.62,1428.73 1160.71,1428.62 1160.79,1428.51 1160.88,1428.41 1160.97,1428.3 1161.06,1428.18 1161.14,1428.07 1161.23,1427.96 1161.32,1427.85 1161.41,1427.73 1161.49,1427.62 1161.58,1427.5 1161.67,1427.39 1161.76,1427.27 1161.85,1427.15 1161.93,1427.03 1162.02,1426.91 1162.11,1426.79 1162.2,1426.66 1162.28,1426.54 1162.37,1426.42 1162.46,1426.29 1162.55,1426.17 1162.63,1426.04 1162.72,1425.91 1162.81,1425.78 1162.9,1425.65 1162.98,1425.52 1163.07,1425.39 1163.16,1425.25 1163.25,1425.12 1163.33,1424.99 1163.42,1424.85 1163.51,1424.71 1163.6,1424.57 1163.68,1424.43 1163.77,1424.29 1163.86,1424.15 1163.95,1424.01 1164.03,1423.87 1164.12,1423.72 1164.21,1423.58 1164.3,1423.43 1164.38,1423.28 1164.47,1423.13 1164.56,1422.98 1164.65,1422.83 1164.73,1422.68 1164.82,1422.53 1164.91,1422.37 1165,1422.22 1165.08,1422.06 1165.17,1421.9 1165.26,1421.74 1165.35,1421.58 1165.44,1421.42 1165.52,1421.26 1165.61,1421.09 1165.7,1420.93 1165.79,1420.76 1165.87,1420.6 1165.96,1420.43 1166.05,1420.26 1166.14,1420.09 1166.22,1419.91 1166.31,1419.74 1166.4,1419.56 1166.49,1419.39 1166.57,1419.21 1166.66,1419.03 1166.75,1418.85 1166.84,1418.67 1166.92,1418.49 1167.01,1418.3 1167.1,1418.12 1167.19,1417.93 1167.27,1417.74 1167.36,1417.55 1167.45,1417.36 1167.54,1417.17 1167.62,1416.98 1167.71,1416.78 1167.8,1416.58 1167.89,1416.39 1167.97,1416.19 1168.06,1415.99 1168.15,1415.78 1168.24,1415.58 1168.32,1415.38 1168.41,1415.17 1168.5,1414.96 1168.59,1414.75 1168.68,1414.54 1168.76,1414.33 1168.85,1414.11 1168.94,1413.9 1169.03,1413.68 1169.11,1413.46 1169.2,1413.24 1169.29,1413.02 1169.38,1412.8 1169.46,1412.57 1169.55,1412.34 1169.64,1412.12 1169.73,1411.89 1169.81,1411.65 1169.9,1411.42 1169.99,1411.19 1170.08,1410.95 1170.16,1410.71 1170.25,1410.47 1170.34,1410.23 1170.43,1409.99 1170.51,1409.74 1170.6,1409.5 1170.69,1409.25 1170.78,1409 1170.86,1408.74 1170.95,1408.49 1171.04,1408.23 1171.13,1407.98 1171.21,1407.72 1171.3,1407.46 1171.39,1407.19 1171.48,1406.93 1171.56,1406.66 1171.65,1406.39 1171.74,1406.12 1171.83,1405.85 1171.92,1405.58 1172,1405.3 1172.09,1405.02 1172.18,1404.74 1172.27,1404.46 1172.35,1404.18 1172.44,1403.89 1172.53,1403.6 1172.62,1403.31 1172.7,1403.02 1172.79,1402.73 1172.88,1402.43 1172.97,1402.13 1173.05,1401.83 1173.14,1401.53 1173.23,1401.22 1173.32,1400.92 1173.4,1400.61 1173.49,1400.3 1173.58,1399.98 1173.67,1399.67 1173.75,1399.35 1173.84,1399.03 1173.93,1398.71 1174.02,1398.39 1174.1,1398.06 1174.19,1397.73 1174.28,1397.4 1174.37,1397.07 1174.45,1396.73 1174.54,1396.39 1174.63,1396.05 1174.72,1395.71 1174.8,1395.36 1174.89,1395.02 1174.98,1394.67 1175.07,1394.31 1175.16,1393.96 1175.24,1393.6 1175.33,1393.24 1175.42,1392.88 1175.51,1392.52 1175.59,1392.15 1175.68,1391.78 1175.77,1391.41 1175.86,1391.03 1175.94,1390.65 1176.03,1390.27 1176.12,1389.89 1176.21,1389.51 1176.29,1389.12 1176.38,1388.73 1176.47,1388.34 1176.56,1387.94 1176.64,1387.54 1176.73,1387.14 1176.82,1386.73 1176.91,1386.33 1176.99,1385.92 1177.08,1385.51 1177.17,1385.09 1177.26,1384.67 1177.34,1384.25 1177.43,1383.83 1177.52,1383.4 1177.61,1382.97 1177.69,1382.54 1177.78,1382.1 1177.87,1381.66 1177.96,1381.22 1178.04,1380.78 1178.13,1380.33 1178.22,1379.88 1178.31,1379.43 1178.39,1378.97 1178.48,1378.51 1178.57,1378.05 1178.66,1377.58 1178.75,1377.11 1178.83,1376.64 1178.92,1376.16 1179.01,1375.68 1179.1,1375.2 1179.18,1374.71 1179.27,1374.23 1179.36,1373.73 1179.45,1373.24 1179.53,1372.74 1179.62,1372.24 1179.71,1371.73 1179.8,1371.22 1179.88,1370.71 1179.97,1370.19 1180.06,1369.67 1180.15,1369.15 1180.23,1368.63 1180.32,1368.1 1180.41,1367.56 1180.5,1367.02 1180.58,1366.48 1180.67,1365.94 1180.76,1365.39 1180.85,1364.84 1180.93,1364.28 1181.02,1363.73 1181.11,1363.16 1181.2,1362.6 1181.28,1362.03 1181.37,1361.45 1181.46,1360.87 1181.55,1360.29 1181.63,1359.71 1181.72,1359.12 1181.81,1358.52 1181.9,1357.92 1181.99,1357.32 1182.07,1356.72 1182.16,1356.11 1182.25,1355.49 1182.34,1354.88 1182.42,1354.25 1182.51,1353.63 1182.6,1353 1182.69,1352.36 1182.77,1351.72 1182.86,1351.08 1182.95,1350.43 1183.04,1349.78 1183.12,1349.13 1183.21,1348.47 1183.3,1347.8 1183.39,1347.13 1183.47,1346.46 1183.56,1345.78 1183.65,1345.1 1183.74,1344.41 1183.82,1343.72 1183.91,1343.03 1184,1342.33 1184.09,1341.62 1184.17,1340.91 1184.26,1340.2 1184.35,1339.48 1184.44,1338.76 1184.52,1338.03 1184.61,1337.29 1184.7,1336.56 1184.79,1335.81 1184.87,1335.07 1184.96,1334.31 1185.05,1333.56 1185.14,1332.79 1185.23,1332.03 1185.31,1331.26 1185.4,1330.48 1185.49,1329.7 1185.58,1328.91 1185.66,1328.12 1185.75,1327.32 1185.84,1326.52 1185.93,1325.71 1186.01,1324.89 1186.1,1324.08 1186.19,1323.25 1186.28,1322.42 1186.36,1321.59 1186.45,1320.75 1186.54,1319.9 1186.63,1319.05 1186.71,1318.2 1186.8,1317.33 1186.89,1316.47 1186.98,1315.59 1187.06,1314.72 1187.15,1313.83 1187.24,1312.94 1187.33,1312.05 1187.41,1311.15 1187.5,1310.24 1187.59,1309.33 1187.68,1308.41 1187.76,1307.48 1187.85,1306.55 1187.94,1305.62 1188.03,1304.67 1188.11,1303.73 1188.2,1302.77 1188.29,1301.81 1188.38,1300.85 1188.46,1299.87 1188.55,1298.89 1188.64,1297.91 1188.73,1296.92 1188.82,1295.92 1188.9,1294.92 1188.99,1293.91 1189.08,1292.89 1189.17,1291.87 1189.25,1290.84 1189.34,1289.81 1189.43,1288.76 1189.52,1287.72 1189.6,1286.66 1189.69,1285.6 1189.78,1284.53 1189.87,1283.46 1189.95,1282.37 1190.04,1281.29 1190.13,1280.19 1190.22,1279.09 1190.3,1277.98 1190.39,1276.87 1190.48,1275.74 1190.57,1274.61 1190.65,1273.48 1190.74,1272.33 1190.83,1271.18 1190.92,1270.03 1191,1268.86 1191.09,1267.69 1191.18,1266.51 1191.27,1265.32 1191.35,1264.13 1191.44,1262.93 1191.53,1261.72 1191.62,1260.51 1191.7,1259.28 1191.79,1258.05 1191.88,1256.82 1191.97,1255.57 1192.06,1254.32 1192.14,1253.06 1192.23,1251.79 1192.32,1250.51 1192.41,1249.23 1192.49,1247.94 1192.58,1246.64 1192.67,1245.33 1192.76,1244.02 1192.84,1242.7 1192.93,1241.37 1193.02,1240.03 1193.11,1238.68 1193.19,1237.33 1193.28,1235.97 1193.37,1234.6 1193.46,1233.22 1193.54,1231.83 1193.63,1230.44 1193.72,1229.03 1193.81,1227.62 1193.89,1226.2 1193.98,1224.77 1194.07,1223.34 1194.16,1221.89 1194.24,1220.44 1194.33,1218.98 1194.42,1217.51 1194.51,1216.03 1194.59,1214.54 1194.68,1213.04 1194.77,1211.54 1194.86,1210.02 1194.94,1208.5 1195.03,1206.97 1195.12,1205.43 1195.21,1203.88 1195.3,1202.32 1195.38,1200.76 1195.47,1199.18 1195.56,1197.6 1195.65,1196 1195.73,1194.4 1195.82,1192.79 1195.91,1191.17 1196,1189.54 1196.08,1187.9 1196.17,1186.25 1196.26,1184.59 1196.35,1182.92 1196.43,1181.24 1196.52,1179.56 1196.61,1177.86 1196.7,1176.16 1196.78,1174.44 1196.87,1172.72 1196.96,1170.98 1197.05,1169.24 1197.13,1167.49 1197.22,1165.72 1197.31,1163.95 1197.4,1162.17 1197.48,1160.38 1197.57,1158.58 1197.66,1156.76 1197.75,1154.94 1197.83,1153.11 1197.92,1151.27 1198.01,1149.42 1198.1,1147.56 1198.18,1145.68 1198.27,1143.8 1198.36,1141.91 1198.45,1140.01 1198.53,1138.1 1198.62,1136.17 1198.71,1134.24 1198.8,1132.3 1198.89,1130.35 1198.97,1128.38 1199.06,1126.41 1199.15,1124.43 1199.24,1122.43 1199.32,1120.43 1199.41,1118.41 1199.5,1116.38 1199.59,1114.35 1199.67,1112.3 1199.76,1110.24 1199.85,1108.17 1199.94,1106.1 1200.02,1104.01 1200.11,1101.91 1200.2,1099.79 1200.29,1097.67 1200.37,1095.54 1200.46,1093.4 1200.55,1091.24 1200.64,1089.08 1200.72,1086.9 1200.81,1084.72 1200.9,1082.52 1200.99,1080.31 1201.07,1078.09 1201.16,1075.86 1201.25,1073.62 1201.34,1071.37 1201.42,1069.1 1201.51,1066.83 1201.6,1064.54 1201.69,1062.25 1201.77,1059.94 1201.86,1057.62 1201.95,1055.29 1202.04,1052.95 1202.13,1050.59 1202.21,1048.23 1202.3,1045.86 1202.39,1043.47 1202.48,1041.07 1202.56,1038.66 1202.65,1036.25 1202.74,1033.81 1202.83,1031.37 1202.91,1028.92 1203,1026.45 1203.09,1023.98 1203.18,1021.49 1203.26,1018.99 1203.35,1016.48 1203.44,1013.96 1203.53,1011.43 1203.61,1008.88 1203.7,1006.33 1203.79,1003.76 1203.88,1001.18 1203.96,998.592 1204.05,995.991 1204.14,993.378 1204.23,990.754 1204.31,988.119 1204.4,985.473 1204.49,982.815 1204.58,980.146 1204.66,977.465 1204.75,974.773 1204.84,972.07 1204.93,969.355 1205.01,966.629 1205.1,963.892 1205.19,961.143 1205.28,958.383 1205.37,955.612 1205.45,952.829 1205.54,950.035 1205.63,947.23 1205.72,944.414 1205.8,941.586 1205.89,938.747 1205.98,935.897 1206.07,933.036 1206.15,930.163 1206.24,927.28 1206.33,924.385 1206.42,921.479 1206.5,918.562 1206.59,915.634 1206.68,912.695 1206.77,909.745 1206.85,906.784 1206.94,903.812 1207.03,900.829 1207.12,897.836 1207.2,894.831 1207.29,891.815 1207.38,888.789 1207.47,885.752 1207.55,882.704 1207.64,879.646 1207.73,876.577 1207.82,873.497 1207.9,870.407 1207.99,867.306 1208.08,864.194 1208.17,861.072 1208.25,857.94 1208.34,854.798 1208.43,851.645 1208.52,848.482 1208.6,845.308 1208.69,842.125 1208.78,838.931 1208.87,835.727 1208.96,832.514 1209.04,829.29 1209.13,826.057 1209.22,822.813 1209.31,819.56 1209.39,816.297 1209.48,813.025 1209.57,809.743 1209.66,806.452 1209.74,803.151 1209.83,799.84 1209.92,796.521 1210.01,793.192 1210.09,789.854 1210.18,786.507 1210.27,783.151 1210.36,779.786 1210.44,776.412 1210.53,773.03 1210.62,769.638 1210.71,766.238 1210.79,762.83 1210.88,759.413 1210.97,755.988 1211.06,752.555 1211.14,749.113 1211.23,745.664 1211.32,742.206 1211.41,738.74 1211.49,735.267 1211.58,731.786 1211.67,728.298 1211.76,724.802 1211.84,721.298 1211.93,717.788 1212.02,714.27 1212.11,710.745 1212.2,707.213 1212.28,703.675 1212.37,700.129 1212.46,696.577 1212.55,693.019 1212.63,689.454 1212.72,685.883 1212.81,682.306 1212.9,678.723 1212.98,675.134 1213.07,671.539 1213.16,667.938 1213.25,664.332 1213.33,660.721 1213.42,657.104 1213.51,653.483 1213.6,649.856 1213.68,646.225 1213.77,642.588 1213.86,638.948 1213.95,635.303 1214.03,631.653 1214.12,628 1214.21,624.342 1214.3,620.681 1214.38,617.016 1214.47,613.347 1214.56,609.676 1214.65,606.001 1214.73,602.322 1214.82,598.641 1214.91,594.958 1215,591.271 1215.08,587.583 1215.17,583.892 1215.26,580.199 1215.35,576.504 1215.44,572.807 1215.52,569.109 1215.61,565.409 1215.7,561.708 1215.79,558.006 1215.87,554.304 1215.96,550.6 1216.05,546.896 1216.14,543.192 1216.22,539.488 1216.31,535.783 1216.4,532.079 1216.49,528.376 1216.57,524.673 1216.66,520.97 1216.75,517.269 1216.84,513.569 1216.92,509.871 1217.01,506.173 1217.1,502.478 1217.19,498.785 1217.27,495.094 1217.36,491.405 1217.45,487.719 1217.54,484.036 1217.62,480.356 1217.71,476.679 1217.8,473.005 1217.89,469.335 1217.97,465.669 1218.06,462.007 1218.15,458.35 1218.24,454.696 1218.32,451.048 1218.41,447.404 1218.5,443.766 1218.59,440.133 1218.67,436.506 1218.76,432.884 1218.85,429.269 1218.94,425.659 1219.03,422.057 1219.11,418.461 1219.2,414.872 1219.29,411.29 1219.38,407.716 1219.46,404.149 1219.55,400.59 1219.64,397.039 1219.73,393.497 1219.81,389.963 1219.9,386.438 1219.99,382.922 1220.08,379.415 1220.16,375.918 1220.25,372.431 1220.34,368.954 1220.43,365.487 1220.51,362.03 1220.6,358.584 1220.69,355.15 1220.78,351.726 1220.86,348.314 1220.95,344.914 1221.04,341.525 1221.13,338.149 1221.21,334.785 1221.3,331.434 1221.39,328.096 1221.48,324.771 1221.56,321.459 1221.65,318.161 1221.74,314.877 1221.83,311.607 1221.91,308.352 1222,305.111 1222.09,301.885 1222.18,298.675 1222.27,295.48 1222.35,292.3 1222.44,289.136 1222.53,285.989 1222.62,282.857 1222.7,279.743 1222.79,276.645 1222.88,273.565 1222.97,270.501 1223.05,267.456 1223.14,264.428 1223.23,261.418 1223.32,258.427 1223.4,255.454 1223.49,252.501 1223.58,249.566 1223.67,246.65 1223.75,243.755 1223.84,240.879 1223.93,238.023 1224.02,235.187 1224.1,232.372 1224.19,229.577 1224.28,226.804 1224.37,224.051 1224.45,221.321 1224.54,218.612 1224.63,215.924 1224.72,213.259 1224.8,210.617 1224.89,207.997 1224.98,205.4 1225.07,202.826 1225.15,200.275 1225.24,197.748 1225.33,195.244 1225.42,192.765 1225.51,190.31 1225.59,187.879 1225.68,185.472 1225.77,183.091 1225.86,180.735 1225.94,178.403 1226.03,176.098 1226.12,173.818 1226.21,171.564 1226.29,169.336 1226.38,167.134 1226.47,164.959 1226.56,162.811 1226.64,160.689 1226.73,158.595 1226.82,156.527 1226.91,154.488 1226.99,152.476 1227.08,150.492 1227.17,148.535 1227.26,146.608 1227.34,144.708 1227.43,142.837 1227.52,140.995 1227.61,139.182 1227.69,137.398 1227.78,135.643 1227.87,133.918 1227.96,132.222 1228.04,130.556 1228.13,128.92 1228.22,127.314 1228.31,125.738 1228.39,124.193 1228.48,122.678 1228.57,121.194 1228.66,119.741 1228.75,118.319 1228.83,116.928 1228.92,115.568 1229.01,114.239 1229.1,112.942 1229.18,111.677 1229.27,110.443 1229.36,109.242 1229.45,108.072 1229.53,106.934 1229.62,105.829 1229.71,104.756 1229.8,103.715 1229.88,102.707 1229.97,101.732 1230.06,100.789 1230.15,99.8793 1230.23,99.0024 1230.32,98.1585 1230.41,97.3477 1230.5,96.57 1230.58,95.8256 1230.67,95.1145 1230.76,94.4369 1230.85,93.7927 1230.93,93.182 1231.02,92.6049 1231.11,92.0614 1231.2,91.5517 1231.28,91.0757 1231.37,90.6335 1231.46,90.2251 1231.55,89.8507 1231.63,89.5101 1231.72,89.2035 1231.81,88.9309 1231.9,88.6924 1231.98,88.4878 1232.07,88.3173 1232.16,88.1809 1232.25,88.0786 1232.34,88.0104 1232.42,87.9763 1232.51,87.9763 1232.6,88.0104 1232.69,88.0786 1232.77,88.1809 1232.86,88.3173 1232.95,88.4878 1233.04,88.6924 1233.12,88.9309 1233.21,89.2035 1233.3,89.5101 1233.39,89.8507 1233.47,90.2251 1233.56,90.6335 1233.65,91.0757 1233.74,91.5517 1233.82,92.0614 1233.91,92.6049 1234,93.182 1234.09,93.7927 1234.17,94.4369 1234.26,95.1145 1234.35,95.8256 1234.44,96.57 1234.52,97.3477 1234.61,98.1585 1234.7,99.0024 1234.79,99.8793 1234.87,100.789 1234.96,101.732 1235.05,102.707 1235.14,103.715 1235.22,104.756 1235.31,105.829 1235.4,106.934 1235.49,108.072 1235.58,109.242 1235.66,110.443 1235.75,111.677 1235.84,112.942 1235.93,114.239 1236.01,115.568 1236.1,116.928 1236.19,118.319 1236.28,119.741 1236.36,121.194 1236.45,122.678 1236.54,124.193 1236.63,125.738 1236.71,127.314 1236.8,128.92 1236.89,130.556 1236.98,132.222 1237.06,133.918 1237.15,135.643 1237.24,137.398 1237.33,139.182 1237.41,140.995 1237.5,142.837 1237.59,144.708 1237.68,146.608 1237.76,148.535 1237.85,150.492 1237.94,152.476 1238.03,154.488 1238.11,156.527 1238.2,158.595 1238.29,160.689 1238.38,162.811 1238.46,164.959 1238.55,167.134 1238.64,169.336 1238.73,171.564 1238.82,173.818 1238.9,176.098 1238.99,178.403 1239.08,180.735 1239.17,183.091 1239.25,185.472 1239.34,187.879 1239.43,190.31 1239.52,192.765 1239.6,195.244 1239.69,197.748 1239.78,200.275 1239.87,202.826 1239.95,205.4 1240.04,207.997 1240.13,210.617 1240.22,213.259 1240.3,215.924 1240.39,218.612 1240.48,221.321 1240.57,224.051 1240.65,226.804 1240.74,229.577 1240.83,232.372 1240.92,235.187 1241,238.023 1241.09,240.879 1241.18,243.755 1241.27,246.65 1241.35,249.566 1241.44,252.501 1241.53,255.454 1241.62,258.427 1241.7,261.418 1241.79,264.428 1241.88,267.456 1241.97,270.501 1242.05,273.565 1242.14,276.645 1242.23,279.743 1242.32,282.857 1242.41,285.989 1242.49,289.136 1242.58,292.3 1242.67,295.48 1242.76,298.675 1242.84,301.885 1242.93,305.111 1243.02,308.352 1243.11,311.607 1243.19,314.877 1243.28,318.161 1243.37,321.459 1243.46,324.771 1243.54,328.096 1243.63,331.434 1243.72,334.785 1243.81,338.149 1243.89,341.525 1243.98,344.914 1244.07,348.314 1244.16,351.726 1244.24,355.15 1244.33,358.584 1244.42,362.03 1244.51,365.487 1244.59,368.954 1244.68,372.431 1244.77,375.918 1244.86,379.415 1244.94,382.922 1245.03,386.438 1245.12,389.963 1245.21,393.497 1245.29,397.039 1245.38,400.59 1245.47,404.149 1245.56,407.716 1245.65,411.29 1245.73,414.872 1245.82,418.461 1245.91,422.057 1246,425.659 1246.08,429.269 1246.17,432.884 1246.26,436.506 1246.35,440.133 1246.43,443.766 1246.52,447.404 1246.61,451.048 1246.7,454.696 1246.78,458.35 1246.87,462.007 1246.96,465.669 1247.05,469.335 1247.13,473.005 1247.22,476.679 1247.31,480.356 1247.4,484.036 1247.48,487.719 1247.57,491.405 1247.66,495.094 1247.75,498.785 1247.83,502.478 1247.92,506.173 1248.01,509.871 1248.1,513.569 1248.18,517.269 1248.27,520.97 1248.36,524.673 1248.45,528.376 1248.53,532.079 1248.62,535.783 1248.71,539.488 1248.8,543.192 1248.89,546.896 1248.97,550.6 1249.06,554.304 1249.15,558.006 1249.24,561.708 1249.32,565.409 1249.41,569.109 1249.5,572.807 1249.59,576.504 1249.67,580.199 1249.76,583.892 1249.85,587.583 1249.94,591.271 1250.02,594.958 1250.11,598.641 1250.2,602.322 1250.29,606.001 1250.37,609.676 1250.46,613.347 1250.55,617.016 1250.64,620.681 1250.72,624.342 1250.81,628 1250.9,631.653 1250.99,635.303 1251.07,638.948 1251.16,642.588 1251.25,646.225 1251.34,649.856 1251.42,653.483 1251.51,657.104 1251.6,660.721 1251.69,664.332 1251.77,667.938 1251.86,671.539 1251.95,675.134 1252.04,678.723 1252.12,682.306 1252.21,685.883 1252.3,689.454 1252.39,693.019 1252.48,696.577 1252.56,700.129 1252.65,703.675 1252.74,707.213 1252.83,710.745 1252.91,714.27 1253,717.788 1253.09,721.298 1253.18,724.802 1253.26,728.298 1253.35,731.786 1253.44,735.267 1253.53,738.74 1253.61,742.206 1253.7,745.664 1253.79,749.113 1253.88,752.555 1253.96,755.988 1254.05,759.413 1254.14,762.83 1254.23,766.238 1254.31,769.638 1254.4,773.03 1254.49,776.412 1254.58,779.786 1254.66,783.151 1254.75,786.507 1254.84,789.854 1254.93,793.192 1255.01,796.521 1255.1,799.84 1255.19,803.151 1255.28,806.452 1255.36,809.743 1255.45,813.025 1255.54,816.297 1255.63,819.56 1255.72,822.813 1255.8,826.057 1255.89,829.29 1255.98,832.514 1256.07,835.727 1256.15,838.931 1256.24,842.125 1256.33,845.308 1256.42,848.482 1256.5,851.645 1256.59,854.798 1256.68,857.94 1256.77,861.072 1256.85,864.194 1256.94,867.306 1257.03,870.407 1257.12,873.497 1257.2,876.577 1257.29,879.646 1257.38,882.704 1257.47,885.752 1257.55,888.789 1257.64,891.815 1257.73,894.831 1257.82,897.836 1257.9,900.829 1257.99,903.812 1258.08,906.784 1258.17,909.745 1258.25,912.695 1258.34,915.634 1258.43,918.562 1258.52,921.479 1258.6,924.385 1258.69,927.28 1258.78,930.163 1258.87,933.036 1258.96,935.897 1259.04,938.747 1259.13,941.586 1259.22,944.414 1259.31,947.23 1259.39,950.035 1259.48,952.829 1259.57,955.612 1259.66,958.383 1259.74,961.143 1259.83,963.892 1259.92,966.629 1260.01,969.355 1260.09,972.07 1260.18,974.773 1260.27,977.465 1260.36,980.146 1260.44,982.815 1260.53,985.473 1260.62,988.119 1260.71,990.754 1260.79,993.378 1260.88,995.991 1260.97,998.592 1261.06,1001.18 1261.14,1003.76 1261.23,1006.33 1261.32,1008.88 1261.41,1011.43 1261.49,1013.96 1261.58,1016.48 1261.67,1018.99 1261.76,1021.49 1261.84,1023.98 1261.93,1026.45 1262.02,1028.92 1262.11,1031.37 1262.19,1033.81 1262.28,1036.25 1262.37,1038.66 1262.46,1041.07 1262.55,1043.47 1262.63,1045.86 1262.72,1048.23 1262.81,1050.59 1262.9,1052.95 1262.98,1055.29 1263.07,1057.62 1263.16,1059.94 1263.25,1062.25 1263.33,1064.54 1263.42,1066.83 1263.51,1069.1 1263.6,1071.37 1263.68,1073.62 1263.77,1075.86 1263.86,1078.09 1263.95,1080.31 1264.03,1082.52 1264.12,1084.72 1264.21,1086.9 1264.3,1089.08 1264.38,1091.24 1264.47,1093.4 1264.56,1095.54 1264.65,1097.67 1264.73,1099.79 1264.82,1101.91 1264.91,1104.01 1265,1106.1 1265.08,1108.17 1265.17,1110.24 1265.26,1112.3 1265.35,1114.35 1265.43,1116.38 1265.52,1118.41 1265.61,1120.43 1265.7,1122.43 1265.79,1124.43 1265.87,1126.41 1265.96,1128.38 1266.05,1130.35 1266.14,1132.3 1266.22,1134.24 1266.31,1136.17 1266.4,1138.1 1266.49,1140.01 1266.57,1141.91 1266.66,1143.8 1266.75,1145.68 1266.84,1147.56 1266.92,1149.42 1267.01,1151.27 1267.1,1153.11 1267.19,1154.94 1267.27,1156.76 1267.36,1158.58 1267.45,1160.38 1267.54,1162.17 1267.62,1163.95 1267.71,1165.72 1267.8,1167.49 1267.89,1169.24 1267.97,1170.98 1268.06,1172.72 1268.15,1174.44 1268.24,1176.16 1268.32,1177.86 1268.41,1179.56 1268.5,1181.24 1268.59,1182.92 1268.67,1184.59 1268.76,1186.25 1268.85,1187.9 1268.94,1189.54 1269.03,1191.17 1269.11,1192.79 1269.2,1194.4 1269.29,1196 1269.38,1197.6 1269.46,1199.18 1269.55,1200.76 1269.64,1202.32 1269.73,1203.88 1269.81,1205.43 1269.9,1206.97 1269.99,1208.5 1270.08,1210.02 1270.16,1211.54 1270.25,1213.04 1270.34,1214.54 1270.43,1216.03 1270.51,1217.51 1270.6,1218.98 1270.69,1220.44 1270.78,1221.89 1270.86,1223.34 1270.95,1224.77 1271.04,1226.2 1271.13,1227.62 1271.21,1229.03 1271.3,1230.44 1271.39,1231.83 1271.48,1233.22 1271.56,1234.6 1271.65,1235.97 1271.74,1237.33 1271.83,1238.68 1271.91,1240.03 1272,1241.37 1272.09,1242.7 1272.18,1244.02 1272.26,1245.33 1272.35,1246.64 1272.44,1247.94 1272.53,1249.23 1272.62,1250.51 1272.7,1251.79 1272.79,1253.06 1272.88,1254.32 1272.97,1255.57 1273.05,1256.82 1273.14,1258.05 1273.23,1259.28 1273.32,1260.51 1273.4,1261.72 1273.49,1262.93 1273.58,1264.13 1273.67,1265.32 1273.75,1266.51 1273.84,1267.69 1273.93,1268.86 1274.02,1270.03 1274.1,1271.18 1274.19,1272.33 1274.28,1273.48 1274.37,1274.61 1274.45,1275.74 1274.54,1276.87 1274.63,1277.98 1274.72,1279.09 1274.8,1280.19 1274.89,1281.29 1274.98,1282.37 1275.07,1283.46 1275.15,1284.53 1275.24,1285.6 1275.33,1286.66 1275.42,1287.72 1275.5,1288.76 1275.59,1289.81 1275.68,1290.84 1275.77,1291.87 1275.86,1292.89 1275.94,1293.91 1276.03,1294.92 1276.12,1295.92 1276.21,1296.92 1276.29,1297.91 1276.38,1298.89 1276.47,1299.87 1276.56,1300.85 1276.64,1301.81 1276.73,1302.77 1276.82,1303.73 1276.91,1304.67 1276.99,1305.62 1277.08,1306.55 1277.17,1307.48 1277.26,1308.41 1277.34,1309.33 1277.43,1310.24 1277.52,1311.15 1277.61,1312.05 1277.69,1312.94 1277.78,1313.83 1277.87,1314.72 1277.96,1315.59 1278.04,1316.47 1278.13,1317.33 1278.22,1318.2 1278.31,1319.05 1278.39,1319.9 1278.48,1320.75 1278.57,1321.59 1278.66,1322.42 1278.74,1323.25 1278.83,1324.08 1278.92,1324.89 1279.01,1325.71 1279.1,1326.52 1279.18,1327.32 1279.27,1328.12 1279.36,1328.91 1279.45,1329.7 1279.53,1330.48 1279.62,1331.26 1279.71,1332.03 1279.8,1332.79 1279.88,1333.56 1279.97,1334.31 1280.06,1335.07 1280.15,1335.81 1280.23,1336.56 1280.32,1337.29 1280.41,1338.03 1280.5,1338.76 1280.58,1339.48 1280.67,1340.2 1280.76,1340.91 1280.85,1341.62 1280.93,1342.33 1281.02,1343.03 1281.11,1343.72 1281.2,1344.41 1281.28,1345.1 1281.37,1345.78 1281.46,1346.46 1281.55,1347.13 1281.63,1347.8 1281.72,1348.47 1281.81,1349.13 1281.9,1349.78 1281.98,1350.43 1282.07,1351.08 1282.16,1351.72 1282.25,1352.36 1282.34,1353 1282.42,1353.63 1282.51,1354.25 1282.6,1354.88 1282.69,1355.49 1282.77,1356.11 1282.86,1356.72 1282.95,1357.32 1283.04,1357.92 1283.12,1358.52 1283.21,1359.12 1283.3,1359.71 1283.39,1360.29 1283.47,1360.87 1283.56,1361.45 1283.65,1362.03 1283.74,1362.6 1283.82,1363.16 1283.91,1363.73 1284,1364.28 1284.09,1364.84 1284.17,1365.39 1284.26,1365.94 1284.35,1366.48 1284.44,1367.02 1284.52,1367.56 1284.61,1368.1 1284.7,1368.63 1284.79,1369.15 1284.87,1369.67 1284.96,1370.19 1285.05,1370.71 1285.14,1371.22 1285.22,1371.73 1285.31,1372.24 1285.4,1372.74 1285.49,1373.24 1285.57,1373.73 1285.66,1374.23 1285.75,1374.71 1285.84,1375.2 1285.93,1375.68 1286.01,1376.16 1286.1,1376.64 1286.19,1377.11 1286.28,1377.58 1286.36,1378.05 1286.45,1378.51 1286.54,1378.97 1286.63,1379.43 1286.71,1379.88 1286.8,1380.33 1286.89,1380.78 1286.98,1381.22 1287.06,1381.66 1287.15,1382.1 1287.24,1382.54 1287.33,1382.97 1287.41,1383.4 1287.5,1383.83 1287.59,1384.25 1287.68,1384.67 1287.76,1385.09 1287.85,1385.51 1287.94,1385.92 1288.03,1386.33 1288.11,1386.73 1288.2,1387.14 1288.29,1387.54 1288.38,1387.94 1288.46,1388.34 1288.55,1388.73 1288.64,1389.12 1288.73,1389.51 1288.81,1389.89 1288.9,1390.27 1288.99,1390.65 1289.08,1391.03 1289.17,1391.41 1289.25,1391.78 1289.34,1392.15 1289.43,1392.52 1289.52,1392.88 1289.6,1393.24 1289.69,1393.6 1289.78,1393.96 1289.87,1394.31 1289.95,1394.67 1290.04,1395.02 1290.13,1395.36 1290.22,1395.71 1290.3,1396.05 1290.39,1396.39 1290.48,1396.73 1290.57,1397.07 1290.65,1397.4 1290.74,1397.73 1290.83,1398.06 1290.92,1398.39 1291,1398.71 1291.09,1399.03 1291.18,1399.35 1291.27,1399.67 1291.35,1399.98 1291.44,1400.3 1291.53,1400.61 1291.62,1400.92 1291.7,1401.22 1291.79,1401.53 1291.88,1401.83 1291.97,1402.13 1292.05,1402.43 1292.14,1402.73 1292.23,1403.02 1292.32,1403.31 1292.41,1403.6 1292.49,1403.89 1292.58,1404.18 1292.67,1404.46 1292.76,1404.74 1292.84,1405.02 1292.93,1405.3 1293.02,1405.58 1293.11,1405.85 1293.19,1406.12 1293.28,1406.39 1293.37,1406.66 1293.46,1406.93 1293.54,1407.19 1293.63,1407.46 1293.72,1407.72 1293.81,1407.98 1293.89,1408.23 1293.98,1408.49 1294.07,1408.74 1294.16,1409 1294.24,1409.25 1294.33,1409.5 1294.42,1409.74 1294.51,1409.99 1294.59,1410.23 1294.68,1410.47 1294.77,1410.71 1294.86,1410.95 1294.94,1411.19 1295.03,1411.42 1295.12,1411.65 1295.21,1411.89 1295.29,1412.12 1295.38,1412.34 1295.47,1412.57 1295.56,1412.8 1295.64,1413.02 1295.73,1413.24 1295.82,1413.46 1295.91,1413.68 1296,1413.9 1296.08,1414.11 1296.17,1414.33 1296.26,1414.54 1296.35,1414.75 1296.43,1414.96 1296.52,1415.17 1296.61,1415.38 1296.7,1415.58 1296.78,1415.78 1296.87,1415.99 1296.96,1416.19 1297.05,1416.39 1297.13,1416.58 1297.22,1416.78 1297.31,1416.98 1297.4,1417.17 1297.48,1417.36 1297.57,1417.55 1297.66,1417.74 1297.75,1417.93 1297.83,1418.12 1297.92,1418.3 1298.01,1418.49 1298.1,1418.67 1298.18,1418.85 1298.27,1419.03 1298.36,1419.21 1298.45,1419.39 1298.53,1419.56 1298.62,1419.74 1298.71,1419.91 1298.8,1420.09 1298.88,1420.26 1298.97,1420.43 1299.06,1420.6 1299.15,1420.76 1299.24,1420.93 1299.32,1421.09 1299.41,1421.26 1299.5,1421.42 1299.59,1421.58 1299.67,1421.74 1299.76,1421.9 1299.85,1422.06 1299.94,1422.22 1300.02,1422.37 1300.11,1422.53 1300.2,1422.68 1300.29,1422.83 1300.37,1422.98 1300.46,1423.13 1300.55,1423.28 1300.64,1423.43 1300.72,1423.58 1300.81,1423.72 1300.9,1423.87 1300.99,1424.01 1301.07,1424.15 1301.16,1424.29 1301.25,1424.43 1301.34,1424.57 1301.42,1424.71 1301.51,1424.85 1301.6,1424.99 1301.69,1425.12 1301.77,1425.25 1301.86,1425.39 1301.95,1425.52 1302.04,1425.65 1302.12,1425.78 1302.21,1425.91 1302.3,1426.04 1302.39,1426.17 1302.48,1426.29 1302.56,1426.42 1302.65,1426.54 1302.74,1426.66 1302.83,1426.79 1302.91,1426.91 1303,1427.03 1303.09,1427.15 1303.18,1427.27 1303.26,1427.39 1303.35,1427.5 1303.44,1427.62 1303.53,1427.73 1303.61,1427.85 1303.7,1427.96 1303.79,1428.07 1303.88,1428.18 1303.96,1428.3 1304.05,1428.41 1304.14,1428.51 1304.23,1428.62 1304.31,1428.73 1304.4,1428.84 1304.49,1428.94 1304.58,1429.05 1304.66,1429.15 1304.75,1429.25 1304.84,1429.36 1304.93,1429.46 1305.01,1429.56 1305.1,1429.66 1305.19,1429.76 1305.28,1429.86 1305.36,1429.95 1305.45,1430.05 1305.54,1430.15 1305.63,1430.24 1305.71,1430.34 1305.8,1430.43 1305.89,1430.52 1305.98,1430.62 1306.07,1430.71 1306.15,1430.8 1306.24,1430.89 1306.33,1430.98 1306.42,1431.07 1306.5,1431.15 1306.59,1431.24 1306.68,1431.33 1306.77,1431.41 1306.85,1431.5 1306.94,1431.58 1307.03,1431.67 1307.12,1431.75 1307.2,1431.83 1307.29,1431.91 1307.38,1431.99 1307.47,1432.07 1307.55,1432.15 1307.64,1432.23 1307.73,1432.31 1307.82,1432.39 1307.9,1432.46 1307.99,1432.54 1308.08,1432.62 1308.17,1432.69 1308.25,1432.76 1308.34,1432.84 1308.43,1432.91 1308.52,1432.98 1308.6,1433.05 1308.69,1433.13 1308.78,1433.2 1308.87,1433.27 1308.95,1433.33 1309.04,1433.4 1309.13,1433.47 1309.22,1433.54 1309.31,1433.6 1309.39,1433.67 1309.48,1433.74 1309.57,1433.8 1309.66,1433.87 1309.74,1433.93 1309.83,1433.99 1309.92,1434.05 1310.01,1434.12 1310.09,1434.18 1310.18,1434.24 1310.27,1434.3 1310.36,1434.36 1310.44,1434.42 1310.53,1434.48 1310.62,1434.53 1310.71,1434.59 1310.79,1434.65 1310.88,1434.71 1310.97,1434.76 1311.06,1434.82 1311.14,1434.87 1311.23,1434.92 1311.32,1434.98 1311.41,1435.03 1311.49,1435.08 1311.58,1435.14 1311.67,1435.19 1311.76,1435.24 1311.84,1435.29 1311.93,1435.34 1312.02,1435.39 1312.11,1435.44 1312.19,1435.49 1312.28,1435.53 1312.37,1435.58 1312.46,1435.63 1312.55,1435.67 1312.63,1435.72 1312.72,1435.77 1312.81,1435.81 1312.9,1435.85 1312.98,1435.9 1313.07,1435.94 1313.16,1435.98 1313.25,1436.03 1313.33,1436.07 1313.42,1436.11 1313.51,1436.15 1313.6,1436.19 1313.68,1436.23 1313.77,1436.27 1313.86,1436.31 1313.95,1436.35 1314.03,1436.39 1314.12,1436.42 1314.21,1436.46 1314.3,1436.5 1314.38,1436.53 1314.47,1436.57 1314.56,1436.61 1314.65,1436.64 1314.73,1436.68 1314.82,1436.71 1314.91,1436.74 1315,1436.78 1315.08,1436.81 1315.17,1436.84 1315.26,1436.87 1315.35,1436.9 1315.43,1436.93 1315.52,1436.96 1315.61,1436.99 1315.7,1437.02 1315.78,1437.05 1315.87,1437.08 1315.96,1437.11 1316.05,1437.14 1316.14,1437.17 1316.22,1437.19 1316.31,1437.22 1316.4,1437.25 1316.49,1437.27 1316.57,1437.3 1316.66,1437.32 1316.75,1437.35 1316.84,1437.37 1316.92,1437.39 1317.01,1437.42 1317.1,1437.44 1317.19,1437.46 1317.27,1437.48 1317.36,1437.51 1317.45,1437.53 1317.54,1437.55 1317.62,1437.57 1317.71,1437.59 1317.8,1437.61 1317.89,1437.63 1317.97,1437.64 1318.06,1437.66 1318.15,1437.68 1318.24,1437.7 1318.32,1437.72 1318.41,1437.73 1318.5,1437.75 1318.59,1437.76 1318.67,1437.78 1318.76,1437.79 1318.85,1437.81 1318.94,1437.82 1319.02,1437.84 1319.11,1437.85 1319.2,1437.86 1319.29,1437.88 1319.38,1437.89 1319.46,1437.9 1319.55,1437.91 1319.64,1437.92 1319.73,1437.93 1319.81,1437.95 1319.9,1437.96 1319.99,1437.96 1320.08,1437.97 1320.16,1437.98 1320.25,1437.99 1320.34,1438 1320.43,1438.01 1320.51,1438.01 1320.6,1438.02 1320.69,1438.03 1320.78,1438.03 1320.86,1438.04 1320.95,1438.04 1321.04,1438.05 1321.13,1438.05 1321.21,1438.06 1321.3,1438.06 1321.39,1438.07 1321.48,1438.07 1321.56,1438.07 1321.65,1438.07 1321.74,1438.08 1321.83,1438.08 1321.91,1438.08 1322,1438.08 1322.09,1438.08 \"/>\n",
       "</svg>\n"
      ],
      "text/html": [
       "<img src=\"data:image/png;base64,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\" />"
      ]
     },
     "metadata": {},
     "output_type": "display_data"
    }
   ],
   "source": [
    "density = kde(standardized_changes,bandwidth=0.08,kernel=Logistic)\n",
    "kernel_den_raw = DataFrame(x = density.x, q = density.density)\n",
    "histogram(standardized_changes,xlim=[-4,4],normed=true,legend=false)\n",
    "plot!(density.x,density.density,color=:red,linewidth=4)"
   ]
  },
  {
   "cell_type": "markdown",
   "metadata": {
    "jp-MarkdownHeadingCollapsed": true,
    "tags": []
   },
   "source": [
    "----\n",
    "#### Plot the histogram and fitted symmetrized density of standardized changes"
   ]
  },
  {
   "cell_type": "code",
   "execution_count": 22,
   "metadata": {},
   "outputs": [
    {
     "ename": "ArgumentError",
     "evalue": "ArgumentError: collection must be non-empty",
     "output_type": "error",
     "traceback": [
      "ArgumentError: collection must be non-empty\n",
      "\n",
      "Stacktrace:\n",
      " [1] _extrema_itr(f::typeof(identity), itr::Vector{Float64})\n",
      "   @ Base ./operators.jl:483\n",
      " [2] _extrema_dims\n",
      "   @ ./multidimensional.jl:1706 [inlined]\n",
      " [3] #extrema#486\n",
      "   @ ./multidimensional.jl:1693 [inlined]\n",
      " [4] extrema\n",
      "   @ ./multidimensional.jl:1693 [inlined]\n",
      " [5] kde_boundary\n",
      "   @ ~/.julia/packages/KernelDensity/wRVC2/src/univariate.jl:76 [inlined]\n",
      " [6] top-level scope\n",
      "   @ /app/replication/replication_code.ipynb:2"
     ]
    }
   ],
   "source": [
    "standardized_changes_sym = vcat(-standardized_changes[2:end],standardized_changes[2:end])\n",
    "density = kde(standardized_changes_sym,bandwidth=0.08,kernel=Logistic)\n",
    "histogram(standardized_changes,xlim=[-4,4],normed=true,legend=false)\n",
    "plot!(density.x,density.density,color=:red,linewidth=4)"
   ]
  },
  {
   "cell_type": "markdown",
   "metadata": {
    "jp-MarkdownHeadingCollapsed": true,
    "tags": []
   },
   "source": [
    "----\n",
    "#### Plot the symmetrized histogram and fitted symmetrized density of standardized changes"
   ]
  },
  {
   "cell_type": "code",
   "execution_count": 23,
   "metadata": {},
   "outputs": [
    {
     "ename": "ArgumentError",
     "evalue": "ArgumentError: reducing over an empty collection is not allowed",
     "output_type": "error",
     "traceback": [
      "ArgumentError: reducing over an empty collection is not allowed\n",
      "\n",
      "Stacktrace:\n",
      "  [1] _empty_reduce_error()\n",
      "    @ Base ./reduce.jl:299\n",
      "  [2] reduce_empty(op::Function, #unused#::Type{Float64})\n",
      "    @ Base ./reduce.jl:309\n",
      "  [3] mapreduce_empty(#unused#::typeof(identity), op::Function, T::Type)\n",
      "    @ Base ./reduce.jl:343\n",
      "  [4] reduce_empty(op::Base.MappingRF{typeof(identity), typeof(max)}, #unused#::Type{Float64})\n",
      "    @ Base ./reduce.jl:329\n",
      "  [5] reduce_empty_iter\n",
      "    @ ./reduce.jl:355 [inlined]\n",
      "  [6] mapreduce_empty_iter(f::Function, op::Function, itr::Vector{Float64}, ItrEltype::Base.HasEltype)\n",
      "    @ Base ./reduce.jl:351\n",
      "  [7] _mapreduce(f::typeof(identity), op::typeof(max), #unused#::IndexLinear, A::Vector{Float64})\n",
      "    @ Base ./reduce.jl:400\n",
      "  [8] _mapreduce_dim\n",
      "    @ ./reducedim.jl:318 [inlined]\n",
      "  [9] #mapreduce#678\n",
      "    @ ./reducedim.jl:310 [inlined]\n",
      " [10] mapreduce\n",
      "    @ ./reducedim.jl:310 [inlined]\n",
      " [11] #_maximum#696\n",
      "    @ ./reducedim.jl:878 [inlined]\n",
      " [12] _maximum\n",
      "    @ ./reducedim.jl:878 [inlined]\n",
      " [13] #_maximum#695\n",
      "    @ ./reducedim.jl:877 [inlined]\n",
      " [14] _maximum\n",
      "    @ ./reducedim.jl:877 [inlined]\n",
      " [15] #maximum#693\n",
      "    @ ./reducedim.jl:873 [inlined]\n",
      " [16] maximum\n",
      "    @ ./reducedim.jl:873 [inlined]\n",
      " [17] _span\n",
      "    @ ~/.julia/packages/Plots/rz1WP/src/recipes.jl:721 [inlined]\n",
      " [18] _auto_binning_nbins(vs::Tuple{Vector{Float64}}, dim::Int64; mode::Symbol)\n",
      "    @ Plots ~/.julia/packages/Plots/rz1WP/src/recipes.jl:745\n",
      " [19] _hist_edge\n",
      "    @ ~/.julia/packages/Plots/rz1WP/src/recipes.jl:755 [inlined]\n",
      " [20] #257\n",
      "    @ ~/.julia/packages/Plots/rz1WP/src/recipes.jl:766 [inlined]\n",
      " [21] map(f::Plots.var\"#257#258\"{Tuple{Vector{Float64}}, Symbol}, t::Tuple{Int64})\n",
      "    @ Base ./tuple.jl:213\n",
      " [22] _hist_edges(vs::Tuple{Vector{Float64}}, binning::Symbol)\n",
      "    @ Plots ~/.julia/packages/Plots/rz1WP/src/recipes.jl:766\n",
      " [23] _make_hist(vs::Tuple{Vector{Float64}}, binning::Symbol; normed::Bool, weights::Nothing)\n",
      "    @ Plots ~/.julia/packages/Plots/rz1WP/src/recipes.jl:785\n",
      " [24] macro expansion\n",
      "    @ ~/.julia/packages/Plots/rz1WP/src/recipes.jl:809 [inlined]\n",
      " [25] apply_recipe(plotattributes::AbstractDict{Symbol, Any}, #unused#::Type{Val{:barhist}}, x::Any, y::Any, z::Any)\n",
      "    @ Plots ~/.julia/packages/RecipesBase/BRe07/src/RecipesBase.jl:300\n",
      " [26] _process_seriesrecipe(plt::Any, plotattributes::Any)\n",
      "    @ RecipesPipeline ~/.julia/packages/RecipesPipeline/BGM3l/src/series_recipe.jl:50\n",
      " [27] _process_seriesrecipe(plt::Any, plotattributes::Any)\n",
      "    @ RecipesPipeline ~/.julia/packages/RecipesPipeline/BGM3l/src/series_recipe.jl:62\n",
      " [28] _process_seriesrecipes!(plt::Any, kw_list::Any)\n",
      "    @ RecipesPipeline ~/.julia/packages/RecipesPipeline/BGM3l/src/series_recipe.jl:27\n",
      " [29] recipe_pipeline!(plt::Any, plotattributes::Any, args::Any)\n",
      "    @ RecipesPipeline ~/.julia/packages/RecipesPipeline/BGM3l/src/RecipesPipeline.jl:99\n",
      " [30] _plot!(plt::Plots.Plot, plotattributes::Any, args::Any)\n",
      "    @ Plots ~/.julia/packages/Plots/rz1WP/src/plot.jl:223\n",
      " [31] #plot#184\n",
      "    @ ~/.julia/packages/Plots/rz1WP/src/plot.jl:102 [inlined]\n",
      " [32] histogram(args::Any; kw::Any)\n",
      "    @ Plots ~/.julia/packages/RecipesBase/BRe07/src/RecipesBase.jl:427\n",
      " [33] top-level scope\n",
      "    @ /app/replication/replication_code.ipynb:3"
     ]
    }
   ],
   "source": [
    "kernel_den_sta = DataFrame(x = density.x, q = density.density)\n",
    "CSV.write(\"kernel_den_sta.csv\",kernel_den_sta)\n",
    "histogram(standardized_changes_sym,xlim=[-4,4],normed=true,legend=false)\n",
    "plot!(density.x,density.density,color=:red,linewidth=4)"
   ]
  },
  {
   "cell_type": "markdown",
   "metadata": {},
   "source": [
    "----\n",
    "#### Produce the table with the statistics\n",
    "Part of this table is table 1 in the paper\n",
    "Another part goes to the apendix"
   ]
  },
  {
   "cell_type": "code",
   "execution_count": 24,
   "metadata": {},
   "outputs": [],
   "source": [
    "stat_string = DataFrame(category_id = Int64.(statistics.category_id))\n",
    "for name in names(statistics)\n",
    "    stat_string[!,name] = map(x->string(round(x;digits=3)),statistics[:,name])\n",
    "end\n",
    "stat_string[!, :number_price_changes] = Int64.(round.(statistics[!, :number_price_changes]))\n",
    "stat_string[!, :number_of_products] = Int64.(round.(statistics[!, :number_of_products]))\n",
    "stat_string[!, :category_id] = Int64.(round.(statistics[!, :category_id]))\n",
    "CSV.write(\"categories_big_table.csv\",stat_string);"
   ]
  }
 ],
 "metadata": {
  "kernelspec": {
   "display_name": "Julia 1.6.7",
   "language": "julia",
   "name": "julia-1.6"
  },
  "language_info": {
   "file_extension": ".jl",
   "mimetype": "application/julia",
   "name": "julia",
   "version": "1.6.7"
  }
 },
 "nbformat": 4,
 "nbformat_minor": 4
}
